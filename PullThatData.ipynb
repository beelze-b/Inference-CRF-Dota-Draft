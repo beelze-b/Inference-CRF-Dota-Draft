{
 "cells": [
  {
   "cell_type": "code",
   "execution_count": 1,
   "metadata": {},
   "outputs": [],
   "source": [
    "import numpy as np\n",
    "import pandas as pd\n",
    "\n",
    "\n",
    "import requests as rqt\n",
    "import time\n",
    "\n",
    "from os import listdir\n",
    "\n",
    "import time\n",
    "import pickle\n",
    "\n",
    "from json.decoder import JSONDecodeError"
   ]
  },
  {
   "cell_type": "markdown",
   "metadata": {},
   "source": [
    "List of the IDs of the most popular heroes.\n",
    "\n",
    "Got this manually"
   ]
  },
  {
   "cell_type": "code",
   "execution_count": 2,
   "metadata": {},
   "outputs": [],
   "source": [
    "# this seems right\n",
    "# https://github.com/kronusme/dota2-api/blob/master/data/heroes.json\n",
    "# this agrees https://liquipedia.net/dota2/MediaWiki:Dota2webapi-heroes.json\n",
    "most_popular_heroes = [\n",
    "    14, # pudge\n",
    "    26, # lion\n",
    "    74, # invoker,\n",
    "    84, # ogre_magi\n",
    "    41, # faceless_void\n",
    "    21, # windrunner / windranger\n",
    "    7, # earthshaker\n",
    "    104, # legion_commander\n",
    "    9, # mirana\n",
    "    44, # phantom_assassin\n",
    "    22, # zeus\n",
    "    93, # slark\n",
    "    5, # crystal_maiden\n",
    "    8, # juggernaut\n",
    "    86, # rubick\n",
    "    35, # sniper\n",
    "    6, # drow_ranger\n",
    "    101, # skywrath_mage\n",
    "    25, # lina\n",
    "    2, # axe\n",
    "    114, # monkey king\n",
    "    27, # shadow shaman\n",
    "    23, # kunkka\n",
    "    99, # bristleback\n",
    "    30, # witch_doctor\n",
    "    32, # riki\n",
    "    34, # tinker\n",
    "    75, # silencer\n",
    "    1, # anti mage\n",
    "    42, # skeletonking/wraithking\n",
    "    50, # dazzle\n",
    "    90, # keeper of the light\n",
    "    106, # ember spirit\n",
    "    62, # bounty hunter\n",
    "    60, # night stalker\n",
    "    54, # life stealer\n",
    "    17, # storm spirit\n",
    "    3, # bane\n",
    "    37, # warlock\n",
    "    47, # viper\n",
    "    113, # arc warden\n",
    "    64, # jakiro\n",
    "    72, # gyro\n",
    "    81 # chaos knight\n",
    "]"
   ]
  },
  {
   "cell_type": "markdown",
   "metadata": {},
   "source": [
    "Example of pulling a match"
   ]
  },
  {
   "cell_type": "code",
<<<<<<< HEAD
   "execution_count": 3,
=======
   "execution_count": 6,
>>>>>>> brian
   "metadata": {},
   "outputs": [],
   "source": [
    "BASE_PATH = \"https://api.opendota.com/api\"\n",
    "QUERY_PATH = \"/matches/\""
   ]
  },
  {
   "cell_type": "code",
<<<<<<< HEAD
   "execution_count": 4,
=======
   "execution_count": 7,
>>>>>>> brian
   "metadata": {},
   "outputs": [],
   "source": [
    "response = rqt.get(BASE_PATH + QUERY_PATH + str(5117768313))"
   ]
  },
  {
   "cell_type": "code",
<<<<<<< HEAD
   "execution_count": 5,
=======
   "execution_count": 8,
>>>>>>> brian
   "metadata": {},
   "outputs": [
    {
     "name": "stdout",
     "output_type": "stream",
     "text": [
      "{'match_id': 5117768313, 'barracks_status_dire': 51, 'barracks_status_radiant': 3, 'chat': None, 'cluster': 123, 'cosmetics': None, 'dire_score': 35, 'dire_team_id': None, 'draft_timings': None, 'duration': 1486, 'engine': 1, 'first_blood_time': 77, 'game_mode': 23, 'human_players': 10, 'leagueid': 0, 'lobby_type': 0, 'match_seq_num': 4294271910, 'negative_votes': 0, 'objectives': None, 'picks_bans': [{'is_pick': False, 'hero_id': 37, 'team': 0, 'order': 0}, {'is_pick': False, 'hero_id': 101, 'team': 0, 'order': 1}], 'positive_votes': 0, 'radiant_gold_adv': None, 'radiant_score': 34, 'radiant_team_id': None, 'radiant_win': False, 'radiant_xp_adv': None, 'skill': 1, 'start_time': 1574060399, 'teamfights': None, 'tower_status_dire': 1796, 'tower_status_radiant': 6, 'version': None, 'replay_salt': 57364465, 'series_id': 0, 'series_type': 0, 'players': [{'match_id': 5117768313, 'player_slot': 0, 'ability_targets': None, 'ability_upgrades_arr': [5605, 5603, 5605, 5604, 5603, 5606, 5605, 5605, 5603, 6009, 5604, 5606, 5604, 5604, 5603, 6176, 5606, 6922], 'ability_uses': None, 'account_id': None, 'actions': None, 'additional_units': None, 'assists': 10, 'backpack_0': 0, 'backpack_1': 0, 'backpack_2': 0, 'buyback_log': None, 'camps_stacked': None, 'connection_log': None, 'creeps_stacked': None, 'damage': None, 'damage_inflictor': None, 'damage_inflictor_received': None, 'damage_taken': None, 'damage_targets': None, 'deaths': 10, 'denies': 2, 'dn_t': None, 'firstblood_claimed': None, 'gold': 870, 'gold_per_min': 572, 'gold_reasons': None, 'gold_spent': 11665, 'gold_t': None, 'hero_damage': 8640, 'hero_healing': 0, 'hero_hits': None, 'hero_id': 106, 'item_0': 182, 'item_1': 100, 'item_2': 75, 'item_3': 108, 'item_4': 166, 'item_5': 29, 'item_uses': None, 'kill_streaks': None, 'killed': None, 'killed_by': None, 'kills': 2, 'kills_log': None, 'lane_pos': None, 'last_hits': 34, 'leaver_status': 0, 'level': 23, 'lh_t': None, 'life_state': None, 'max_hero_hit': None, 'multi_kills': None, 'obs': None, 'obs_left_log': None, 'obs_log': None, 'obs_placed': None, 'party_id': 0, 'party_size': 1, 'performance_others': None, 'permanent_buffs': None, 'pings': None, 'pred_vict': None, 'purchase': None, 'purchase_log': None, 'randomed': None, 'repicked': None, 'roshans_killed': None, 'rune_pickups': None, 'runes': None, 'runes_log': None, 'sen': None, 'sen_left_log': None, 'sen_log': None, 'sen_placed': None, 'stuns': None, 'teamfight_participation': None, 'times': None, 'tower_damage': 1139, 'towers_killed': None, 'xp_per_min': 948, 'xp_reasons': None, 'xp_t': None, 'radiant_win': False, 'start_time': 1574060399, 'duration': 1486, 'cluster': 123, 'lobby_type': 0, 'game_mode': 23, 'is_contributor': False, 'patch': 41, 'region': 2, 'isRadiant': True, 'win': 0, 'lose': 1, 'total_gold': 14166, 'total_xp': 23478, 'kills_per_min': 0.08075370121130553, 'kda': 1, 'abandons': 0, 'rank_tier': None, 'cosmetics': [], 'benchmarks': {'gold_per_min': {'raw': 572, 'pct': 0.7538015930485156}, 'xp_per_min': {'raw': 948, 'pct': 0.9956553222302679}, 'kills_per_min': {'raw': 0.08075370121130551, 'pct': 0.08182476466328747}, 'last_hits_per_min': {'raw': 1.3728129205921937, 'pct': 0.004344677769732078}, 'hero_damage_per_min': {'raw': 348.8559892328398, 'pct': 0.03403330919623461}, 'hero_healing_per_min': {'raw': 0, 'pct': 0.7262853005068791}, 'tower_damage': {'raw': 1139, 'pct': 0.5126719768283853}, 'stuns_per_min': {'raw': 0, 'pct': 0.007965242577842143}, 'lhten': {}}}, {'match_id': 5117768313, 'player_slot': 1, 'ability_targets': None, 'ability_upgrades_arr': [5103, 5102, 5103, 5102, 5103, 5105, 5103, 5102, 5102, 5918, 5104, 5105, 5104, 5104, 6409, 5104, 5105, 6207, 6302], 'ability_uses': None, 'account_id': 113051389, 'actions': None, 'additional_units': None, 'assists': 10, 'backpack_0': 0, 'backpack_1': 0, 'backpack_2': 0, 'buyback_log': None, 'camps_stacked': None, 'connection_log': None, 'creeps_stacked': None, 'damage': None, 'damage_inflictor': None, 'damage_inflictor_received': None, 'damage_taken': None, 'damage_targets': None, 'deaths': 5, 'denies': 6, 'dn_t': None, 'firstblood_claimed': None, 'gold': 2623, 'gold_per_min': 1094, 'gold_reasons': None, 'gold_spent': 25300, 'gold_t': None, 'hero_damage': 32852, 'hero_healing': 290, 'hero_hits': None, 'hero_id': 16, 'item_0': 232, 'item_1': 137, 'item_2': 190, 'item_3': 1, 'item_4': 180, 'item_5': 273, 'item_uses': None, 'kill_streaks': None, 'killed': None, 'killed_by': None, 'kills': 14, 'kills_log': None, 'lane_pos': None, 'last_hits': 120, 'leaver_status': 0, 'level': 25, 'lh_t': None, 'life_state': None, 'max_hero_hit': None, 'multi_kills': None, 'obs': None, 'obs_left_log': None, 'obs_log': None, 'obs_placed': None, 'party_id': 1, 'party_size': 2, 'performance_others': None, 'permanent_buffs': [{'permanent_buff': 2, 'stack_count': 0}, {'permanent_buff': 6, 'stack_count': 1}], 'pings': None, 'pred_vict': None, 'purchase': None, 'purchase_log': None, 'randomed': None, 'repicked': None, 'roshans_killed': None, 'rune_pickups': None, 'runes': None, 'runes_log': None, 'sen': None, 'sen_left_log': None, 'sen_log': None, 'sen_placed': None, 'stuns': None, 'teamfight_participation': None, 'times': None, 'tower_damage': 213, 'towers_killed': None, 'xp_per_min': 1596, 'xp_reasons': None, 'xp_t': None, 'personaname': 'Brazuvian', 'name': None, 'last_login': None, 'radiant_win': False, 'start_time': 1574060399, 'duration': 1486, 'cluster': 123, 'lobby_type': 0, 'game_mode': 23, 'is_contributor': False, 'patch': 41, 'region': 2, 'isRadiant': True, 'win': 0, 'lose': 1, 'total_gold': 27094, 'total_xp': 39527, 'kills_per_min': 0.5652759084791387, 'kda': 4, 'abandons': 0, 'rank_tier': None, 'cosmetics': [], 'benchmarks': {'gold_per_min': {'raw': 1094, 'pct': 1}, 'xp_per_min': {'raw': 1596, 'pct': 1}, 'kills_per_min': {'raw': 0.5652759084791387, 'pct': 0.9990476190476191}, 'last_hits_per_min': {'raw': 4.845222072678331, 'pct': 0.6723809523809524}, 'hero_damage_per_min': {'raw': 1326.4602960969044, 'pct': 0.9914285714285714}, 'hero_healing_per_min': {'raw': 11.7092866756393, 'pct': 0.8695238095238095}, 'tower_damage': {'raw': 213, 'pct': 0.34095238095238095}, 'stuns_per_min': {'raw': 0, 'pct': 0.002857142857142857}, 'lhten': {}}}, {'match_id': 5117768313, 'player_slot': 2, 'ability_targets': None, 'ability_upgrades_arr': [5496, 5495, 5496, 5495, 5496, 5497, 5496, 5494, 5495, 5495, 5494, 5494, 7384, 5494, 5497, 5907, 5497, 6147], 'ability_uses': None, 'account_id': 138896944, 'actions': None, 'additional_units': None, 'assists': 16, 'backpack_0': 0, 'backpack_1': 0, 'backpack_2': 0, 'buyback_log': None, 'camps_stacked': None, 'connection_log': None, 'creeps_stacked': None, 'damage': None, 'damage_inflictor': None, 'damage_inflictor_received': None, 'damage_taken': None, 'damage_targets': None, 'deaths': 5, 'denies': 6, 'dn_t': None, 'firstblood_claimed': None, 'gold': 932, 'gold_per_min': 811, 'gold_reasons': None, 'gold_spent': 20315, 'gold_t': None, 'hero_damage': 21803, 'hero_healing': 0, 'hero_hits': None, 'hero_id': 93, 'item_0': 252, 'item_1': 11, 'item_2': 63, 'item_3': 249, 'item_4': 143, 'item_5': 160, 'item_uses': None, 'kill_streaks': None, 'killed': None, 'killed_by': None, 'kills': 7, 'kills_log': None, 'lane_pos': None, 'last_hits': 76, 'leaver_status': 0, 'level': 24, 'lh_t': None, 'life_state': None, 'max_hero_hit': None, 'multi_kills': None, 'obs': None, 'obs_left_log': None, 'obs_log': None, 'obs_placed': None, 'party_id': 1, 'party_size': 2, 'performance_others': None, 'permanent_buffs': [{'permanent_buff': 8, 'stack_count': 20}], 'pings': None, 'pred_vict': None, 'purchase': None, 'purchase_log': None, 'randomed': None, 'repicked': None, 'roshans_killed': None, 'rune_pickups': None, 'runes': None, 'runes_log': None, 'sen': None, 'sen_left_log': None, 'sen_log': None, 'sen_placed': None, 'stuns': None, 'teamfight_participation': None, 'times': None, 'tower_damage': 3195, 'towers_killed': None, 'xp_per_min': 1050, 'xp_reasons': None, 'xp_t': None, 'personaname': 'Whoop de scoop', 'name': None, 'last_login': None, 'radiant_win': False, 'start_time': 1574060399, 'duration': 1486, 'cluster': 123, 'lobby_type': 0, 'game_mode': 23, 'is_contributor': False, 'patch': 41, 'region': 2, 'isRadiant': True, 'win': 0, 'lose': 1, 'total_gold': 20085, 'total_xp': 26005, 'kills_per_min': 0.28263795423956933, 'kda': 3, 'abandons': 0, 'rank_tier': 53, 'cosmetics': [], 'benchmarks': {'gold_per_min': {'raw': 811, 'pct': 0.9968270756213644}, 'xp_per_min': {'raw': 1050, 'pct': 1}, 'kills_per_min': {'raw': 0.28263795423956933, 'pct': 0.698572184029614}, 'last_hits_per_min': {'raw': 3.0686406460296096, 'pct': 0.05023796932839767}, 'hero_damage_per_min': {'raw': 880.3364737550471, 'pct': 0.8720253833950291}, 'hero_healing_per_min': {'raw': 0, 'pct': 0.9841353781068218}, 'tower_damage': {'raw': 3195, 'pct': 0.5346377578001058}, 'stuns_per_min': {'raw': 0, 'pct': 0.6314119513484928}, 'lhten': {}}}, {'match_id': 5117768313, 'player_slot': 3, 'ability_targets': None, 'ability_upgrades_arr': [5233, 5234, 5233, 5235, 5233, 7304, 5233, 5234, 5234, 5235, 5942, 7304, 5235, 6114, 5235, 5234, 7304, 6093, 6049], 'ability_uses': None, 'account_id': None, 'actions': None, 'additional_units': None, 'assists': 12, 'backpack_0': 0, 'backpack_1': 0, 'backpack_2': 0, 'buyback_log': None, 'camps_stacked': None, 'connection_log': None, 'creeps_stacked': None, 'damage': None, 'damage_inflictor': None, 'damage_inflictor_received': None, 'damage_taken': None, 'damage_targets': None, 'deaths': 10, 'denies': 1, 'dn_t': None, 'firstblood_claimed': None, 'gold': 2048, 'gold_per_min': 630, 'gold_reasons': None, 'gold_spent': 12035, 'gold_t': None, 'hero_damage': 8983, 'hero_healing': 9136, 'hero_hits': None, 'hero_id': 50, 'item_0': 102, 'item_1': 181, 'item_2': 42, 'item_3': 231, 'item_4': 0, 'item_5': 69, 'item_uses': None, 'kill_streaks': None, 'killed': None, 'killed_by': None, 'kills': 3, 'kills_log': None, 'lane_pos': None, 'last_hits': 37, 'leaver_status': 0, 'level': 25, 'lh_t': None, 'life_state': None, 'max_hero_hit': None, 'multi_kills': None, 'obs': None, 'obs_left_log': None, 'obs_log': None, 'obs_placed': None, 'party_id': 2, 'party_size': 1, 'performance_others': None, 'permanent_buffs': [{'permanent_buff': 6, 'stack_count': 2}], 'pings': None, 'pred_vict': None, 'purchase': None, 'purchase_log': None, 'randomed': None, 'repicked': None, 'roshans_killed': None, 'rune_pickups': None, 'runes': None, 'runes_log': None, 'sen': None, 'sen_left_log': None, 'sen_log': None, 'sen_placed': None, 'stuns': None, 'teamfight_participation': None, 'times': None, 'tower_damage': 813, 'towers_killed': None, 'xp_per_min': 1295, 'xp_reasons': None, 'xp_t': None, 'radiant_win': False, 'start_time': 1574060399, 'duration': 1486, 'cluster': 123, 'lobby_type': 0, 'game_mode': 23, 'is_contributor': False, 'patch': 41, 'region': 2, 'isRadiant': True, 'win': 0, 'lose': 1, 'total_gold': 15603, 'total_xp': 32072, 'kills_per_min': 0.12113055181695828, 'kda': 1, 'abandons': 0, 'rank_tier': None, 'cosmetics': [], 'benchmarks': {'gold_per_min': {'raw': 630, 'pct': 0.9916349809885932}, 'xp_per_min': {'raw': 1295, 'pct': 1}, 'kills_per_min': {'raw': 0.12113055181695828, 'pct': 0.6273764258555133}, 'last_hits_per_min': {'raw': 1.493943472409152, 'pct': 0.39695817490494295}, 'hero_damage_per_min': {'raw': 362.7052489905787, 'pct': 0.6486692015209126}, 'hero_healing_per_min': {'raw': 368.88290713324363, 'pct': 0.8722433460076046}, 'tower_damage': {'raw': 813, 'pct': 0.5467680608365019}, 'stuns_per_min': {'raw': 0, 'pct': 0.9140684410646388}, 'lhten': {}}}, {'match_id': 5117768313, 'player_slot': 4, 'ability_targets': None, 'ability_upgrades_arr': [5009, 5008, 5009, 5008, 5007, 5010, 5009, 5007, 5009, 6210, 5007, 5010, 5008, 5007, 6160, 5010, 5008, 6815, 6102], 'ability_uses': None, 'account_id': None, 'actions': None, 'additional_units': None, 'assists': 8, 'backpack_0': 0, 'backpack_1': 0, 'backpack_2': 0, 'buyback_log': None, 'camps_stacked': None, 'connection_log': None, 'creeps_stacked': None, 'damage': None, 'damage_inflictor': None, 'damage_inflictor_received': None, 'damage_taken': None, 'damage_targets': None, 'deaths': 5, 'denies': 0, 'dn_t': None, 'firstblood_claimed': None, 'gold': 809, 'gold_per_min': 1084, 'gold_reasons': None, 'gold_spent': 24730, 'gold_t': None, 'hero_damage': 23269, 'hero_healing': 0, 'hero_hits': None, 'hero_id': 2, 'item_0': 220, 'item_1': 1, 'item_2': 127, 'item_3': 176, 'item_4': 114, 'item_5': 125, 'item_uses': None, 'kill_streaks': None, 'killed': None, 'killed_by': None, 'kills': 8, 'kills_log': None, 'lane_pos': None, 'last_hits': 108, 'leaver_status': 0, 'level': 25, 'lh_t': None, 'life_state': None, 'max_hero_hit': None, 'multi_kills': None, 'obs': None, 'obs_left_log': None, 'obs_log': None, 'obs_placed': None, 'party_id': 3, 'party_size': 1, 'performance_others': None, 'permanent_buffs': None, 'pings': None, 'pred_vict': None, 'purchase': None, 'purchase_log': None, 'randomed': None, 'repicked': None, 'roshans_killed': None, 'rune_pickups': None, 'runes': None, 'runes_log': None, 'sen': None, 'sen_left_log': None, 'sen_log': None, 'sen_placed': None, 'stuns': None, 'teamfight_participation': None, 'times': None, 'tower_damage': 1908, 'towers_killed': None, 'xp_per_min': 1322, 'xp_reasons': None, 'xp_t': None, 'radiant_win': False, 'start_time': 1574060399, 'duration': 1486, 'cluster': 123, 'lobby_type': 0, 'game_mode': 23, 'is_contributor': False, 'patch': 41, 'region': 2, 'isRadiant': True, 'win': 0, 'lose': 1, 'total_gold': 26847, 'total_xp': 32741, 'kills_per_min': 0.3230148048452221, 'kda': 2, 'abandons': 0, 'rank_tier': None, 'cosmetics': [], 'benchmarks': {'gold_per_min': {'raw': 1084, 'pct': 1}, 'xp_per_min': {'raw': 1322, 'pct': 1}, 'kills_per_min': {'raw': 0.32301480484522205, 'pct': 0.8062375580623756}, 'last_hits_per_min': {'raw': 4.360699865410497, 'pct': 0.5235567352355673}, 'hero_damage_per_min': {'raw': 939.5289367429341, 'pct': 0.9323158593231586}, 'hero_healing_per_min': {'raw': 0, 'pct': 0.9588586595885866}, 'tower_damage': {'raw': 1908, 'pct': 0.6980756469807564}, 'stuns_per_min': {'raw': 0, 'pct': 0.9216987392169874}, 'lhten': {}}}, {'match_id': 5117768313, 'player_slot': 128, 'ability_targets': None, 'ability_upgrades_arr': [5334, 5336, 5334, 5336, 5336, 5334, 5337, 5336, 5334, 5335, 5335, 5921, 5337, 5335, 5335, 6148, 5337, 6235, 6903], 'ability_uses': None, 'account_id': 82819585, 'actions': None, 'additional_units': None, 'assists': 21, 'backpack_0': 0, 'backpack_1': 0, 'backpack_2': 0, 'buyback_log': None, 'camps_stacked': None, 'connection_log': None, 'creeps_stacked': None, 'damage': None, 'damage_inflictor': None, 'damage_inflictor_received': None, 'damage_taken': None, 'damage_targets': None, 'deaths': 6, 'denies': 2, 'dn_t': None, 'firstblood_claimed': None, 'gold': 2004, 'gold_per_min': 886, 'gold_reasons': None, 'gold_spent': 21065, 'gold_t': None, 'hero_damage': 33681, 'hero_healing': 0, 'hero_hits': None, 'hero_id': 67, 'item_0': 50, 'item_1': 127, 'item_2': 90, 'item_3': 125, 'item_4': 114, 'item_5': 137, 'item_uses': None, 'kill_streaks': None, 'killed': None, 'killed_by': None, 'kills': 6, 'kills_log': None, 'lane_pos': None, 'last_hits': 41, 'leaver_status': 0, 'level': 25, 'lh_t': None, 'life_state': None, 'max_hero_hit': None, 'multi_kills': None, 'obs': None, 'obs_left_log': None, 'obs_log': None, 'obs_placed': None, 'party_id': 4, 'party_size': 1, 'performance_others': None, 'permanent_buffs': [{'permanent_buff': 6, 'stack_count': 1}], 'pings': None, 'pred_vict': None, 'purchase': None, 'purchase_log': None, 'randomed': None, 'repicked': None, 'roshans_killed': None, 'rune_pickups': None, 'runes': None, 'runes_log': None, 'sen': None, 'sen_left_log': None, 'sen_log': None, 'sen_placed': None, 'stuns': None, 'teamfight_participation': None, 'times': None, 'tower_damage': 959, 'towers_killed': None, 'xp_per_min': 1500, 'xp_reasons': None, 'xp_t': None, 'personaname': '𐂃𐂃', 'name': None, 'last_login': None, 'radiant_win': False, 'start_time': 1574060399, 'duration': 1486, 'cluster': 123, 'lobby_type': 0, 'game_mode': 23, 'is_contributor': False, 'patch': 41, 'region': 2, 'isRadiant': False, 'win': 1, 'lose': 0, 'total_gold': 21943, 'total_xp': 37150, 'kills_per_min': 0.24226110363391656, 'kda': 3, 'abandons': 0, 'rank_tier': None, 'cosmetics': [], 'benchmarks': {'gold_per_min': {'raw': 886, 'pct': 1}, 'xp_per_min': {'raw': 1500, 'pct': 1}, 'kills_per_min': {'raw': 0.24226110363391656, 'pct': 0.7351190476190477}, 'last_hits_per_min': {'raw': 1.6554508748317631, 'pct': 0.00744047619047619}, 'hero_damage_per_min': {'raw': 1359.9327052489907, 'pct': 0.9508928571428571}, 'hero_healing_per_min': {'raw': 0, 'pct': 0.9627976190476191}, 'tower_damage': {'raw': 959, 'pct': 0.40773809523809523}, 'stuns_per_min': {'raw': 0, 'pct': 0.7752976190476191}, 'lhten': {}}}, {'match_id': 5117768313, 'player_slot': 129, 'ability_targets': None, 'ability_upgrades_arr': [5044, 5046, 5044, 5045, 5044, 5047, 5044, 5045, 5045, 5968, 5046, 5047, 5045, 5046, 6600, 5046, 5047, 6235, 6678], 'ability_uses': None, 'account_id': 110168834, 'actions': None, 'additional_units': None, 'assists': 12, 'backpack_0': 0, 'backpack_1': 0, 'backpack_2': 0, 'buyback_log': None, 'camps_stacked': None, 'connection_log': None, 'creeps_stacked': None, 'damage': None, 'damage_inflictor': None, 'damage_inflictor_received': None, 'damage_taken': None, 'damage_targets': None, 'deaths': 7, 'denies': 0, 'dn_t': None, 'firstblood_claimed': None, 'gold': 2216, 'gold_per_min': 784, 'gold_reasons': None, 'gold_spent': 17985, 'gold_t': None, 'hero_damage': 14523, 'hero_healing': 0, 'hero_hits': None, 'hero_id': 26, 'item_0': 108, 'item_1': 1, 'item_2': 63, 'item_3': 176, 'item_4': 215, 'item_5': 259, 'item_uses': None, 'kill_streaks': None, 'killed': None, 'killed_by': None, 'kills': 4, 'kills_log': None, 'lane_pos': None, 'last_hits': 16, 'leaver_status': 0, 'level': 25, 'lh_t': None, 'life_state': None, 'max_hero_hit': None, 'multi_kills': None, 'obs': None, 'obs_left_log': None, 'obs_log': None, 'obs_placed': None, 'party_id': 5, 'party_size': 1, 'performance_others': None, 'permanent_buffs': [{'permanent_buff': 7, 'stack_count': 6}], 'pings': None, 'pred_vict': None, 'purchase': None, 'purchase_log': None, 'randomed': None, 'repicked': None, 'roshans_killed': None, 'rune_pickups': None, 'runes': None, 'runes_log': None, 'sen': None, 'sen_left_log': None, 'sen_log': None, 'sen_placed': None, 'stuns': None, 'teamfight_participation': None, 'times': None, 'tower_damage': 758, 'towers_killed': None, 'xp_per_min': 1419, 'xp_reasons': None, 'xp_t': None, 'personaname': 'just fucking play dota', 'name': None, 'last_login': '2018-09-20T05:55:49.152Z', 'radiant_win': False, 'start_time': 1574060399, 'duration': 1486, 'cluster': 123, 'lobby_type': 0, 'game_mode': 23, 'is_contributor': False, 'patch': 41, 'region': 2, 'isRadiant': False, 'win': 1, 'lose': 0, 'total_gold': 19417, 'total_xp': 35143, 'kills_per_min': 0.16150740242261105, 'kda': 2, 'abandons': 0, 'rank_tier': None, 'cosmetics': [], 'benchmarks': {'gold_per_min': {'raw': 784, 'pct': 0.9993103448275862}, 'xp_per_min': {'raw': 1419, 'pct': 1}, 'kills_per_min': {'raw': 0.16150740242261102, 'pct': 0.6989655172413793}, 'last_hits_per_min': {'raw': 0.6460296096904441, 'pct': 0.2410344827586207}, 'hero_damage_per_min': {'raw': 586.393001345895, 'pct': 0.95}, 'hero_healing_per_min': {'raw': 0, 'pct': 0.8113793103448276}, 'tower_damage': {'raw': 758, 'pct': 0.7496551724137931}, 'stuns_per_min': {'raw': 0, 'pct': 0.0003448275862068965}, 'lhten': {}}}, {'match_id': 5117768313, 'player_slot': 130, 'ability_targets': None, 'ability_upgrades_arr': [5371, 5370, 5371, 5370, 5371, 5370, 5371, 5370, 5371, 7390, 5371, 5372, 5372, 5371, 7148, 5372, 5372, 5372, 5372, 6656, 5372, 5370, 5370, 5370, 6098], 'ability_uses': None, 'account_id': 54325937, 'actions': None, 'additional_units': None, 'assists': 18, 'backpack_0': 0, 'backpack_1': 0, 'backpack_2': 0, 'buyback_log': None, 'camps_stacked': None, 'connection_log': None, 'creeps_stacked': None, 'damage': None, 'damage_inflictor': None, 'damage_inflictor_received': None, 'damage_taken': None, 'damage_targets': None, 'deaths': 4, 'denies': 11, 'dn_t': None, 'firstblood_claimed': None, 'gold': 4546, 'gold_per_min': 914, 'gold_reasons': None, 'gold_spent': 20015, 'gold_t': None, 'hero_damage': 29472, 'hero_healing': 9, 'hero_hits': None, 'hero_id': 74, 'item_0': 108, 'item_1': 48, 'item_2': 267, 'item_3': 0, 'item_4': 1, 'item_5': 116, 'item_uses': None, 'kill_streaks': None, 'killed': None, 'killed_by': None, 'kills': 4, 'kills_log': None, 'lane_pos': None, 'last_hits': 86, 'leaver_status': 0, 'level': 25, 'lh_t': None, 'life_state': None, 'max_hero_hit': None, 'multi_kills': None, 'obs': None, 'obs_left_log': None, 'obs_log': None, 'obs_placed': None, 'party_id': 6, 'party_size': 1, 'performance_others': None, 'permanent_buffs': [{'permanent_buff': 6, 'stack_count': 1}], 'pings': None, 'pred_vict': None, 'purchase': None, 'purchase_log': None, 'randomed': None, 'repicked': None, 'roshans_killed': None, 'rune_pickups': None, 'runes': None, 'runes_log': None, 'sen': None, 'sen_left_log': None, 'sen_log': None, 'sen_placed': None, 'stuns': None, 'teamfight_participation': None, 'times': None, 'tower_damage': 3830, 'towers_killed': None, 'xp_per_min': 1315, 'xp_reasons': None, 'xp_t': None, 'personaname': 'Giorno Giovanna', 'name': None, 'last_login': '2017-06-20T03:37:14.471Z', 'radiant_win': False, 'start_time': 1574060399, 'duration': 1486, 'cluster': 123, 'lobby_type': 0, 'game_mode': 23, 'is_contributor': False, 'patch': 41, 'region': 2, 'isRadiant': False, 'win': 1, 'lose': 0, 'total_gold': 22636, 'total_xp': 32568, 'kills_per_min': 0.16150740242261105, 'kda': 4, 'abandons': 0, 'rank_tier': None, 'cosmetics': [], 'benchmarks': {'gold_per_min': {'raw': 914, 'pct': 1}, 'xp_per_min': {'raw': 1315, 'pct': 1}, 'kills_per_min': {'raw': 0.16150740242261102, 'pct': 0.39852150537634407}, 'last_hits_per_min': {'raw': 3.4724091520861373, 'pct': 0.32594086021505375}, 'hero_damage_per_min': {'raw': 1189.9865410497982, 'pct': 0.9680779569892473}, 'hero_healing_per_min': {'raw': 0.3633916554508748, 'pct': 0.8770161290322581}, 'tower_damage': {'raw': 3830, 'pct': 0.6935483870967742}, 'stuns_per_min': {'raw': 0, 'pct': 0.0010080645161290322}, 'lhten': {}}}, {'match_id': 5117768313, 'player_slot': 131, 'ability_targets': None, 'ability_upgrades_arr': [5021, 5019, 5021, 5632, 5021, 5022, 5021, 5632, 5632, 5022, 5921, 6170, 5019, 5632, 5019, 5019, 5022, 6634, 6202], 'ability_uses': None, 'account_id': 194151880, 'actions': None, 'additional_units': None, 'assists': 13, 'backpack_0': 0, 'backpack_1': 0, 'backpack_2': 0, 'buyback_log': None, 'camps_stacked': None, 'connection_log': None, 'creeps_stacked': None, 'damage': None, 'damage_inflictor': None, 'damage_inflictor_received': None, 'damage_taken': None, 'damage_targets': None, 'deaths': 10, 'denies': 0, 'dn_t': None, 'firstblood_claimed': None, 'gold': 2232, 'gold_per_min': 974, 'gold_reasons': None, 'gold_spent': 22835, 'gold_t': None, 'hero_damage': 17739, 'hero_healing': 0, 'hero_hits': None, 'hero_id': 6, 'item_0': 147, 'item_1': 10, 'item_2': 156, 'item_3': 139, 'item_4': 67, 'item_5': 63, 'item_uses': None, 'kill_streaks': None, 'killed': None, 'killed_by': None, 'kills': 3, 'kills_log': None, 'lane_pos': None, 'last_hits': 93, 'leaver_status': 0, 'level': 25, 'lh_t': None, 'life_state': None, 'max_hero_hit': None, 'multi_kills': None, 'obs': None, 'obs_left_log': None, 'obs_log': None, 'obs_placed': None, 'party_id': 7, 'party_size': 2, 'performance_others': None, 'permanent_buffs': [{'permanent_buff': 6, 'stack_count': 1}], 'pings': None, 'pred_vict': None, 'purchase': None, 'purchase_log': None, 'randomed': None, 'repicked': None, 'roshans_killed': None, 'rune_pickups': None, 'runes': None, 'runes_log': None, 'sen': None, 'sen_left_log': None, 'sen_log': None, 'sen_placed': None, 'stuns': None, 'teamfight_participation': None, 'times': None, 'tower_damage': 7530, 'towers_killed': None, 'xp_per_min': 1204, 'xp_reasons': None, 'xp_t': None, 'personaname': 'Ainz Ooal Gown', 'name': None, 'last_login': None, 'radiant_win': False, 'start_time': 1574060399, 'duration': 1486, 'cluster': 123, 'lobby_type': 0, 'game_mode': 23, 'is_contributor': False, 'patch': 41, 'region': 2, 'isRadiant': False, 'win': 1, 'lose': 0, 'total_gold': 24122, 'total_xp': 29819, 'kills_per_min': 0.12113055181695828, 'kda': 1, 'abandons': 0, 'rank_tier': 45, 'cosmetics': [], 'benchmarks': {'gold_per_min': {'raw': 974, 'pct': 0.998533724340176}, 'xp_per_min': {'raw': 1204, 'pct': 1}, 'kills_per_min': {'raw': 0.12113055181695828, 'pct': 0.32404692082111436}, 'last_hits_per_min': {'raw': 3.7550471063257063, 'pct': 0.06256109481915934}, 'hero_damage_per_min': {'raw': 716.2449528936743, 'pct': 0.8318670576735093}, 'hero_healing_per_min': {'raw': 0, 'pct': 0.967741935483871}, 'tower_damage': {'raw': 7530, 'pct': 0.739980449657869}, 'stuns_per_min': {'raw': 0, 'pct': 0.9775171065493646}, 'lhten': {}}}, {'match_id': 5117768313, 'player_slot': 132, 'ability_targets': None, 'ability_upgrades_arr': [5245, 5246, 5245, 5246, 5245, 5248, 5245, 5246, 5246, 5939, 5247, 5248, 5247, 5247, 6004, 5247, 5248, 6210, 6539], 'ability_uses': None, 'account_id': 316988622, 'actions': None, 'additional_units': None, 'assists': 13, 'backpack_0': 63, 'backpack_1': 0, 'backpack_2': 0, 'buyback_log': None, 'camps_stacked': None, 'connection_log': None, 'creeps_stacked': None, 'damage': None, 'damage_inflictor': None, 'damage_inflictor_received': None, 'damage_taken': None, 'damage_targets': None, 'deaths': 7, 'denies': 2, 'dn_t': None, 'firstblood_claimed': None, 'gold': 4467, 'gold_per_min': 1407, 'gold_reasons': None, 'gold_spent': 31050, 'gold_t': None, 'hero_damage': 47059, 'hero_healing': 0, 'hero_hits': None, 'hero_id': 53, 'item_0': 116, 'item_1': 156, 'item_2': 250, 'item_3': 225, 'item_4': 168, 'item_5': 247, 'item_uses': None, 'kill_streaks': None, 'killed': None, 'killed_by': None, 'kills': 16, 'kills_log': None, 'lane_pos': None, 'last_hits': 129, 'leaver_status': 0, 'level': 25, 'lh_t': None, 'life_state': None, 'max_hero_hit': None, 'multi_kills': None, 'obs': None, 'obs_left_log': None, 'obs_log': None, 'obs_placed': None, 'party_id': 7, 'party_size': 2, 'performance_others': None, 'permanent_buffs': None, 'pings': None, 'pred_vict': None, 'purchase': None, 'purchase_log': None, 'randomed': None, 'repicked': None, 'roshans_killed': None, 'rune_pickups': None, 'runes': None, 'runes_log': None, 'sen': None, 'sen_left_log': None, 'sen_log': None, 'sen_placed': None, 'stuns': None, 'teamfight_participation': None, 'times': None, 'tower_damage': 3893, 'towers_killed': None, 'xp_per_min': 1578, 'xp_reasons': None, 'xp_t': None, 'personaname': 'WORLBO$$', 'name': None, 'last_login': None, 'radiant_win': False, 'start_time': 1574060399, 'duration': 1486, 'cluster': 123, 'lobby_type': 0, 'game_mode': 23, 'is_contributor': False, 'patch': 41, 'region': 2, 'isRadiant': False, 'win': 1, 'lose': 0, 'total_gold': 34846, 'total_xp': 39081, 'kills_per_min': 0.6460296096904442, 'kda': 3, 'abandons': 0, 'rank_tier': 44, 'cosmetics': [], 'benchmarks': {'gold_per_min': {'raw': 1407, 'pct': 1}, 'xp_per_min': {'raw': 1578, 'pct': 1}, 'kills_per_min': {'raw': 0.6460296096904441, 'pct': 0.9924242424242424}, 'last_hits_per_min': {'raw': 5.2086137281292055, 'pct': 0.2537878787878788}, 'hero_damage_per_min': {'raw': 1900.0942126514133, 'pct': 0.9962121212121212}, 'hero_healing_per_min': {'raw': 0, 'pct': 0.8371212121212122}, 'tower_damage': {'raw': 3893, 'pct': 0.45075757575757575}, 'stuns_per_min': {'raw': 0, 'pct': 0.7897727272727273}, 'lhten': {}}}], 'patch': 41, 'region': 2, 'replay_url': 'http://replay123.valve.net/570/5117768313_57364465.dem.bz2'}\n"
     ]
    }
   ],
   "source": [
    "print(response.json())"
   ]
  },
  {
   "cell_type": "markdown",
   "metadata": {},
   "source": [
    "Back to heroes"
   ]
  },
  {
   "cell_type": "code",
<<<<<<< HEAD
   "execution_count": 6,
=======
   "execution_count": 9,
>>>>>>> brian
   "metadata": {},
   "outputs": [
    {
     "data": {
      "text/plain": [
       "44"
      ]
     },
<<<<<<< HEAD
     "execution_count": 6,
=======
     "execution_count": 9,
>>>>>>> brian
     "metadata": {},
     "output_type": "execute_result"
    }
   ],
   "source": [
    "len(most_popular_heroes)"
   ]
  },
  {
   "cell_type": "markdown",
   "metadata": {},
   "source": [
    "See if I got the right heroes"
   ]
  },
  {
   "cell_type": "code",
<<<<<<< HEAD
   "execution_count": 7,
=======
   "execution_count": 10,
>>>>>>> brian
   "metadata": {},
   "outputs": [],
   "source": [
    "heroes_got = rqt.get(\"https://api.opendota.com/api/heroes\")"
   ]
  },
  {
   "cell_type": "code",
<<<<<<< HEAD
   "execution_count": 8,
=======
   "execution_count": 47,
>>>>>>> brian
   "metadata": {},
   "outputs": [
    {
     "name": "stdout",
     "output_type": "stream",
     "text": [
<<<<<<< HEAD
      "Anti-Mage\n",
      "Axe\n",
      "Bane\n",
      "Crystal Maiden\n",
      "Drow Ranger\n",
      "Earthshaker\n",
      "Juggernaut\n",
      "Mirana\n",
      "Pudge\n",
      "Storm Spirit\n",
      "Windranger\n",
      "Zeus\n",
      "Kunkka\n",
      "Lina\n",
      "Lion\n",
      "Shadow Shaman\n",
      "Witch Doctor\n",
      "Riki\n",
      "Tinker\n",
      "Sniper\n",
      "Warlock\n",
      "Faceless Void\n",
      "Wraith King\n",
      "Phantom Assassin\n",
      "Viper\n",
      "Dazzle\n",
      "Lifestealer\n",
      "Night Stalker\n",
      "Bounty Hunter\n",
      "Jakiro\n",
      "Gyrocopter\n",
      "Invoker\n",
      "Silencer\n",
      "Chaos Knight\n",
      "Ogre Magi\n",
      "Rubick\n",
      "Keeper of the Light\n",
      "Slark\n",
      "Bristleback\n",
      "Skywrath Mage\n",
      "Legion Commander\n",
      "Ember Spirit\n",
      "Arc Warden\n",
      "Monkey King\n"
=======
      "1 Anti-Mage\n",
      "2 Axe\n",
      "3 Bane\n",
      "5 Crystal Maiden\n",
      "6 Drow Ranger\n",
      "7 Earthshaker\n",
      "8 Juggernaut\n",
      "9 Mirana\n",
      "14 Pudge\n",
      "17 Storm Spirit\n",
      "21 Windranger\n",
      "22 Zeus\n",
      "23 Kunkka\n",
      "25 Lina\n",
      "26 Lion\n",
      "27 Shadow Shaman\n",
      "30 Witch Doctor\n",
      "32 Riki\n",
      "34 Tinker\n",
      "35 Sniper\n",
      "37 Warlock\n",
      "41 Faceless Void\n",
      "42 Wraith King\n",
      "44 Phantom Assassin\n",
      "47 Viper\n",
      "50 Dazzle\n",
      "54 Lifestealer\n",
      "60 Night Stalker\n",
      "62 Bounty Hunter\n",
      "64 Jakiro\n",
      "72 Gyrocopter\n",
      "74 Invoker\n",
      "75 Silencer\n",
      "81 Chaos Knight\n",
      "84 Ogre Magi\n",
      "86 Rubick\n",
      "90 Keeper of the Light\n",
      "93 Slark\n",
      "99 Bristleback\n",
      "101 Skywrath Mage\n",
      "104 Legion Commander\n",
      "106 Ember Spirit\n",
      "113 Arc Warden\n",
      "114 Monkey King\n"
>>>>>>> brian
     ]
    }
   ],
   "source": [
    "for e in heroes_got.json():\n",
    "    if e['id'] in most_popular_heroes:\n",
    "        print(e['id'], e['localized_name'])"
   ]
  },
  {
   "cell_type": "markdown",
   "metadata": {},
   "source": [
    "Let's see win rates"
   ]
  },
  {
   "cell_type": "code",
<<<<<<< HEAD
   "execution_count": 9,
=======
   "execution_count": 12,
>>>>>>> brian
   "metadata": {},
   "outputs": [],
   "source": [
    "pudge_winrates = rqt.get(\"https://api.opendota.com/api/heroes/14/matchups\")"
   ]
  },
  {
   "cell_type": "code",
<<<<<<< HEAD
   "execution_count": 10,
=======
   "execution_count": 13,
>>>>>>> brian
   "metadata": {},
   "outputs": [
    {
     "name": "stdout",
     "output_type": "stream",
     "text": [
      "{'hero_id': 86, 'games_played': 116, 'wins': 58}\n",
      "{'hero_id': 84, 'games_played': 85, 'wins': 37}\n",
      "{'hero_id': 7, 'games_played': 84, 'wins': 45}\n",
      "{'hero_id': 106, 'games_played': 73, 'wins': 37}\n",
      "{'hero_id': 8, 'games_played': 73, 'wins': 40}\n",
      "{'hero_id': 26, 'games_played': 73, 'wins': 43}\n",
      "{'hero_id': 23, 'games_played': 68, 'wins': 36}\n",
      "{'hero_id': 74, 'games_played': 67, 'wins': 37}\n",
      "{'hero_id': 25, 'games_played': 67, 'wins': 32}\n",
      "{'hero_id': 27, 'games_played': 64, 'wins': 29}\n",
      "{'hero_id': 41, 'games_played': 61, 'wins': 31}\n",
      "{'hero_id': 54, 'games_played': 54, 'wins': 25}\n",
      "{'hero_id': 114, 'games_played': 48, 'wins': 22}\n",
      "{'hero_id': 64, 'games_played': 48, 'wins': 23}\n",
      "{'hero_id': 93, 'games_played': 47, 'wins': 19}\n",
      "{'hero_id': 37, 'games_played': 46, 'wins': 26}\n",
      "{'hero_id': 9, 'games_played': 44, 'wins': 19}\n",
      "{'hero_id': 21, 'games_played': 41, 'wins': 21}\n",
      "{'hero_id': 50, 'games_played': 40, 'wins': 20}\n",
      "{'hero_id': 2, 'games_played': 38, 'wins': 21}\n",
      "{'hero_id': 5, 'games_played': 37, 'wins': 20}\n",
      "{'hero_id': 99, 'games_played': 34, 'wins': 22}\n",
      "{'hero_id': 72, 'games_played': 33, 'wins': 17}\n",
      "{'hero_id': 6, 'games_played': 32, 'wins': 19}\n",
      "{'hero_id': 90, 'games_played': 31, 'wins': 16}\n",
      "{'hero_id': 42, 'games_played': 29, 'wins': 12}\n",
      "{'hero_id': 75, 'games_played': 29, 'wins': 15}\n",
      "{'hero_id': 44, 'games_played': 28, 'wins': 14}\n",
      "{'hero_id': 34, 'games_played': 28, 'wins': 16}\n",
      "{'hero_id': 60, 'games_played': 27, 'wins': 11}\n",
      "{'hero_id': 101, 'games_played': 27, 'wins': 21}\n",
      "{'hero_id': 104, 'games_played': 26, 'wins': 13}\n",
      "{'hero_id': 3, 'games_played': 25, 'wins': 9}\n",
      "{'hero_id': 1, 'games_played': 24, 'wins': 13}\n",
      "{'hero_id': 62, 'games_played': 24, 'wins': 8}\n",
      "{'hero_id': 30, 'games_played': 23, 'wins': 13}\n",
      "{'hero_id': 17, 'games_played': 23, 'wins': 10}\n",
      "{'hero_id': 22, 'games_played': 22, 'wins': 15}\n",
      "{'hero_id': 47, 'games_played': 22, 'wins': 8}\n",
      "{'hero_id': 35, 'games_played': 18, 'wins': 9}\n",
      "{'hero_id': 81, 'games_played': 17, 'wins': 11}\n",
      "{'hero_id': 32, 'games_played': 13, 'wins': 6}\n",
      "{'hero_id': 113, 'games_played': 11, 'wins': 5}\n"
     ]
    }
   ],
   "source": [
    "for e in pudge_winrates.json():\n",
    "    if e['hero_id'] in most_popular_heroes:\n",
    "        print(e)"
   ]
  },
  {
   "cell_type": "code",
<<<<<<< HEAD
   "execution_count": 11,
=======
   "execution_count": 14,
>>>>>>> brian
   "metadata": {},
   "outputs": [
    {
     "name": "stdout",
     "output_type": "stream",
     "text": [
      "Hero 86 : win_rate 0.5\n",
      "Hero 84 : win_rate 0.43529411764705883\n",
      "Hero 7 : win_rate 0.5357142857142857\n",
      "Hero 106 : win_rate 0.5068493150684932\n",
      "Hero 8 : win_rate 0.547945205479452\n",
      "Hero 26 : win_rate 0.589041095890411\n",
      "Hero 23 : win_rate 0.5294117647058824\n",
      "Hero 74 : win_rate 0.5522388059701493\n",
      "Hero 25 : win_rate 0.47761194029850745\n",
      "Hero 27 : win_rate 0.453125\n",
      "Hero 41 : win_rate 0.5081967213114754\n",
      "Hero 54 : win_rate 0.46296296296296297\n",
      "Hero 114 : win_rate 0.4583333333333333\n",
      "Hero 64 : win_rate 0.4791666666666667\n",
      "Hero 93 : win_rate 0.40425531914893614\n",
      "Hero 37 : win_rate 0.5652173913043478\n",
      "Hero 9 : win_rate 0.4318181818181818\n",
      "Hero 21 : win_rate 0.5121951219512195\n",
      "Hero 50 : win_rate 0.5\n",
      "Hero 2 : win_rate 0.5526315789473685\n",
      "Hero 5 : win_rate 0.5405405405405406\n",
      "Hero 99 : win_rate 0.6470588235294118\n",
      "Hero 72 : win_rate 0.5151515151515151\n",
      "Hero 6 : win_rate 0.59375\n",
      "Hero 90 : win_rate 0.5161290322580645\n",
      "Hero 42 : win_rate 0.41379310344827586\n",
      "Hero 75 : win_rate 0.5172413793103449\n",
      "Hero 44 : win_rate 0.5\n",
      "Hero 34 : win_rate 0.5714285714285714\n",
      "Hero 60 : win_rate 0.4074074074074074\n",
      "Hero 101 : win_rate 0.7777777777777778\n",
      "Hero 104 : win_rate 0.5\n",
      "Hero 3 : win_rate 0.36\n",
      "Hero 1 : win_rate 0.5416666666666666\n",
      "Hero 62 : win_rate 0.3333333333333333\n",
      "Hero 30 : win_rate 0.5652173913043478\n",
      "Hero 17 : win_rate 0.43478260869565216\n",
      "Hero 22 : win_rate 0.6818181818181818\n",
      "Hero 47 : win_rate 0.36363636363636365\n",
      "Hero 35 : win_rate 0.5\n",
      "Hero 81 : win_rate 0.6470588235294118\n",
      "Hero 32 : win_rate 0.46153846153846156\n",
      "Hero 113 : win_rate 0.45454545454545453\n"
     ]
    }
   ],
   "source": [
    "for e in pudge_winrates.json():\n",
    "    if e['hero_id'] in most_popular_heroes:\n",
    "        win_rate = e['wins'] / e['games_played']\n",
    "        print('Hero {0} : win_rate {1}'.format(e['hero_id'], win_rate))"
   ]
  },
  {
   "cell_type": "markdown",
   "metadata": {},
   "source": [
    "Not many games to capture win rate. And these games aren't exclusively limited to our limited hero set."
   ]
  },
  {
   "cell_type": "raw",
   "metadata": {},
   "source": [
    "# use my latest match to get reecnt data\n",
    "match_id_query = 5126953553\n",
    "matches_string = \"https://api.opendota.com/api/publicMatches?less_than_match_id={}\"\n",
    "match_ids = rqt.get(matches_string.format(5126953553))\n",
    "# it returns the IDs descending and returns 100 at a time\n",
    "# need 1000 calls for 100,000 matches\n",
    "match_ids_all = []"
   ]
  },
  {
   "cell_type": "raw",
   "metadata": {},
   "source": [
    "match_id_query = 5126953553\n",
    "TOTAL_MATCHES_WE_WANT = 150000\n",
    "NUM_API_CALLS = int(TOTAL_MATCHES_WE_WANT / 100)\n",
    "for i in range(NUM_API_CALLS):\n",
    "    try:\n",
    "        response = rqt.get(matches_string.format(match_id_query))\n",
    "        matches_to_add = [match['match_id'] for match in response.json()]\n",
    "        match_id_query = matches_to_add[-1]\n",
    "        match_ids_all = match_ids_all + matches_to_add\n",
    "        time.sleep(1)\n",
    "    except TypeError:\n",
    "        print(response)\n",
    "        print(response.json())"
   ]
  },
  {
   "cell_type": "raw",
   "metadata": {},
   "source": [
    "with open('data/matches_to_query.pkl', 'wb') as f:\n",
    "    pickle.dump(match_ids_all, f)"
   ]
  },
  {
   "cell_type": "markdown",
   "metadata": {},
   "source": [
    "**Load data from the code above. We saved it.**"
   ]
  },
  {
   "cell_type": "code",
<<<<<<< HEAD
   "execution_count": 12,
=======
   "execution_count": 15,
>>>>>>> brian
   "metadata": {},
   "outputs": [],
   "source": [
    "with open('data/matches_to_query.pkl', 'rb') as f:\n",
    "    match_ids_all = pickle.load(f)"
   ]
  },
  {
   "cell_type": "code",
<<<<<<< HEAD
   "execution_count": 13,
=======
   "execution_count": 16,
>>>>>>> brian
   "metadata": {},
   "outputs": [
    {
     "data": {
      "text/plain": [
       "150000"
      ]
     },
<<<<<<< HEAD
     "execution_count": 13,
=======
     "execution_count": 16,
>>>>>>> brian
     "metadata": {},
     "output_type": "execute_result"
    }
   ],
   "source": [
    "len(match_ids_all)"
   ]
  },
  {
   "cell_type": "markdown",
   "metadata": {},
   "source": [
    "The better idea is to parse through a bunch of matches, filter out the ones that include any non-negative number of heroes not in the list above, and then calculate win rates from that.\n",
    "\n",
    "In addition, we would then calculate new baseline popularity rate from this set of matches.\n",
    "\n",
    "Use Stratz API since it doesn't limit our data rates as much."
   ]
  },
  {
   "cell_type": "raw",
   "metadata": {},
   "source": [
    "# from https://stackoverflow.com/questions/13906623/using-pickle-dump-typeerror-must-be-str-not-bytes\n",
    "def chunks_fn(l, n):\n",
    "    \"\"\"Yield successive n-sized chunks from l.\"\"\"\n",
    "    for i in range(0, len(l), n):\n",
    "        yield l[i:i + n]"
   ]
  },
  {
   "cell_type": "raw",
   "metadata": {},
   "source": [
    "match_chunks = chunks_fn(match_ids_all, 10)\n",
    "\n",
    "all_match_data = []"
   ]
  },
  {
   "cell_type": "raw",
   "metadata": {},
   "source": [
    "with rqt.Session() as sess:\n",
    "    for chunk in match_chunks:\n",
    "        try:\n",
    "            params = {\"matchId\":chunk,\n",
    "                      \"take\": 250}\n",
    "            stratz_Get_matches = \"https://api.stratz.com/api/v1/match\"\n",
    "\n",
    "            x = sess.get(stratz_Get_matches, params = params, stream = False)\n",
    "            \n",
    "            if x.status_code != 200:\n",
    "                retry_count = 0\n",
    "                success = False\n",
    "                while retry_count < 3 and not success:\n",
    "                    time.sleep(1)\n",
    "                    x = sess.get(stratz_Get_matches, params = params, stream = False)\n",
    "                    retry_count += 1\n",
    "                    success = x.status_code == 200\n",
    "            else:\n",
    "                success = True\n",
    "            \n",
    "            # to prevent memory leak\n",
    "            c = x.content\n",
    "            del c\n",
    "            \n",
    "            # continuing on\n",
    "            if success:\n",
    "                all_match_data = all_match_data + x.json()\n",
    "                \n",
    "            time.sleep(1)\n",
    "        except JSONDecodeError:\n",
    "            print(x)\n",
    "            print(x.reason)\n",
    "        except:\n",
    "            print(x)\n",
    "            print(x.reason)"
   ]
  },
  {
   "cell_type": "raw",
   "metadata": {},
   "source": [
    "len(all_match_data)"
<<<<<<< HEAD
   ]
  },
  {
   "cell_type": "markdown",
   "metadata": {},
   "source": [
    "with open('data/all_raw_match_data.pkl', 'wb') as f:\n",
    "    pickle.dump(all_match_data, f)"
   ]
  },
  {
   "cell_type": "markdown",
   "metadata": {},
   "source": [
    "**Load data from the code above. We saved it**"
   ]
  },
  {
   "cell_type": "code",
   "execution_count": 14,
   "metadata": {},
   "outputs": [],
   "source": [
    "with open('data/all_raw_match_data.pkl', 'rb') as f:\n",
    "    all_match_data = pickle.load(f)"
   ]
  },
  {
   "cell_type": "markdown",
   "metadata": {},
   "source": [
    "Here we filter out the matches that did not include a hero in our list.\n",
    "\n",
    "Also filter out matches whose gamemode is 1 or 22. 1 is All Pick. 22 is Ranked All pick."
   ]
  },
  {
   "cell_type": "code",
   "execution_count": 15,
   "metadata": {},
   "outputs": [
    {
     "data": {
      "text/plain": [
       "149726"
      ]
     },
     "execution_count": 15,
     "metadata": {},
     "output_type": "execute_result"
    }
   ],
   "source": [
    "len(all_match_data)"
   ]
  },
  {
   "cell_type": "code",
   "execution_count": 16,
   "metadata": {},
   "outputs": [],
   "source": [
    "filtered_matches = []\n",
    "most_common_unused_heroes = []\n",
    "for match in all_match_data:\n",
    "    heroIds_of_match = [player['heroId'] for player in match['players']]\n",
    "    keep_this_match = True\n",
    "    gameMode = match['gameMode']\n",
    "    # Ranked ALl pick, ALl Pick, Captains'mode, \n",
    "    if gameMode != 22 and gameMode != 1 and gameMode != 2:\n",
    "        keep_this_match = False\n",
    "    else:\n",
    "        for hero in heroIds_of_match:\n",
    "            if not hero in most_popular_heroes:\n",
    "                keep_this_match = False\n",
    "                most_common_unused_heroes.append(hero)\n",
    "                break\n",
    "    if keep_this_match:\n",
    "        filtered_matches.append(match)"
   ]
  },
  {
   "cell_type": "code",
   "execution_count": 17,
   "metadata": {},
   "outputs": [
    {
     "data": {
      "text/plain": [
       "1947"
      ]
     },
     "execution_count": 17,
     "metadata": {},
     "output_type": "execute_result"
    }
   ],
   "source": [
    "len(filtered_matches)"
   ]
  },
  {
   "cell_type": "code",
   "execution_count": 18,
   "metadata": {},
   "outputs": [],
   "source": [
    "# to save space\n",
    "del all_match_data"
   ]
  },
  {
   "cell_type": "markdown",
   "metadata": {},
   "source": [
    "Here we collect form our Ys. Determine which hero was which based on amount of gold that hero had. Assume higher gold hero was the carry and lowest was support. First determine which hero was mid otherwise this reasoning doesn't work out since sometimes mid hero has more gold than carry.\n",
    "\n",
    "Ys should always be from the side of the winning team. As in if Lower Left team won, we make the predictions the heroes from the team at the lower left. "
   ]
  },
  {
   "cell_type": "code",
   "execution_count": 19,
   "metadata": {},
   "outputs": [
    {
     "data": {
      "text/plain": [
       "{'id': 5126953310,\n",
       " 'didRadiantWin': True,\n",
       " 'durationSeconds': 3501,\n",
       " 'startDateTime': 1574637427,\n",
       " 'clusterId': 132,\n",
       " 'firstBloodTime': 397,\n",
       " 'lobbyType': 7,\n",
       " 'numHumanPlayers': 10,\n",
       " 'gameMode': 22,\n",
       " 'replaySalt': 2105997591,\n",
       " 'isStats': True,\n",
       " 'avgImp': 100,\n",
       " 'parsedDateTime': 1574641774,\n",
       " 'gameVersionId': 117,\n",
       " 'regionId': 3,\n",
       " 'sequenceNum': 4302038149,\n",
       " 'rank': 44,\n",
       " 'bracket': 4,\n",
       " 'endDateTime': 1574640928,\n",
       " 'players': [{'matchId': 5126953310,\n",
       "   'playerSlot': 0,\n",
       "   'heroId': 64,\n",
       "   'steamId': 107914166,\n",
       "   'isRadiant': True,\n",
       "   'numKills': 7,\n",
       "   'numDeaths': 8,\n",
       "   'numAssists': 22,\n",
       "   'leaverStatus': 0,\n",
       "   'numLastHits': 187,\n",
       "   'numDenies': 6,\n",
       "   'goldPerMinute': 448,\n",
       "   'experiencePerMinute': 514,\n",
       "   'level': 25,\n",
       "   'gold': 4214,\n",
       "   'goldSpent': 21470,\n",
       "   'heroDamage': 28619,\n",
       "   'towerDamage': 4684,\n",
       "   'partyId': 0,\n",
       "   'isRandom': False,\n",
       "   'lane': 1,\n",
       "   'intentionalFeeding': False,\n",
       "   'role': 2,\n",
       "   'imp': 97,\n",
       "   'award': 0,\n",
       "   'item0Id': 100,\n",
       "   'item1Id': 77,\n",
       "   'item2Id': 40,\n",
       "   'item3Id': 231,\n",
       "   'item4Id': 277,\n",
       "   'item5Id': 108,\n",
       "   'behavior': 0,\n",
       "   'heroHealing': 1741,\n",
       "   'roamLane': 0,\n",
       "   'isVictory': True},\n",
       "  {'matchId': 5126953310,\n",
       "   'playerSlot': 1,\n",
       "   'heroId': 99,\n",
       "   'steamId': 303843073,\n",
       "   'isRadiant': True,\n",
       "   'numKills': 5,\n",
       "   'numDeaths': 7,\n",
       "   'numAssists': 29,\n",
       "   'leaverStatus': 0,\n",
       "   'numLastHits': 191,\n",
       "   'numDenies': 5,\n",
       "   'goldPerMinute': 370,\n",
       "   'experiencePerMinute': 520,\n",
       "   'level': 25,\n",
       "   'gold': 3647,\n",
       "   'goldSpent': 17590,\n",
       "   'heroDamage': 16525,\n",
       "   'towerDamage': 4955,\n",
       "   'partyId': 0,\n",
       "   'isRandom': False,\n",
       "   'lane': 3,\n",
       "   'intentionalFeeding': False,\n",
       "   'role': 0,\n",
       "   'imp': 110,\n",
       "   'award': 2,\n",
       "   'item0Id': 180,\n",
       "   'item1Id': 242,\n",
       "   'item2Id': 108,\n",
       "   'item3Id': 90,\n",
       "   'item4Id': 127,\n",
       "   'item5Id': 40,\n",
       "   'behavior': 0,\n",
       "   'heroHealing': 0,\n",
       "   'roamLane': 0,\n",
       "   'isVictory': True},\n",
       "  {'matchId': 5126953310,\n",
       "   'playerSlot': 2,\n",
       "   'heroId': 41,\n",
       "   'steamId': 301888432,\n",
       "   'isRadiant': True,\n",
       "   'numKills': 12,\n",
       "   'numDeaths': 6,\n",
       "   'numAssists': 14,\n",
       "   'leaverStatus': 0,\n",
       "   'numLastHits': 498,\n",
       "   'numDenies': 15,\n",
       "   'goldPerMinute': 670,\n",
       "   'experiencePerMinute': 631,\n",
       "   'level': 25,\n",
       "   'gold': 2383,\n",
       "   'goldSpent': 33615,\n",
       "   'heroDamage': 27625,\n",
       "   'towerDamage': 7038,\n",
       "   'partyId': 0,\n",
       "   'isRandom': False,\n",
       "   'lane': 1,\n",
       "   'intentionalFeeding': False,\n",
       "   'role': 0,\n",
       "   'imp': 100,\n",
       "   'award': 0,\n",
       "   'item1Id': 135,\n",
       "   'item2Id': 147,\n",
       "   'item3Id': 158,\n",
       "   'item4Id': 139,\n",
       "   'item5Id': 116,\n",
       "   'backpack0Id': 48,\n",
       "   'behavior': 0,\n",
       "   'heroHealing': 0,\n",
       "   'roamLane': 0,\n",
       "   'isVictory': True},\n",
       "  {'matchId': 5126953310,\n",
       "   'playerSlot': 3,\n",
       "   'heroId': 84,\n",
       "   'steamId': 110969999,\n",
       "   'isRadiant': True,\n",
       "   'numKills': 11,\n",
       "   'numDeaths': 9,\n",
       "   'numAssists': 21,\n",
       "   'leaverStatus': 0,\n",
       "   'numLastHits': 199,\n",
       "   'numDenies': 26,\n",
       "   'goldPerMinute': 547,\n",
       "   'experiencePerMinute': 557,\n",
       "   'level': 25,\n",
       "   'gold': 5168,\n",
       "   'goldSpent': 23765,\n",
       "   'heroDamage': 35762,\n",
       "   'towerDamage': 1378,\n",
       "   'partyId': 1,\n",
       "   'isRandom': False,\n",
       "   'lane': 2,\n",
       "   'intentionalFeeding': False,\n",
       "   'role': 0,\n",
       "   'imp': 91,\n",
       "   'award': 0,\n",
       "   'item0Id': 50,\n",
       "   'item1Id': 235,\n",
       "   'item2Id': 65,\n",
       "   'item3Id': 176,\n",
       "   'item4Id': 108,\n",
       "   'item5Id': 232,\n",
       "   'backpack1Id': 42,\n",
       "   'behavior': 0,\n",
       "   'heroHealing': 0,\n",
       "   'roamLane': 0,\n",
       "   'isVictory': True},\n",
       "  {'matchId': 5126953310,\n",
       "   'playerSlot': 4,\n",
       "   'heroId': 74,\n",
       "   'steamId': 434951722,\n",
       "   'isRadiant': True,\n",
       "   'numKills': 8,\n",
       "   'numDeaths': 2,\n",
       "   'numAssists': 30,\n",
       "   'leaverStatus': 0,\n",
       "   'numLastHits': 372,\n",
       "   'numDenies': 8,\n",
       "   'goldPerMinute': 557,\n",
       "   'experiencePerMinute': 647,\n",
       "   'level': 25,\n",
       "   'gold': 6323,\n",
       "   'goldSpent': 27230,\n",
       "   'heroDamage': 32179,\n",
       "   'towerDamage': 785,\n",
       "   'partyId': 1,\n",
       "   'isRandom': False,\n",
       "   'lane': 0,\n",
       "   'intentionalFeeding': False,\n",
       "   'role': 1,\n",
       "   'imp': 162,\n",
       "   'award': 1,\n",
       "   'item0Id': 116,\n",
       "   'item1Id': 110,\n",
       "   'item2Id': 48,\n",
       "   'item3Id': 267,\n",
       "   'item4Id': 108,\n",
       "   'item5Id': 256,\n",
       "   'backpack1Id': 65,\n",
       "   'behavior': 0,\n",
       "   'heroHealing': 2154,\n",
       "   'roamLane': 4,\n",
       "   'isVictory': True},\n",
       "  {'matchId': 5126953310,\n",
       "   'playerSlot': 128,\n",
       "   'heroId': 6,\n",
       "   'steamId': 420810680,\n",
       "   'isRadiant': False,\n",
       "   'numKills': 6,\n",
       "   'numDeaths': 5,\n",
       "   'numAssists': 16,\n",
       "   'leaverStatus': 0,\n",
       "   'numLastHits': 324,\n",
       "   'numDenies': 13,\n",
       "   'goldPerMinute': 466,\n",
       "   'experiencePerMinute': 628,\n",
       "   'level': 25,\n",
       "   'gold': 1035,\n",
       "   'goldSpent': 25135,\n",
       "   'heroDamage': 31168,\n",
       "   'towerDamage': 3136,\n",
       "   'partyId': 2,\n",
       "   'isRandom': False,\n",
       "   'lane': 1,\n",
       "   'intentionalFeeding': False,\n",
       "   'role': 0,\n",
       "   'imp': 93,\n",
       "   'award': 0,\n",
       "   'item0Id': 156,\n",
       "   'item1Id': 116,\n",
       "   'item2Id': 236,\n",
       "   'item3Id': 249,\n",
       "   'item4Id': 63,\n",
       "   'item5Id': 256,\n",
       "   'behavior': 0,\n",
       "   'heroHealing': 0,\n",
       "   'roamLane': 0,\n",
       "   'isVictory': False},\n",
       "  {'matchId': 5126953310,\n",
       "   'playerSlot': 129,\n",
       "   'heroId': 30,\n",
       "   'steamId': 287572736,\n",
       "   'isRadiant': False,\n",
       "   'numKills': 8,\n",
       "   'numDeaths': 14,\n",
       "   'numAssists': 13,\n",
       "   'leaverStatus': 0,\n",
       "   'numLastHits': 35,\n",
       "   'numDenies': 3,\n",
       "   'goldPerMinute': 319,\n",
       "   'experiencePerMinute': 397,\n",
       "   'level': 23,\n",
       "   'gold': 2738,\n",
       "   'goldSpent': 12865,\n",
       "   'heroDamage': 16021,\n",
       "   'towerDamage': 242,\n",
       "   'partyId': 2,\n",
       "   'isRandom': False,\n",
       "   'lane': 1,\n",
       "   'intentionalFeeding': False,\n",
       "   'role': 2,\n",
       "   'imp': 80,\n",
       "   'award': 0,\n",
       "   'item0Id': 102,\n",
       "   'item1Id': 180,\n",
       "   'item2Id': 254,\n",
       "   'item3Id': 218,\n",
       "   'item4Id': 40,\n",
       "   'item5Id': 36,\n",
       "   'behavior': 0,\n",
       "   'heroHealing': 5422,\n",
       "   'roamLane': 0,\n",
       "   'isVictory': False},\n",
       "  {'matchId': 5126953310,\n",
       "   'playerSlot': 130,\n",
       "   'heroId': 25,\n",
       "   'steamId': 112374113,\n",
       "   'isRadiant': False,\n",
       "   'numKills': 9,\n",
       "   'numDeaths': 6,\n",
       "   'numAssists': 16,\n",
       "   'leaverStatus': 0,\n",
       "   'numLastHits': 347,\n",
       "   'numDenies': 14,\n",
       "   'goldPerMinute': 536,\n",
       "   'experiencePerMinute': 680,\n",
       "   'level': 25,\n",
       "   'gold': 587,\n",
       "   'goldSpent': 28765,\n",
       "   'heroDamage': 38034,\n",
       "   'towerDamage': 551,\n",
       "   'partyId': 2,\n",
       "   'isRandom': False,\n",
       "   'lane': 3,\n",
       "   'intentionalFeeding': False,\n",
       "   'role': 1,\n",
       "   'imp': 109,\n",
       "   'award': 3,\n",
       "   'item0Id': 100,\n",
       "   'item1Id': 102,\n",
       "   'item2Id': 96,\n",
       "   'item3Id': 232,\n",
       "   'item4Id': 116,\n",
       "   'item5Id': 48,\n",
       "   'behavior': 0,\n",
       "   'heroHealing': 0,\n",
       "   'roamLane': 0,\n",
       "   'isVictory': False},\n",
       "  {'matchId': 5126953310,\n",
       "   'playerSlot': 131,\n",
       "   'heroId': 23,\n",
       "   'steamId': 73055363,\n",
       "   'isRadiant': False,\n",
       "   'numKills': 3,\n",
       "   'numDeaths': 9,\n",
       "   'numAssists': 20,\n",
       "   'leaverStatus': 0,\n",
       "   'numLastHits': 357,\n",
       "   'numDenies': 4,\n",
       "   'goldPerMinute': 467,\n",
       "   'experiencePerMinute': 594,\n",
       "   'level': 25,\n",
       "   'gold': 2576,\n",
       "   'goldSpent': 20275,\n",
       "   'heroDamage': 26118,\n",
       "   'towerDamage': 264,\n",
       "   'partyId': 3,\n",
       "   'isRandom': False,\n",
       "   'lane': 2,\n",
       "   'intentionalFeeding': False,\n",
       "   'role': 0,\n",
       "   'imp': 88,\n",
       "   'award': 0,\n",
       "   'item0Id': 50,\n",
       "   'item1Id': 249,\n",
       "   'item2Id': 116,\n",
       "   'item4Id': 40,\n",
       "   'item5Id': 141,\n",
       "   'backpack0Id': 182,\n",
       "   'backpack1Id': 11,\n",
       "   'backpack2Id': 73,\n",
       "   'behavior': 0,\n",
       "   'heroHealing': 0,\n",
       "   'roamLane': 0,\n",
       "   'isVictory': False},\n",
       "  {'matchId': 5126953310,\n",
       "   'playerSlot': 132,\n",
       "   'heroId': 21,\n",
       "   'steamId': 27075585,\n",
       "   'isRadiant': False,\n",
       "   'numKills': 5,\n",
       "   'numDeaths': 10,\n",
       "   'numAssists': 15,\n",
       "   'leaverStatus': 0,\n",
       "   'numLastHits': 257,\n",
       "   'numDenies': 24,\n",
       "   'goldPerMinute': 419,\n",
       "   'experiencePerMinute': 489,\n",
       "   'level': 25,\n",
       "   'gold': 980,\n",
       "   'goldSpent': 18795,\n",
       "   'heroDamage': 34218,\n",
       "   'towerDamage': 1055,\n",
       "   'partyId': 3,\n",
       "   'isRandom': False,\n",
       "   'lane': 3,\n",
       "   'intentionalFeeding': False,\n",
       "   'role': 0,\n",
       "   'imp': 79,\n",
       "   'award': 0,\n",
       "   'item0Id': 40,\n",
       "   'item1Id': 166,\n",
       "   'item2Id': 1,\n",
       "   'item3Id': 135,\n",
       "   'item4Id': 250,\n",
       "   'item5Id': 50,\n",
       "   'behavior': 0,\n",
       "   'heroHealing': 0,\n",
       "   'roamLane': 0,\n",
       "   'isVictory': False}]}"
      ]
     },
     "execution_count": 19,
     "metadata": {},
     "output_type": "execute_result"
    }
   ],
   "source": [
    "filtered_matches[0]"
   ]
  },
  {
   "cell_type": "code",
   "execution_count": 20,
   "metadata": {},
   "outputs": [],
   "source": [
    "X_no_features_df = []\n",
    "Y_df = []\n",
    "\n",
    "# the Ys will be positioned such that ids are in order of [carry, mid lane, offlane, support, hard support]\n",
    "for match in filtered_matches:\n",
    "\n",
    "    radiantWin = match['didRadiantWin']\n",
    "    \n",
    "    radiant_players = {}\n",
    "    dire_players = {}\n",
    "    \n",
    "    # tried doing it by role, but it was very messy\n",
    "    # sometimes it was inconsistent or not there.\n",
    "    for player in match['players']:\n",
    "        if player['isRadiant']:\n",
    "            radiant_players[player['heroId']] = -player['goldSpent']\n",
    "        else:\n",
    "            dire_players[player['heroId']] = -player['goldSpent']\n",
    "            \n",
    "    \n",
    "    if radiantWin:\n",
    "        heroesY = sorted(radiant_players, key=lambda k: radiant_players[k])\n",
    "        heroesX = sorted(dire_players, key=lambda k: dire_players[k])\n",
    "    else:\n",
    "        heroesY = sorted(dire_players, key=lambda k: dire_players[k])\n",
    "        heroesX = sorted(radiant_players, key=lambda k: radiant_players[k])\n",
    "\n",
    "    \n",
    "    X_no_features_df.append(heroesX)\n",
    "    Y_df.append(heroesY)"
   ]
  },
  {
   "cell_type": "markdown",
   "metadata": {},
   "source": [
    "Calculate winrates"
   ]
  },
  {
   "cell_type": "code",
   "execution_count": 21,
   "metadata": {},
   "outputs": [],
   "source": [
    "# Two Tier List\n",
    "# Sums up games played\n",
    "# Sums up Win\n",
    "# first level is the hero we are interested in\n",
    "# second level is who that hero was up against\n",
    "hero_match_count = {}\n",
    "hero_win_count = {}\n",
    "for match in filtered_matches:\n",
    "    radiantHeroes = []\n",
    "    direHeroes = []\n",
    "    radiantWin = match['didRadiantWin']\n",
    "    for player in match['players']:\n",
    "        if player['isRadiant']:\n",
    "            radiantHeroes.append(player['heroId'])\n",
    "        else:\n",
    "            direHeroes.append(player['heroId'])\n",
    "    \n",
    "    for radiant_hero in radiantHeroes:\n",
    "        for dire_hero in direHeroes:\n",
    "            if radiant_hero not in hero_match_count:\n",
    "                hero_match_count[radiant_hero] = {}\n",
    "                hero_win_count[radiant_hero] = {}\n",
    "            if dire_hero not in hero_match_count:\n",
    "                hero_match_count[dire_hero] = {}\n",
    "                hero_win_count[dire_hero] = {}\n",
    "            \n",
    "            if dire_hero not in hero_match_count[radiant_hero]:\n",
    "                hero_match_count[radiant_hero][dire_hero] = 0\n",
    "                hero_win_count[radiant_hero][dire_hero] = 0\n",
    "            if radiant_hero not in hero_match_count[dire_hero]:\n",
    "                hero_match_count[dire_hero][radiant_hero] = 0\n",
    "                hero_win_count[dire_hero][radiant_hero] = 0\n",
    "                \n",
    "                \n",
    "            hero_match_count[radiant_hero][dire_hero] += 1\n",
    "            hero_match_count[dire_hero][radiant_hero] += 1\n",
    "            \n",
    "            if radiantWin:\n",
    "                hero_win_count[radiant_hero][dire_hero] += 1\n",
    "            else:\n",
    "                hero_win_count[dire_hero][radiant_hero] += 1\n",
    "            "
   ]
  },
  {
   "cell_type": "code",
   "execution_count": 22,
   "metadata": {},
   "outputs": [
    {
     "name": "stdout",
     "output_type": "stream",
     "text": [
      "44\n",
      "44\n"
     ]
    }
   ],
   "source": [
    "print(len(hero_match_count))\n",
    "print(len(hero_win_count))"
   ]
  },
  {
   "cell_type": "code",
   "execution_count": 23,
   "metadata": {},
   "outputs": [],
   "source": [
    "hero_win_percentage = {}\n",
    "\n",
    "for hero in hero_win_count.keys():\n",
    "    \n",
    "    hero_win_percentage[hero] = {}\n",
    "        \n",
    "    for hero2 in hero_win_count[hero].keys():\n",
    "        hero_win_percentage[hero][hero2] = hero_win_count[hero][hero2] / hero_match_count[hero][hero2]"
   ]
  },
  {
   "cell_type": "code",
   "execution_count": 24,
   "metadata": {},
   "outputs": [
    {
     "data": {
      "text/plain": [
       "0.5362318840579711"
      ]
     },
     "execution_count": 24,
     "metadata": {},
     "output_type": "execute_result"
    }
   ],
   "source": [
    "hero_win_percentage[22][2]"
   ]
  },
  {
   "cell_type": "code",
   "execution_count": 25,
   "metadata": {},
   "outputs": [
    {
     "data": {
      "text/plain": [
       "0.463768115942029"
      ]
     },
     "execution_count": 25,
     "metadata": {},
     "output_type": "execute_result"
    }
   ],
   "source": [
    "hero_win_percentage[2][22]"
   ]
  },
  {
   "cell_type": "markdown",
   "metadata": {},
   "source": [
    "Here we form our Xs. **When account for win rates, note that not all heroes played each other. Note a -1 for that**\n",
    "\n",
    "Collect which side of the map we are on. One hot encoded. 1 is radiant.\n",
    "\n",
    "\n",
    "Collect win rates against the enemy heroes as node features. \n",
    "\n",
    "Collect win rate and popularity of enemy heroes as node features. \n",
    "\n",
    "To try to enforce constraint of what hero should be where, Do one hot encoding of what position we want this node to be.\n",
    "\n",
    "\n",
    "For edge features:\n",
    "-Concatenate \n",
    "\n",
    "\n",
    "\n"
=======
>>>>>>> brian
   ]
  },
  {
   "cell_type": "code",
   "execution_count": 19,
   "metadata": {},
   "outputs": [
    {
     "name": "stdout",
     "output_type": "stream",
     "text": [
      "matches_to_query.pkl\r\n"
     ]
    }
   ],
   "source": [
    "!ls data"
   ]
  },
  {
   "cell_type": "markdown",
   "metadata": {},
   "source": [
    "with open('data/all_raw_match_data.pkl', 'wb') as f:\n",
    "    pickle.dump(all_match_data, f)"
   ]
  },
  {
   "cell_type": "markdown",
   "metadata": {},
   "source": [
    "**Load data from the code above. We saved it**"
   ]
  },
  {
   "cell_type": "code",
   "execution_count": 3,
   "metadata": {},
   "outputs": [],
   "source": [
    "with open('data/all_raw_match_data.pkl', 'rb') as f:\n",
    "    all_match_data = pickle.load(f)"
   ]
  },
  {
   "cell_type": "markdown",
   "metadata": {},
   "source": [
    "Here we filter out the matches that did not include a hero in our list.\n",
    "\n",
    "Also filter out matches whose gamemode is 1 or 22. 1 is All Pick. 22 is Ranked All pick."
   ]
  },
  {
   "cell_type": "code",
   "execution_count": 4,
   "metadata": {},
   "outputs": [
    {
     "data": {
      "text/plain": [
       "149726"
      ]
     },
     "execution_count": 4,
     "metadata": {},
     "output_type": "execute_result"
    }
   ],
   "source": [
    "len(all_match_data)"
   ]
  },
  {
   "cell_type": "code",
   "execution_count": 5,
   "metadata": {},
   "outputs": [],
   "source": [
    "filtered_matches = []\n",
    "most_common_unused_heroes = []\n",
    "for match in all_match_data:\n",
    "    heroIds_of_match = [player['heroId'] for player in match['players']]\n",
    "    keep_this_match = True\n",
    "    gameMode = match['gameMode']\n",
    "    # Ranked ALl pick, ALl Pick, Captains'mode, \n",
    "    if gameMode != 22 and gameMode != 1 and gameMode != 2:\n",
    "        keep_this_match = False\n",
    "    else:\n",
    "        for hero in heroIds_of_match:\n",
    "            if not hero in most_popular_heroes:\n",
    "                keep_this_match = False\n",
    "                most_common_unused_heroes.append(hero)\n",
    "                break\n",
    "    if keep_this_match:\n",
    "        filtered_matches.append(match)"
   ]
  },
  {
   "cell_type": "code",
   "execution_count": 6,
   "metadata": {},
   "outputs": [
    {
     "data": {
      "text/plain": [
       "1947"
      ]
     },
     "execution_count": 6,
     "metadata": {},
     "output_type": "execute_result"
    }
   ],
   "source": [
    "len(filtered_matches)"
   ]
  },
  {
   "cell_type": "code",
   "execution_count": 7,
   "metadata": {},
   "outputs": [],
   "source": [
    "# to save space\n",
    "del all_match_data"
   ]
  },
  {
   "cell_type": "code",
   "execution_count": 11,
   "metadata": {},
   "outputs": [],
   "source": [
    "with open('data/filtered_matches.pkl', 'wb') as f:\n",
    "    pickle.dump(filtered_matches, f)"
   ]
  },
  {
   "cell_type": "code",
   "execution_count": 17,
   "metadata": {},
   "outputs": [
    {
     "data": {
      "text/plain": [
       "0"
      ]
     },
     "execution_count": 17,
     "metadata": {},
     "output_type": "execute_result"
    }
   ],
   "source": []
  },
  {
   "cell_type": "markdown",
   "metadata": {},
   "source": [
    "Here we collect form our Ys. Determine which hero was which based on amount of gold that hero had. Assume higher gold hero was the carry and lowest was support. First determine which hero was mid otherwise this reasoning doesn't work out since sometimes mid hero has more gold than carry.\n",
    "\n",
    "Ys should always be from the side of the winning team. As in if Lower Left team won, we make the predictions the heroes from the team at the lower left. "
   ]
  },
  {
   "cell_type": "code",
   "execution_count": 8,
   "metadata": {
    "scrolled": false
   },
   "outputs": [
    {
     "data": {
      "text/plain": [
       "{'id': 5126953310,\n",
       " 'didRadiantWin': True,\n",
       " 'durationSeconds': 3501,\n",
       " 'startDateTime': 1574637427,\n",
       " 'clusterId': 132,\n",
       " 'firstBloodTime': 397,\n",
       " 'lobbyType': 7,\n",
       " 'numHumanPlayers': 10,\n",
       " 'gameMode': 22,\n",
       " 'replaySalt': 2105997591,\n",
       " 'isStats': True,\n",
       " 'avgImp': 100,\n",
       " 'parsedDateTime': 1574641774,\n",
       " 'gameVersionId': 117,\n",
       " 'regionId': 3,\n",
       " 'sequenceNum': 4302038149,\n",
       " 'rank': 44,\n",
       " 'bracket': 4,\n",
       " 'endDateTime': 1574640928,\n",
       " 'players': [{'matchId': 5126953310,\n",
       "   'playerSlot': 0,\n",
       "   'heroId': 64,\n",
       "   'steamId': 107914166,\n",
       "   'isRadiant': True,\n",
       "   'numKills': 7,\n",
       "   'numDeaths': 8,\n",
       "   'numAssists': 22,\n",
       "   'leaverStatus': 0,\n",
       "   'numLastHits': 187,\n",
       "   'numDenies': 6,\n",
       "   'goldPerMinute': 448,\n",
       "   'experiencePerMinute': 514,\n",
       "   'level': 25,\n",
       "   'gold': 4214,\n",
       "   'goldSpent': 21470,\n",
       "   'heroDamage': 28619,\n",
       "   'towerDamage': 4684,\n",
       "   'partyId': 0,\n",
       "   'isRandom': False,\n",
       "   'lane': 1,\n",
       "   'intentionalFeeding': False,\n",
       "   'role': 2,\n",
       "   'imp': 97,\n",
       "   'award': 0,\n",
       "   'item0Id': 100,\n",
       "   'item1Id': 77,\n",
       "   'item2Id': 40,\n",
       "   'item3Id': 231,\n",
       "   'item4Id': 277,\n",
       "   'item5Id': 108,\n",
       "   'behavior': 0,\n",
       "   'heroHealing': 1741,\n",
       "   'roamLane': 0,\n",
       "   'isVictory': True},\n",
       "  {'matchId': 5126953310,\n",
       "   'playerSlot': 1,\n",
       "   'heroId': 99,\n",
       "   'steamId': 303843073,\n",
       "   'isRadiant': True,\n",
       "   'numKills': 5,\n",
       "   'numDeaths': 7,\n",
       "   'numAssists': 29,\n",
       "   'leaverStatus': 0,\n",
       "   'numLastHits': 191,\n",
       "   'numDenies': 5,\n",
       "   'goldPerMinute': 370,\n",
       "   'experiencePerMinute': 520,\n",
       "   'level': 25,\n",
       "   'gold': 3647,\n",
       "   'goldSpent': 17590,\n",
       "   'heroDamage': 16525,\n",
       "   'towerDamage': 4955,\n",
       "   'partyId': 0,\n",
       "   'isRandom': False,\n",
       "   'lane': 3,\n",
       "   'intentionalFeeding': False,\n",
       "   'role': 0,\n",
       "   'imp': 110,\n",
       "   'award': 2,\n",
       "   'item0Id': 180,\n",
       "   'item1Id': 242,\n",
       "   'item2Id': 108,\n",
       "   'item3Id': 90,\n",
       "   'item4Id': 127,\n",
       "   'item5Id': 40,\n",
       "   'behavior': 0,\n",
       "   'heroHealing': 0,\n",
       "   'roamLane': 0,\n",
       "   'isVictory': True},\n",
       "  {'matchId': 5126953310,\n",
       "   'playerSlot': 2,\n",
       "   'heroId': 41,\n",
       "   'steamId': 301888432,\n",
       "   'isRadiant': True,\n",
       "   'numKills': 12,\n",
       "   'numDeaths': 6,\n",
       "   'numAssists': 14,\n",
       "   'leaverStatus': 0,\n",
       "   'numLastHits': 498,\n",
       "   'numDenies': 15,\n",
       "   'goldPerMinute': 670,\n",
       "   'experiencePerMinute': 631,\n",
       "   'level': 25,\n",
       "   'gold': 2383,\n",
       "   'goldSpent': 33615,\n",
       "   'heroDamage': 27625,\n",
       "   'towerDamage': 7038,\n",
       "   'partyId': 0,\n",
       "   'isRandom': False,\n",
       "   'lane': 1,\n",
       "   'intentionalFeeding': False,\n",
       "   'role': 0,\n",
       "   'imp': 100,\n",
       "   'award': 0,\n",
       "   'item1Id': 135,\n",
       "   'item2Id': 147,\n",
       "   'item3Id': 158,\n",
       "   'item4Id': 139,\n",
       "   'item5Id': 116,\n",
       "   'backpack0Id': 48,\n",
       "   'behavior': 0,\n",
       "   'heroHealing': 0,\n",
       "   'roamLane': 0,\n",
       "   'isVictory': True},\n",
       "  {'matchId': 5126953310,\n",
       "   'playerSlot': 3,\n",
       "   'heroId': 84,\n",
       "   'steamId': 110969999,\n",
       "   'isRadiant': True,\n",
       "   'numKills': 11,\n",
       "   'numDeaths': 9,\n",
       "   'numAssists': 21,\n",
       "   'leaverStatus': 0,\n",
       "   'numLastHits': 199,\n",
       "   'numDenies': 26,\n",
       "   'goldPerMinute': 547,\n",
       "   'experiencePerMinute': 557,\n",
       "   'level': 25,\n",
       "   'gold': 5168,\n",
       "   'goldSpent': 23765,\n",
       "   'heroDamage': 35762,\n",
       "   'towerDamage': 1378,\n",
       "   'partyId': 1,\n",
       "   'isRandom': False,\n",
       "   'lane': 2,\n",
       "   'intentionalFeeding': False,\n",
       "   'role': 0,\n",
       "   'imp': 91,\n",
       "   'award': 0,\n",
       "   'item0Id': 50,\n",
       "   'item1Id': 235,\n",
       "   'item2Id': 65,\n",
       "   'item3Id': 176,\n",
       "   'item4Id': 108,\n",
       "   'item5Id': 232,\n",
       "   'backpack1Id': 42,\n",
       "   'behavior': 0,\n",
       "   'heroHealing': 0,\n",
       "   'roamLane': 0,\n",
       "   'isVictory': True},\n",
       "  {'matchId': 5126953310,\n",
       "   'playerSlot': 4,\n",
       "   'heroId': 74,\n",
       "   'steamId': 434951722,\n",
       "   'isRadiant': True,\n",
       "   'numKills': 8,\n",
       "   'numDeaths': 2,\n",
       "   'numAssists': 30,\n",
       "   'leaverStatus': 0,\n",
       "   'numLastHits': 372,\n",
       "   'numDenies': 8,\n",
       "   'goldPerMinute': 557,\n",
       "   'experiencePerMinute': 647,\n",
       "   'level': 25,\n",
       "   'gold': 6323,\n",
       "   'goldSpent': 27230,\n",
       "   'heroDamage': 32179,\n",
       "   'towerDamage': 785,\n",
       "   'partyId': 1,\n",
       "   'isRandom': False,\n",
       "   'lane': 0,\n",
       "   'intentionalFeeding': False,\n",
       "   'role': 1,\n",
       "   'imp': 162,\n",
       "   'award': 1,\n",
       "   'item0Id': 116,\n",
       "   'item1Id': 110,\n",
       "   'item2Id': 48,\n",
       "   'item3Id': 267,\n",
       "   'item4Id': 108,\n",
       "   'item5Id': 256,\n",
       "   'backpack1Id': 65,\n",
       "   'behavior': 0,\n",
       "   'heroHealing': 2154,\n",
       "   'roamLane': 4,\n",
       "   'isVictory': True},\n",
       "  {'matchId': 5126953310,\n",
       "   'playerSlot': 128,\n",
       "   'heroId': 6,\n",
       "   'steamId': 420810680,\n",
       "   'isRadiant': False,\n",
       "   'numKills': 6,\n",
       "   'numDeaths': 5,\n",
       "   'numAssists': 16,\n",
       "   'leaverStatus': 0,\n",
       "   'numLastHits': 324,\n",
       "   'numDenies': 13,\n",
       "   'goldPerMinute': 466,\n",
       "   'experiencePerMinute': 628,\n",
       "   'level': 25,\n",
       "   'gold': 1035,\n",
       "   'goldSpent': 25135,\n",
       "   'heroDamage': 31168,\n",
       "   'towerDamage': 3136,\n",
       "   'partyId': 2,\n",
       "   'isRandom': False,\n",
       "   'lane': 1,\n",
       "   'intentionalFeeding': False,\n",
       "   'role': 0,\n",
       "   'imp': 93,\n",
       "   'award': 0,\n",
       "   'item0Id': 156,\n",
       "   'item1Id': 116,\n",
       "   'item2Id': 236,\n",
       "   'item3Id': 249,\n",
       "   'item4Id': 63,\n",
       "   'item5Id': 256,\n",
       "   'behavior': 0,\n",
       "   'heroHealing': 0,\n",
       "   'roamLane': 0,\n",
       "   'isVictory': False},\n",
       "  {'matchId': 5126953310,\n",
       "   'playerSlot': 129,\n",
       "   'heroId': 30,\n",
       "   'steamId': 287572736,\n",
       "   'isRadiant': False,\n",
       "   'numKills': 8,\n",
       "   'numDeaths': 14,\n",
       "   'numAssists': 13,\n",
       "   'leaverStatus': 0,\n",
       "   'numLastHits': 35,\n",
       "   'numDenies': 3,\n",
       "   'goldPerMinute': 319,\n",
       "   'experiencePerMinute': 397,\n",
       "   'level': 23,\n",
       "   'gold': 2738,\n",
       "   'goldSpent': 12865,\n",
       "   'heroDamage': 16021,\n",
       "   'towerDamage': 242,\n",
       "   'partyId': 2,\n",
       "   'isRandom': False,\n",
       "   'lane': 1,\n",
       "   'intentionalFeeding': False,\n",
       "   'role': 2,\n",
       "   'imp': 80,\n",
       "   'award': 0,\n",
       "   'item0Id': 102,\n",
       "   'item1Id': 180,\n",
       "   'item2Id': 254,\n",
       "   'item3Id': 218,\n",
       "   'item4Id': 40,\n",
       "   'item5Id': 36,\n",
       "   'behavior': 0,\n",
       "   'heroHealing': 5422,\n",
       "   'roamLane': 0,\n",
       "   'isVictory': False},\n",
       "  {'matchId': 5126953310,\n",
       "   'playerSlot': 130,\n",
       "   'heroId': 25,\n",
       "   'steamId': 112374113,\n",
       "   'isRadiant': False,\n",
       "   'numKills': 9,\n",
       "   'numDeaths': 6,\n",
       "   'numAssists': 16,\n",
       "   'leaverStatus': 0,\n",
       "   'numLastHits': 347,\n",
       "   'numDenies': 14,\n",
       "   'goldPerMinute': 536,\n",
       "   'experiencePerMinute': 680,\n",
       "   'level': 25,\n",
       "   'gold': 587,\n",
       "   'goldSpent': 28765,\n",
       "   'heroDamage': 38034,\n",
       "   'towerDamage': 551,\n",
       "   'partyId': 2,\n",
       "   'isRandom': False,\n",
       "   'lane': 3,\n",
       "   'intentionalFeeding': False,\n",
       "   'role': 1,\n",
       "   'imp': 109,\n",
       "   'award': 3,\n",
       "   'item0Id': 100,\n",
       "   'item1Id': 102,\n",
       "   'item2Id': 96,\n",
       "   'item3Id': 232,\n",
       "   'item4Id': 116,\n",
       "   'item5Id': 48,\n",
       "   'behavior': 0,\n",
       "   'heroHealing': 0,\n",
       "   'roamLane': 0,\n",
       "   'isVictory': False},\n",
       "  {'matchId': 5126953310,\n",
       "   'playerSlot': 131,\n",
       "   'heroId': 23,\n",
       "   'steamId': 73055363,\n",
       "   'isRadiant': False,\n",
       "   'numKills': 3,\n",
       "   'numDeaths': 9,\n",
       "   'numAssists': 20,\n",
       "   'leaverStatus': 0,\n",
       "   'numLastHits': 357,\n",
       "   'numDenies': 4,\n",
       "   'goldPerMinute': 467,\n",
       "   'experiencePerMinute': 594,\n",
       "   'level': 25,\n",
       "   'gold': 2576,\n",
       "   'goldSpent': 20275,\n",
       "   'heroDamage': 26118,\n",
       "   'towerDamage': 264,\n",
       "   'partyId': 3,\n",
       "   'isRandom': False,\n",
       "   'lane': 2,\n",
       "   'intentionalFeeding': False,\n",
       "   'role': 0,\n",
       "   'imp': 88,\n",
       "   'award': 0,\n",
       "   'item0Id': 50,\n",
       "   'item1Id': 249,\n",
       "   'item2Id': 116,\n",
       "   'item4Id': 40,\n",
       "   'item5Id': 141,\n",
       "   'backpack0Id': 182,\n",
       "   'backpack1Id': 11,\n",
       "   'backpack2Id': 73,\n",
       "   'behavior': 0,\n",
       "   'heroHealing': 0,\n",
       "   'roamLane': 0,\n",
       "   'isVictory': False},\n",
       "  {'matchId': 5126953310,\n",
       "   'playerSlot': 132,\n",
       "   'heroId': 21,\n",
       "   'steamId': 27075585,\n",
       "   'isRadiant': False,\n",
       "   'numKills': 5,\n",
       "   'numDeaths': 10,\n",
       "   'numAssists': 15,\n",
       "   'leaverStatus': 0,\n",
       "   'numLastHits': 257,\n",
       "   'numDenies': 24,\n",
       "   'goldPerMinute': 419,\n",
       "   'experiencePerMinute': 489,\n",
       "   'level': 25,\n",
       "   'gold': 980,\n",
       "   'goldSpent': 18795,\n",
       "   'heroDamage': 34218,\n",
       "   'towerDamage': 1055,\n",
       "   'partyId': 3,\n",
       "   'isRandom': False,\n",
       "   'lane': 3,\n",
       "   'intentionalFeeding': False,\n",
       "   'role': 0,\n",
       "   'imp': 79,\n",
       "   'award': 0,\n",
       "   'item0Id': 40,\n",
       "   'item1Id': 166,\n",
       "   'item2Id': 1,\n",
       "   'item3Id': 135,\n",
       "   'item4Id': 250,\n",
       "   'item5Id': 50,\n",
       "   'behavior': 0,\n",
       "   'heroHealing': 0,\n",
       "   'roamLane': 0,\n",
       "   'isVictory': False}]}"
      ]
     },
     "execution_count": 8,
     "metadata": {},
     "output_type": "execute_result"
    }
   ],
   "source": [
    "filtered_matches[0]"
   ]
  },
  {
   "cell_type": "code",
   "execution_count": 9,
   "metadata": {},
   "outputs": [],
   "source": [
    "X_no_features_df = []\n",
    "Y_df = []\n",
    "\n",
    "# the Ys will be positioned such that ids are in order of [carry, mid lane, offlane, support, hard support]\n",
    "for match in filtered_matches:\n",
    "\n",
    "    radiantWin = match['didRadiantWin']\n",
    "    \n",
    "    radiant_players = {}\n",
    "    dire_players = {}\n",
    "    \n",
    "    # tried doing it by role, but it was very messy\n",
    "    # sometimes it was inconsistent or not there.\n",
    "    for player in match['players']:\n",
    "        if player['isRadiant']:\n",
    "            radiant_players[player['heroId']] = -player['goldSpent']\n",
    "        else:\n",
    "            dire_players[player['heroId']] = -player['goldSpent']\n",
    "            \n",
    "    \n",
    "    if radiantWin:\n",
    "        heroesY = sorted(radiant_players, key=lambda k: radiant_players[k])\n",
    "        heroesX = sorted(dire_players, key=lambda k: dire_players[k])\n",
    "    else:\n",
    "        heroesY = sorted(dire_players, key=lambda k: dire_players[k])\n",
    "        heroesX = sorted(radiant_players, key=lambda k: radiant_players[k])\n",
    "\n",
    "    \n",
    "    X_no_features_df.append(heroesX)\n",
    "    Y_df.append(heroesY)"
   ]
  },
  {
   "cell_type": "markdown",
   "metadata": {},
   "source": [
    "Calculate winrates"
   ]
  },
  {
   "cell_type": "code",
   "execution_count": 10,
   "metadata": {},
   "outputs": [],
   "source": [
    "# Two Tier List\n",
    "# Sums up games played\n",
    "# Sums up Win\n",
    "# first level is the hero we are interested in\n",
    "# second level is who that hero was up against\n",
    "hero_match_count = {}\n",
    "hero_win_count = {}\n",
    "for match in filtered_matches:\n",
    "    radiantHeroes = []\n",
    "    direHeroes = []\n",
    "    radiantWin = match['didRadiantWin']\n",
    "    for player in match['players']:\n",
    "        if player['isRadiant']:\n",
    "            radiantHeroes.append(player['heroId'])\n",
    "        else:\n",
    "            direHeroes.append(player['heroId'])\n",
    "    \n",
    "    for radiant_hero in radiantHeroes:\n",
    "        for dire_hero in direHeroes:\n",
    "            if radiant_hero not in hero_match_count:\n",
    "                hero_match_count[radiant_hero] = {}\n",
    "                hero_win_count[radiant_hero] = {}\n",
    "            if dire_hero not in hero_match_count:\n",
    "                hero_match_count[dire_hero] = {}\n",
    "                hero_win_count[dire_hero] = {}\n",
    "            \n",
    "            if dire_hero not in hero_match_count[radiant_hero]:\n",
    "                hero_match_count[radiant_hero][dire_hero] = 0\n",
    "                hero_win_count[radiant_hero][dire_hero] = 0\n",
    "            if radiant_hero not in hero_match_count[dire_hero]:\n",
    "                hero_match_count[dire_hero][radiant_hero] = 0\n",
    "                hero_win_count[dire_hero][radiant_hero] = 0\n",
    "                \n",
    "                \n",
    "            hero_match_count[radiant_hero][dire_hero] += 1\n",
    "            hero_match_count[dire_hero][radiant_hero] += 1\n",
    "            \n",
    "            if radiantWin:\n",
    "                hero_win_count[radiant_hero][dire_hero] += 1\n",
    "            else:\n",
    "                hero_win_count[dire_hero][radiant_hero] += 1\n",
    "            "
   ]
  },
  {
   "cell_type": "code",
   "execution_count": 91,
   "metadata": {},
   "outputs": [],
   "source": [
    "from collections import defaultdict\n",
    "\n",
    "popularityDict = defaultdict(int)\n",
    "\n",
    "for match in filtered_matches:\n",
    "    for player in match['players']:\n",
    "        hero = player['heroId']\n",
    "        popularityDict[hero] += 1\n",
    "\n",
    "for key, value in popularityDict.items():\n",
    "    popularityDict[key] /= len(filtered_matches)"
   ]
  },
  {
   "cell_type": "code",
   "execution_count": 92,
   "metadata": {},
   "outputs": [
    {
     "data": {
      "text/plain": [
       "defaultdict(int,\n",
       "            {64: 0.14072932717000514,\n",
       "             99: 0.22496147919876733,\n",
       "             41: 0.3559322033898305,\n",
       "             84: 0.3533641499743195,\n",
       "             74: 0.3995891114535182,\n",
       "             6: 0.23061119671289163,\n",
       "             30: 0.1926040061633282,\n",
       "             25: 0.24345146379044685,\n",
       "             23: 0.22342064714946072,\n",
       "             21: 0.3189522342064715,\n",
       "             114: 0.18849512069851052,\n",
       "             104: 0.3415511042629687,\n",
       "             90: 0.22342064714946072,\n",
       "             14: 0.650231124807396,\n",
       "             2: 0.2645095017976374,\n",
       "             93: 0.24858757062146894,\n",
       "             5: 0.28043143297380585,\n",
       "             75: 0.19517205957883924,\n",
       "             34: 0.1802773497688752,\n",
       "             44: 0.27375449409347713,\n",
       "             26: 0.4530046224961479,\n",
       "             47: 0.17154596815613765,\n",
       "             54: 0.14329738058551617,\n",
       "             7: 0.275808936825886,\n",
       "             35: 0.23163841807909605,\n",
       "             1: 0.14946070878274267,\n",
       "             42: 0.15459681561376476,\n",
       "             50: 0.18284540318438625,\n",
       "             101: 0.23780174627632256,\n",
       "             62: 0.1381612737544941,\n",
       "             9: 0.29840780688238316,\n",
       "             8: 0.23831535695942477,\n",
       "             22: 0.26913199794555726,\n",
       "             27: 0.19003595274781715,\n",
       "             86: 0.2645095017976374,\n",
       "             37: 0.1016949152542373,\n",
       "             72: 0.12172573189522343,\n",
       "             32: 0.1694915254237288,\n",
       "             17: 0.14586543400102722,\n",
       "             60: 0.17668207498715974,\n",
       "             106: 0.16435541859270672,\n",
       "             81: 0.13045711350796096,\n",
       "             3: 0.02824858757062147,\n",
       "             113: 0.03287108371854135})"
      ]
     },
     "execution_count": 92,
     "metadata": {},
     "output_type": "execute_result"
    }
   ],
   "source": [
    "popularityDict"
   ]
  },
  {
   "cell_type": "code",
   "execution_count": 40,
   "metadata": {},
   "outputs": [
    {
     "name": "stdout",
     "output_type": "stream",
     "text": [
      "44\n",
      "44\n"
     ]
    }
   ],
   "source": [
    "print(len(hero_match_count))\n",
    "print(len(hero_win_count))"
   ]
  },
  {
   "cell_type": "code",
   "execution_count": 80,
   "metadata": {},
   "outputs": [],
   "source": [
    "hero_win_percentage = {}\n",
    "\n",
    "for hero in hero_win_count.keys():\n",
    "    \n",
    "    hero_win_percentage[hero] = {}\n",
    "        \n",
    "    for hero2 in hero_win_count[hero].keys():\n",
    "        hero_win_percentage[hero][hero2] = hero_win_count[hero][hero2] / hero_match_count[hero][hero2]"
   ]
  },
  {
   "cell_type": "code",
   "execution_count": 81,
   "metadata": {},
   "outputs": [
    {
     "data": {
      "text/plain": [
       "0.8571428571428571"
      ]
     },
     "execution_count": 81,
     "metadata": {},
     "output_type": "execute_result"
    }
   ],
   "source": [
    "hero_win_percentage[22][3]"
   ]
  },
  {
   "cell_type": "code",
   "execution_count": 82,
   "metadata": {},
   "outputs": [
    {
     "ename": "KeyError",
     "evalue": "22",
     "output_type": "error",
     "traceback": [
      "\u001b[0;31m---------------------------------------------------------------------------\u001b[0m",
      "\u001b[0;31mKeyError\u001b[0m                                  Traceback (most recent call last)",
      "\u001b[0;32m<ipython-input-82-e56eeef75137>\u001b[0m in \u001b[0;36m<module>\u001b[0;34m\u001b[0m\n\u001b[0;32m----> 1\u001b[0;31m \u001b[0mhero_win_percentage\u001b[0m\u001b[0;34m[\u001b[0m\u001b[0;36m22\u001b[0m\u001b[0;34m]\u001b[0m\u001b[0;34m[\u001b[0m\u001b[0;36m22\u001b[0m\u001b[0;34m]\u001b[0m\u001b[0;34m\u001b[0m\u001b[0;34m\u001b[0m\u001b[0m\n\u001b[0m",
      "\u001b[0;31mKeyError\u001b[0m: 22"
     ]
    }
   ],
   "source": [
    "hero_win_percentage[22][22]"
   ]
  },
  {
   "cell_type": "markdown",
   "metadata": {},
   "source": [
    "Here we form our Xs. **When account for win rates, note that not all heroes played each other. Note a -1 for that**\n",
    "\n",
    "Collect which side of the map we are on. One hot encoded. 1 is radiant.\n",
    "\n",
    "\n",
    "Collect win rates against the enemy heroes as node features. \n",
    "\n",
    "Collect win rate and popularity of enemy heroes as node features. \n",
    "\n",
    "To try to enforce constraint of what hero should be where, Do one hot encoding of what position we want this node to be.\n",
    "\n",
    "\n",
    "For edge features:\n",
    "-Concatenate \n",
    "\n",
    "\n",
    "\n"
   ]
  },
  {
   "cell_type": "code",
   "execution_count": 86,
   "metadata": {},
   "outputs": [],
   "source": [
    "#Sample Enemy Team\n",
    "#Hero 86 : win_rate 0.5\n",
    "#Hero 84 : win_rate 0.43529411764705883\n",
    "#Hero 7 : win_rate 0.5357142857142857\n",
    "#Hero 106 : win_rate 0.5068493150684932\n",
    "#Hero 8 : win_rate 0.547945205479452\n",
    "enemy_team = [86, 84, 7, 106, 8]\n",
    "\n",
    "### collect win rates ###\n",
    "win_rates = []\n",
    "win_rates_enemy = []\n",
    "#unary win rates\n",
    "#set win rates for enemy team heroes against enemy team heroes to 0 since we cannot have duplicates\n",
    "win_rate = [[hero_win_percentage[hero_id][enemy] if hero_id not in enemy_team else 0 for hero_id in most_popular_heroes] \\\n",
    "            for enemy in enemy_team]\n",
    "win_rate_enemy = [[hero_win_percentage[enemy][hero_id] if hero_id not in enemy_team else 0 for hero_id in most_popular_heroes] \\\n",
    "                  for enemy in enemy_team]\n",
    "\n",
    "#enemy popularity\n",
    "popularity = [popularityDict[hero] for hero in enemy_team]"
   ]
  },
  {
   "cell_type": "code",
   "execution_count": 87,
   "metadata": {},
   "outputs": [
    {
     "data": {
      "text/plain": [
       "[1.3225475089881868,\n",
       " 1.7668207498715973,\n",
       " 1.37904468412943,\n",
       " 0.8217770929635336,\n",
       " 1.1915767847971237]"
      ]
     },
     "execution_count": 87,
     "metadata": {},
     "output_type": "execute_result"
    }
   ],
   "source": [
    "popularity"
   ]
  },
  {
   "cell_type": "markdown",
   "metadata": {},
   "source": [
    "# Let's pretend we have the data. What CRF library do we use?\n",
    "\n",
    "Let's try: https://pystruct.github.io"
   ]
  },
  {
   "cell_type": "code",
   "execution_count": 26,
   "metadata": {},
   "outputs": [],
   "source": [
    "import scipy as sci\n",
    "import sklearn as sk\n",
    "import pystruct"
   ]
  },
  {
   "cell_type": "code",
   "execution_count": 31,
   "metadata": {},
   "outputs": [],
   "source": [
    "import pickle\n",
    "\n",
    "with open(\"data/all_raw_match_data.pkl\", \"rb\") as f:\n",
    "    data = pickle.load(f)"
   ]
  }
 ],
 "metadata": {
  "kernelspec": {
   "display_name": "Python 3",
   "language": "python",
   "name": "python3"
  },
  "language_info": {
   "codemirror_mode": {
    "name": "ipython",
    "version": 3
   },
   "file_extension": ".py",
   "mimetype": "text/x-python",
   "name": "python",
   "nbconvert_exporter": "python",
   "pygments_lexer": "ipython3",
   "version": "3.6.9"
  }
 },
 "nbformat": 4,
 "nbformat_minor": 2
}
