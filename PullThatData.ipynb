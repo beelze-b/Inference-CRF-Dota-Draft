{
 "cells": [
  {
   "cell_type": "code",
   "execution_count": 2,
   "metadata": {},
   "outputs": [],
   "source": [
    "import numpy as np\n",
    "import pandas as pd\n",
    "\n",
    "\n",
    "import requests as rqt\n",
    "import time\n",
    "\n",
    "from os import listdir"
   ]
  },
  {
   "cell_type": "markdown",
   "metadata": {},
   "source": [
    "List of the IDs of the most popular heroes.\n",
    "\n",
    "Got this manually"
   ]
  },
  {
   "cell_type": "code",
   "execution_count": 18,
   "metadata": {},
   "outputs": [],
   "source": [
    "# this seems right\n",
    "# https://github.com/kronusme/dota2-api/blob/master/data/heroes.json\n",
    "# this agrees https://liquipedia.net/dota2/MediaWiki:Dota2webapi-heroes.json\n",
    "most_popular_heroes = [\n",
    "    14, # pudge\n",
    "    26, # lion\n",
    "    74, # invoker,\n",
    "    84, # ogre_magi\n",
    "    41, # faceless_void\n",
    "    21, # windrunner / windranger\n",
    "    7, # earthshaker\n",
    "    104, # legion_commander\n",
    "    9, # mirana\n",
    "    44, # phantom_assassin\n",
    "    22, # zeus\n",
    "    93, # slark\n",
    "    5, # crystal_maiden\n",
    "    8, # juggernaut\n",
    "    86, # rubick\n",
    "    35, # sniper\n",
    "    6, # drow_ranger\n",
    "    101, # skywrath_mage\n",
    "    25, # lina\n",
    "    2, # axe\n",
    "    114, # monkey king\n",
    "    27, # shadow shaman\n",
    "    23, # kunkka\n",
    "    99, # bristleback\n",
    "    30 # witch_doctor\n",
    "]"
   ]
  },
  {
   "cell_type": "markdown",
   "metadata": {},
   "source": [
    "Example of pulling a match"
   ]
  },
  {
   "cell_type": "code",
   "execution_count": 19,
   "metadata": {},
   "outputs": [],
   "source": [
    "BASE_PATH = \"https://api.opendota.com/api\"\n",
    "QUERY_PATH = \"/matches/\""
   ]
  },
  {
   "cell_type": "code",
   "execution_count": 28,
   "metadata": {},
   "outputs": [],
   "source": [
    "response = rqt.get(BASE_PATH + QUERY_PATH + str(5117768313))"
   ]
  },
  {
   "cell_type": "code",
   "execution_count": 29,
   "metadata": {},
   "outputs": [
    {
     "name": "stdout",
     "output_type": "stream",
     "text": [
      "{'match_id': 5117768313, 'barracks_status_dire': 51, 'barracks_status_radiant': 3, 'chat': None, 'cluster': 123, 'cosmetics': None, 'dire_score': 35, 'dire_team_id': None, 'draft_timings': None, 'duration': 1486, 'engine': 1, 'first_blood_time': 77, 'game_mode': 23, 'human_players': 10, 'leagueid': 0, 'lobby_type': 0, 'match_seq_num': 4294271910, 'negative_votes': 0, 'objectives': None, 'picks_bans': [{'is_pick': False, 'hero_id': 37, 'team': 0, 'order': 0}, {'is_pick': False, 'hero_id': 101, 'team': 0, 'order': 1}], 'positive_votes': 0, 'radiant_gold_adv': None, 'radiant_score': 34, 'radiant_team_id': None, 'radiant_win': False, 'radiant_xp_adv': None, 'skill': 1, 'start_time': 1574060399, 'teamfights': None, 'tower_status_dire': 1796, 'tower_status_radiant': 6, 'version': None, 'replay_salt': 57364465, 'series_id': 0, 'series_type': 0, 'players': [{'match_id': 5117768313, 'player_slot': 0, 'ability_targets': None, 'ability_upgrades_arr': [5605, 5603, 5605, 5604, 5603, 5606, 5605, 5605, 5603, 6009, 5604, 5606, 5604, 5604, 5603, 6176, 5606, 6922], 'ability_uses': None, 'account_id': None, 'actions': None, 'additional_units': None, 'assists': 10, 'backpack_0': 0, 'backpack_1': 0, 'backpack_2': 0, 'buyback_log': None, 'camps_stacked': None, 'connection_log': None, 'creeps_stacked': None, 'damage': None, 'damage_inflictor': None, 'damage_inflictor_received': None, 'damage_taken': None, 'damage_targets': None, 'deaths': 10, 'denies': 2, 'dn_t': None, 'firstblood_claimed': None, 'gold': 870, 'gold_per_min': 572, 'gold_reasons': None, 'gold_spent': 11665, 'gold_t': None, 'hero_damage': 8640, 'hero_healing': 0, 'hero_hits': None, 'hero_id': 106, 'item_0': 182, 'item_1': 100, 'item_2': 75, 'item_3': 108, 'item_4': 166, 'item_5': 29, 'item_uses': None, 'kill_streaks': None, 'killed': None, 'killed_by': None, 'kills': 2, 'kills_log': None, 'lane_pos': None, 'last_hits': 34, 'leaver_status': 0, 'level': 23, 'lh_t': None, 'life_state': None, 'max_hero_hit': None, 'multi_kills': None, 'obs': None, 'obs_left_log': None, 'obs_log': None, 'obs_placed': None, 'party_id': 0, 'party_size': 1, 'performance_others': None, 'permanent_buffs': None, 'pings': None, 'pred_vict': None, 'purchase': None, 'purchase_log': None, 'randomed': None, 'repicked': None, 'roshans_killed': None, 'rune_pickups': None, 'runes': None, 'runes_log': None, 'sen': None, 'sen_left_log': None, 'sen_log': None, 'sen_placed': None, 'stuns': None, 'teamfight_participation': None, 'times': None, 'tower_damage': 1139, 'towers_killed': None, 'xp_per_min': 948, 'xp_reasons': None, 'xp_t': None, 'radiant_win': False, 'start_time': 1574060399, 'duration': 1486, 'cluster': 123, 'lobby_type': 0, 'game_mode': 23, 'is_contributor': False, 'patch': 41, 'region': 2, 'isRadiant': True, 'win': 0, 'lose': 1, 'total_gold': 14166, 'total_xp': 23478, 'kills_per_min': 0.08075370121130553, 'kda': 1, 'abandons': 0, 'rank_tier': None, 'cosmetics': [], 'benchmarks': {'gold_per_min': {'raw': 572, 'pct': 0.7407407407407407}, 'xp_per_min': {'raw': 948, 'pct': 0.9912854030501089}, 'kills_per_min': {'raw': 0.08075370121130551, 'pct': 0.08351488743645606}, 'last_hits_per_min': {'raw': 1.3728129205921937, 'pct': 0.008714596949891068}, 'hero_damage_per_min': {'raw': 348.8559892328398, 'pct': 0.03558460421205519}, 'hero_healing_per_min': {'raw': 0, 'pct': 0.710239651416122}, 'tower_damage': {'raw': 1139, 'pct': 0.4829339143064633}, 'stuns_per_min': {'raw': 0, 'pct': 0.007262164124909223}, 'lhten': {}}}, {'match_id': 5117768313, 'player_slot': 1, 'ability_targets': None, 'ability_upgrades_arr': [5103, 5102, 5103, 5102, 5103, 5105, 5103, 5102, 5102, 5918, 5104, 5105, 5104, 5104, 6409, 5104, 5105, 6207, 6302], 'ability_uses': None, 'account_id': 113051389, 'actions': None, 'additional_units': None, 'assists': 10, 'backpack_0': 0, 'backpack_1': 0, 'backpack_2': 0, 'buyback_log': None, 'camps_stacked': None, 'connection_log': None, 'creeps_stacked': None, 'damage': None, 'damage_inflictor': None, 'damage_inflictor_received': None, 'damage_taken': None, 'damage_targets': None, 'deaths': 5, 'denies': 6, 'dn_t': None, 'firstblood_claimed': None, 'gold': 2623, 'gold_per_min': 1094, 'gold_reasons': None, 'gold_spent': 25300, 'gold_t': None, 'hero_damage': 32852, 'hero_healing': 290, 'hero_hits': None, 'hero_id': 16, 'item_0': 232, 'item_1': 137, 'item_2': 190, 'item_3': 1, 'item_4': 180, 'item_5': 273, 'item_uses': None, 'kill_streaks': None, 'killed': None, 'killed_by': None, 'kills': 14, 'kills_log': None, 'lane_pos': None, 'last_hits': 120, 'leaver_status': 0, 'level': 25, 'lh_t': None, 'life_state': None, 'max_hero_hit': None, 'multi_kills': None, 'obs': None, 'obs_left_log': None, 'obs_log': None, 'obs_placed': None, 'party_id': 1, 'party_size': 2, 'performance_others': None, 'permanent_buffs': [{'permanent_buff': 2, 'stack_count': 0}, {'permanent_buff': 6, 'stack_count': 1}], 'pings': None, 'pred_vict': None, 'purchase': None, 'purchase_log': None, 'randomed': None, 'repicked': None, 'roshans_killed': None, 'rune_pickups': None, 'runes': None, 'runes_log': None, 'sen': None, 'sen_left_log': None, 'sen_log': None, 'sen_placed': None, 'stuns': None, 'teamfight_participation': None, 'times': None, 'tower_damage': 213, 'towers_killed': None, 'xp_per_min': 1596, 'xp_reasons': None, 'xp_t': None, 'personaname': 'Brazuvian', 'name': None, 'last_login': None, 'radiant_win': False, 'start_time': 1574060399, 'duration': 1486, 'cluster': 123, 'lobby_type': 0, 'game_mode': 23, 'is_contributor': False, 'patch': 41, 'region': 2, 'isRadiant': True, 'win': 0, 'lose': 1, 'total_gold': 27094, 'total_xp': 39527, 'kills_per_min': 0.5652759084791387, 'kda': 4, 'abandons': 0, 'rank_tier': None, 'cosmetics': [], 'benchmarks': {'gold_per_min': {'raw': 1094, 'pct': 1}, 'xp_per_min': {'raw': 1596, 'pct': 1}, 'kills_per_min': {'raw': 0.5652759084791387, 'pct': 0.9972776769509982}, 'last_hits_per_min': {'raw': 4.845222072678331, 'pct': 0.7005444646098004}, 'hero_damage_per_min': {'raw': 1326.4602960969044, 'pct': 0.9945553539019963}, 'hero_healing_per_min': {'raw': 11.7092866756393, 'pct': 0.9101633393829401}, 'tower_damage': {'raw': 213, 'pct': 0.3339382940108893}, 'stuns_per_min': {'raw': 0, 'pct': 0}, 'lhten': {}}}, {'match_id': 5117768313, 'player_slot': 2, 'ability_targets': None, 'ability_upgrades_arr': [5496, 5495, 5496, 5495, 5496, 5497, 5496, 5494, 5495, 5495, 5494, 5494, 7384, 5494, 5497, 5907, 5497, 6147], 'ability_uses': None, 'account_id': 138896944, 'actions': None, 'additional_units': None, 'assists': 16, 'backpack_0': 0, 'backpack_1': 0, 'backpack_2': 0, 'buyback_log': None, 'camps_stacked': None, 'connection_log': None, 'creeps_stacked': None, 'damage': None, 'damage_inflictor': None, 'damage_inflictor_received': None, 'damage_taken': None, 'damage_targets': None, 'deaths': 5, 'denies': 6, 'dn_t': None, 'firstblood_claimed': None, 'gold': 932, 'gold_per_min': 811, 'gold_reasons': None, 'gold_spent': 20315, 'gold_t': None, 'hero_damage': 21803, 'hero_healing': 0, 'hero_hits': None, 'hero_id': 93, 'item_0': 252, 'item_1': 11, 'item_2': 63, 'item_3': 249, 'item_4': 143, 'item_5': 160, 'item_uses': None, 'kill_streaks': None, 'killed': None, 'killed_by': None, 'kills': 7, 'kills_log': None, 'lane_pos': None, 'last_hits': 76, 'leaver_status': 0, 'level': 24, 'lh_t': None, 'life_state': None, 'max_hero_hit': None, 'multi_kills': None, 'obs': None, 'obs_left_log': None, 'obs_log': None, 'obs_placed': None, 'party_id': 1, 'party_size': 2, 'performance_others': None, 'permanent_buffs': [{'permanent_buff': 8, 'stack_count': 20}], 'pings': None, 'pred_vict': None, 'purchase': None, 'purchase_log': None, 'randomed': None, 'repicked': None, 'roshans_killed': None, 'rune_pickups': None, 'runes': None, 'runes_log': None, 'sen': None, 'sen_left_log': None, 'sen_log': None, 'sen_placed': None, 'stuns': None, 'teamfight_participation': None, 'times': None, 'tower_damage': 3195, 'towers_killed': None, 'xp_per_min': 1050, 'xp_reasons': None, 'xp_t': None, 'personaname': 'Whoop de scoop', 'name': None, 'last_login': None, 'radiant_win': False, 'start_time': 1574060399, 'duration': 1486, 'cluster': 123, 'lobby_type': 0, 'game_mode': 23, 'is_contributor': False, 'patch': 41, 'region': 2, 'isRadiant': True, 'win': 0, 'lose': 1, 'total_gold': 20085, 'total_xp': 26005, 'kills_per_min': 0.28263795423956933, 'kda': 3, 'abandons': 0, 'rank_tier': 53, 'cosmetics': [], 'benchmarks': {'gold_per_min': {'raw': 811, 'pct': 0.9978689397975493}, 'xp_per_min': {'raw': 1050, 'pct': 0.9994672349493873}, 'kills_per_min': {'raw': 0.28263795423956933, 'pct': 0.7085775173148642}, 'last_hits_per_min': {'raw': 3.0686406460296096, 'pct': 0.049014384656366546}, 'hero_damage_per_min': {'raw': 880.3364737550471, 'pct': 0.8779968034096963}, 'hero_healing_per_min': {'raw': 0, 'pct': 0.9802876931273309}, 'tower_damage': {'raw': 3195, 'pct': 0.5210442194992009}, 'stuns_per_min': {'raw': 0, 'pct': 0.6414491209376665}, 'lhten': {}}}, {'match_id': 5117768313, 'player_slot': 3, 'ability_targets': None, 'ability_upgrades_arr': [5233, 5234, 5233, 5235, 5233, 7304, 5233, 5234, 5234, 5235, 5942, 7304, 5235, 6114, 5235, 5234, 7304, 6093, 6049], 'ability_uses': None, 'account_id': None, 'actions': None, 'additional_units': None, 'assists': 12, 'backpack_0': 0, 'backpack_1': 0, 'backpack_2': 0, 'buyback_log': None, 'camps_stacked': None, 'connection_log': None, 'creeps_stacked': None, 'damage': None, 'damage_inflictor': None, 'damage_inflictor_received': None, 'damage_taken': None, 'damage_targets': None, 'deaths': 10, 'denies': 1, 'dn_t': None, 'firstblood_claimed': None, 'gold': 2048, 'gold_per_min': 630, 'gold_reasons': None, 'gold_spent': 12035, 'gold_t': None, 'hero_damage': 8983, 'hero_healing': 9136, 'hero_hits': None, 'hero_id': 50, 'item_0': 102, 'item_1': 181, 'item_2': 42, 'item_3': 231, 'item_4': 0, 'item_5': 69, 'item_uses': None, 'kill_streaks': None, 'killed': None, 'killed_by': None, 'kills': 3, 'kills_log': None, 'lane_pos': None, 'last_hits': 37, 'leaver_status': 0, 'level': 25, 'lh_t': None, 'life_state': None, 'max_hero_hit': None, 'multi_kills': None, 'obs': None, 'obs_left_log': None, 'obs_log': None, 'obs_placed': None, 'party_id': 2, 'party_size': 1, 'performance_others': None, 'permanent_buffs': [{'permanent_buff': 6, 'stack_count': 2}], 'pings': None, 'pred_vict': None, 'purchase': None, 'purchase_log': None, 'randomed': None, 'repicked': None, 'roshans_killed': None, 'rune_pickups': None, 'runes': None, 'runes_log': None, 'sen': None, 'sen_left_log': None, 'sen_log': None, 'sen_placed': None, 'stuns': None, 'teamfight_participation': None, 'times': None, 'tower_damage': 813, 'towers_killed': None, 'xp_per_min': 1295, 'xp_reasons': None, 'xp_t': None, 'radiant_win': False, 'start_time': 1574060399, 'duration': 1486, 'cluster': 123, 'lobby_type': 0, 'game_mode': 23, 'is_contributor': False, 'patch': 41, 'region': 2, 'isRadiant': True, 'win': 0, 'lose': 1, 'total_gold': 15603, 'total_xp': 32072, 'kills_per_min': 0.12113055181695828, 'kda': 1, 'abandons': 0, 'rank_tier': None, 'cosmetics': [], 'benchmarks': {'gold_per_min': {'raw': 630, 'pct': 0.9923130677847659}, 'xp_per_min': {'raw': 1295, 'pct': 1}, 'kills_per_min': {'raw': 0.12113055181695828, 'pct': 0.6484975541579315}, 'last_hits_per_min': {'raw': 1.493943472409152, 'pct': 0.376659678546471}, 'hero_damage_per_min': {'raw': 362.7052489905787, 'pct': 0.6519916142557652}, 'hero_healing_per_min': {'raw': 368.88290713324363, 'pct': 0.8784067085953878}, 'tower_damage': {'raw': 813, 'pct': 0.5814116002795248}, 'stuns_per_min': {'raw': 0, 'pct': 0.9322152341020266}, 'lhten': {}}}, {'match_id': 5117768313, 'player_slot': 4, 'ability_targets': None, 'ability_upgrades_arr': [5009, 5008, 5009, 5008, 5007, 5010, 5009, 5007, 5009, 6210, 5007, 5010, 5008, 5007, 6160, 5010, 5008, 6815, 6102], 'ability_uses': None, 'account_id': None, 'actions': None, 'additional_units': None, 'assists': 8, 'backpack_0': 0, 'backpack_1': 0, 'backpack_2': 0, 'buyback_log': None, 'camps_stacked': None, 'connection_log': None, 'creeps_stacked': None, 'damage': None, 'damage_inflictor': None, 'damage_inflictor_received': None, 'damage_taken': None, 'damage_targets': None, 'deaths': 5, 'denies': 0, 'dn_t': None, 'firstblood_claimed': None, 'gold': 809, 'gold_per_min': 1084, 'gold_reasons': None, 'gold_spent': 24730, 'gold_t': None, 'hero_damage': 23269, 'hero_healing': 0, 'hero_hits': None, 'hero_id': 2, 'item_0': 220, 'item_1': 1, 'item_2': 127, 'item_3': 176, 'item_4': 114, 'item_5': 125, 'item_uses': None, 'kill_streaks': None, 'killed': None, 'killed_by': None, 'kills': 8, 'kills_log': None, 'lane_pos': None, 'last_hits': 108, 'leaver_status': 0, 'level': 25, 'lh_t': None, 'life_state': None, 'max_hero_hit': None, 'multi_kills': None, 'obs': None, 'obs_left_log': None, 'obs_log': None, 'obs_placed': None, 'party_id': 3, 'party_size': 1, 'performance_others': None, 'permanent_buffs': None, 'pings': None, 'pred_vict': None, 'purchase': None, 'purchase_log': None, 'randomed': None, 'repicked': None, 'roshans_killed': None, 'rune_pickups': None, 'runes': None, 'runes_log': None, 'sen': None, 'sen_left_log': None, 'sen_log': None, 'sen_placed': None, 'stuns': None, 'teamfight_participation': None, 'times': None, 'tower_damage': 1908, 'towers_killed': None, 'xp_per_min': 1322, 'xp_reasons': None, 'xp_t': None, 'radiant_win': False, 'start_time': 1574060399, 'duration': 1486, 'cluster': 123, 'lobby_type': 0, 'game_mode': 23, 'is_contributor': False, 'patch': 41, 'region': 2, 'isRadiant': True, 'win': 0, 'lose': 1, 'total_gold': 26847, 'total_xp': 32741, 'kills_per_min': 0.3230148048452221, 'kda': 2, 'abandons': 0, 'rank_tier': None, 'cosmetics': [], 'benchmarks': {'gold_per_min': {'raw': 1084, 'pct': 1}, 'xp_per_min': {'raw': 1322, 'pct': 1}, 'kills_per_min': {'raw': 0.32301480484522205, 'pct': 0.8111332007952287}, 'last_hits_per_min': {'raw': 4.360699865410497, 'pct': 0.5506958250497018}, 'hero_damage_per_min': {'raw': 939.5289367429341, 'pct': 0.9403578528827038}, 'hero_healing_per_min': {'raw': 0, 'pct': 0.953611663353214}, 'tower_damage': {'raw': 1908, 'pct': 0.6984758117958914}, 'stuns_per_min': {'raw': 0, 'pct': 0.9337309476474487}, 'lhten': {}}}, {'match_id': 5117768313, 'player_slot': 128, 'ability_targets': None, 'ability_upgrades_arr': [5334, 5336, 5334, 5336, 5336, 5334, 5337, 5336, 5334, 5335, 5335, 5921, 5337, 5335, 5335, 6148, 5337, 6235, 6903], 'ability_uses': None, 'account_id': 82819585, 'actions': None, 'additional_units': None, 'assists': 21, 'backpack_0': 0, 'backpack_1': 0, 'backpack_2': 0, 'buyback_log': None, 'camps_stacked': None, 'connection_log': None, 'creeps_stacked': None, 'damage': None, 'damage_inflictor': None, 'damage_inflictor_received': None, 'damage_taken': None, 'damage_targets': None, 'deaths': 6, 'denies': 2, 'dn_t': None, 'firstblood_claimed': None, 'gold': 2004, 'gold_per_min': 886, 'gold_reasons': None, 'gold_spent': 21065, 'gold_t': None, 'hero_damage': 33681, 'hero_healing': 0, 'hero_hits': None, 'hero_id': 67, 'item_0': 50, 'item_1': 127, 'item_2': 90, 'item_3': 125, 'item_4': 114, 'item_5': 137, 'item_uses': None, 'kill_streaks': None, 'killed': None, 'killed_by': None, 'kills': 6, 'kills_log': None, 'lane_pos': None, 'last_hits': 41, 'leaver_status': 0, 'level': 25, 'lh_t': None, 'life_state': None, 'max_hero_hit': None, 'multi_kills': None, 'obs': None, 'obs_left_log': None, 'obs_log': None, 'obs_placed': None, 'party_id': 4, 'party_size': 1, 'performance_others': None, 'permanent_buffs': [{'permanent_buff': 6, 'stack_count': 1}], 'pings': None, 'pred_vict': None, 'purchase': None, 'purchase_log': None, 'randomed': None, 'repicked': None, 'roshans_killed': None, 'rune_pickups': None, 'runes': None, 'runes_log': None, 'sen': None, 'sen_left_log': None, 'sen_log': None, 'sen_placed': None, 'stuns': None, 'teamfight_participation': None, 'times': None, 'tower_damage': 959, 'towers_killed': None, 'xp_per_min': 1500, 'xp_reasons': None, 'xp_t': None, 'personaname': '𐂃𐂃', 'name': None, 'last_login': None, 'radiant_win': False, 'start_time': 1574060399, 'duration': 1486, 'cluster': 123, 'lobby_type': 0, 'game_mode': 23, 'is_contributor': False, 'patch': 41, 'region': 2, 'isRadiant': False, 'win': 1, 'lose': 0, 'total_gold': 21943, 'total_xp': 37150, 'kills_per_min': 0.24226110363391656, 'kda': 3, 'abandons': 0, 'rank_tier': None, 'cosmetics': [], 'benchmarks': {'gold_per_min': {'raw': 886, 'pct': 1}, 'xp_per_min': {'raw': 1500, 'pct': 1}, 'kills_per_min': {'raw': 0.24226110363391656, 'pct': 0.7265725288831836}, 'last_hits_per_min': {'raw': 1.6554508748317631, 'pct': 0.005134788189987163}, 'hero_damage_per_min': {'raw': 1359.9327052489907, 'pct': 0.9409499358151476}, 'hero_healing_per_min': {'raw': 0, 'pct': 0.9691912708600771}, 'tower_damage': {'raw': 959, 'pct': 0.40949935815147626}, 'stuns_per_min': {'raw': 0, 'pct': 0.7689345314505777}, 'lhten': {}}}, {'match_id': 5117768313, 'player_slot': 129, 'ability_targets': None, 'ability_upgrades_arr': [5044, 5046, 5044, 5045, 5044, 5047, 5044, 5045, 5045, 5968, 5046, 5047, 5045, 5046, 6600, 5046, 5047, 6235, 6678], 'ability_uses': None, 'account_id': 110168834, 'actions': None, 'additional_units': None, 'assists': 12, 'backpack_0': 0, 'backpack_1': 0, 'backpack_2': 0, 'buyback_log': None, 'camps_stacked': None, 'connection_log': None, 'creeps_stacked': None, 'damage': None, 'damage_inflictor': None, 'damage_inflictor_received': None, 'damage_taken': None, 'damage_targets': None, 'deaths': 7, 'denies': 0, 'dn_t': None, 'firstblood_claimed': None, 'gold': 2216, 'gold_per_min': 784, 'gold_reasons': None, 'gold_spent': 17985, 'gold_t': None, 'hero_damage': 14523, 'hero_healing': 0, 'hero_hits': None, 'hero_id': 26, 'item_0': 108, 'item_1': 1, 'item_2': 63, 'item_3': 176, 'item_4': 215, 'item_5': 259, 'item_uses': None, 'kill_streaks': None, 'killed': None, 'killed_by': None, 'kills': 4, 'kills_log': None, 'lane_pos': None, 'last_hits': 16, 'leaver_status': 0, 'level': 25, 'lh_t': None, 'life_state': None, 'max_hero_hit': None, 'multi_kills': None, 'obs': None, 'obs_left_log': None, 'obs_log': None, 'obs_placed': None, 'party_id': 5, 'party_size': 1, 'performance_others': None, 'permanent_buffs': [{'permanent_buff': 7, 'stack_count': 6}], 'pings': None, 'pred_vict': None, 'purchase': None, 'purchase_log': None, 'randomed': None, 'repicked': None, 'roshans_killed': None, 'rune_pickups': None, 'runes': None, 'runes_log': None, 'sen': None, 'sen_left_log': None, 'sen_log': None, 'sen_placed': None, 'stuns': None, 'teamfight_participation': None, 'times': None, 'tower_damage': 758, 'towers_killed': None, 'xp_per_min': 1419, 'xp_reasons': None, 'xp_t': None, 'personaname': 'Nitenox', 'name': None, 'last_login': '2018-09-20T05:55:49.152Z', 'radiant_win': False, 'start_time': 1574060399, 'duration': 1486, 'cluster': 123, 'lobby_type': 0, 'game_mode': 23, 'is_contributor': False, 'patch': 41, 'region': 2, 'isRadiant': False, 'win': 1, 'lose': 0, 'total_gold': 19417, 'total_xp': 35143, 'kills_per_min': 0.16150740242261105, 'kda': 2, 'abandons': 0, 'rank_tier': None, 'cosmetics': [], 'benchmarks': {'gold_per_min': {'raw': 784, 'pct': 0.9993117687543015}, 'xp_per_min': {'raw': 1419, 'pct': 1}, 'kills_per_min': {'raw': 0.16150740242261102, 'pct': 0.6902959394356504}, 'last_hits_per_min': {'raw': 0.6460296096904441, 'pct': 0.23916035788024775}, 'hero_damage_per_min': {'raw': 586.393001345895, 'pct': 0.9415003441156229}, 'hero_healing_per_min': {'raw': 0, 'pct': 0.7749483826565726}, 'tower_damage': {'raw': 758, 'pct': 0.7384721266345492}, 'stuns_per_min': {'raw': 0, 'pct': 0}, 'lhten': {}}}, {'match_id': 5117768313, 'player_slot': 130, 'ability_targets': None, 'ability_upgrades_arr': [5371, 5370, 5371, 5370, 5371, 5370, 5371, 5370, 5371, 7390, 5371, 5372, 5372, 5371, 7148, 5372, 5372, 5372, 5372, 6656, 5372, 5370, 5370, 5370, 6098], 'ability_uses': None, 'account_id': 54325937, 'actions': None, 'additional_units': None, 'assists': 18, 'backpack_0': 0, 'backpack_1': 0, 'backpack_2': 0, 'buyback_log': None, 'camps_stacked': None, 'connection_log': None, 'creeps_stacked': None, 'damage': None, 'damage_inflictor': None, 'damage_inflictor_received': None, 'damage_taken': None, 'damage_targets': None, 'deaths': 4, 'denies': 11, 'dn_t': None, 'firstblood_claimed': None, 'gold': 4546, 'gold_per_min': 914, 'gold_reasons': None, 'gold_spent': 20015, 'gold_t': None, 'hero_damage': 29472, 'hero_healing': 9, 'hero_hits': None, 'hero_id': 74, 'item_0': 108, 'item_1': 48, 'item_2': 267, 'item_3': 0, 'item_4': 1, 'item_5': 116, 'item_uses': None, 'kill_streaks': None, 'killed': None, 'killed_by': None, 'kills': 4, 'kills_log': None, 'lane_pos': None, 'last_hits': 86, 'leaver_status': 0, 'level': 25, 'lh_t': None, 'life_state': None, 'max_hero_hit': None, 'multi_kills': None, 'obs': None, 'obs_left_log': None, 'obs_log': None, 'obs_placed': None, 'party_id': 6, 'party_size': 1, 'performance_others': None, 'permanent_buffs': [{'permanent_buff': 6, 'stack_count': 1}], 'pings': None, 'pred_vict': None, 'purchase': None, 'purchase_log': None, 'randomed': None, 'repicked': None, 'roshans_killed': None, 'rune_pickups': None, 'runes': None, 'runes_log': None, 'sen': None, 'sen_left_log': None, 'sen_log': None, 'sen_placed': None, 'stuns': None, 'teamfight_participation': None, 'times': None, 'tower_damage': 3830, 'towers_killed': None, 'xp_per_min': 1315, 'xp_reasons': None, 'xp_t': None, 'personaname': 'Giorno Giovanna', 'name': None, 'last_login': '2017-06-20T03:37:14.471Z', 'radiant_win': False, 'start_time': 1574060399, 'duration': 1486, 'cluster': 123, 'lobby_type': 0, 'game_mode': 23, 'is_contributor': False, 'patch': 41, 'region': 2, 'isRadiant': False, 'win': 1, 'lose': 0, 'total_gold': 22636, 'total_xp': 32568, 'kills_per_min': 0.16150740242261105, 'kda': 4, 'abandons': 0, 'rank_tier': None, 'cosmetics': [], 'benchmarks': {'gold_per_min': {'raw': 914, 'pct': 0.9996740547588006}, 'xp_per_min': {'raw': 1315, 'pct': 1}, 'kills_per_min': {'raw': 0.16150740242261102, 'pct': 0.39080834419817473}, 'last_hits_per_min': {'raw': 3.4724091520861373, 'pct': 0.32105606258148633}, 'hero_damage_per_min': {'raw': 1189.9865410497982, 'pct': 0.9664276401564538}, 'hero_healing_per_min': {'raw': 0.3633916554508748, 'pct': 0.8960234680573663}, 'tower_damage': {'raw': 3830, 'pct': 0.6978487614080835}, 'stuns_per_min': {'raw': 0, 'pct': 0.000651890482398957}, 'lhten': {}}}, {'match_id': 5117768313, 'player_slot': 131, 'ability_targets': None, 'ability_upgrades_arr': [5021, 5019, 5021, 5632, 5021, 5022, 5021, 5632, 5632, 5022, 5921, 6170, 5019, 5632, 5019, 5019, 5022, 6634, 6202], 'ability_uses': None, 'account_id': 194151880, 'actions': None, 'additional_units': None, 'assists': 13, 'backpack_0': 0, 'backpack_1': 0, 'backpack_2': 0, 'buyback_log': None, 'camps_stacked': None, 'connection_log': None, 'creeps_stacked': None, 'damage': None, 'damage_inflictor': None, 'damage_inflictor_received': None, 'damage_taken': None, 'damage_targets': None, 'deaths': 10, 'denies': 0, 'dn_t': None, 'firstblood_claimed': None, 'gold': 2232, 'gold_per_min': 974, 'gold_reasons': None, 'gold_spent': 22835, 'gold_t': None, 'hero_damage': 17739, 'hero_healing': 0, 'hero_hits': None, 'hero_id': 6, 'item_0': 147, 'item_1': 10, 'item_2': 156, 'item_3': 139, 'item_4': 67, 'item_5': 63, 'item_uses': None, 'kill_streaks': None, 'killed': None, 'killed_by': None, 'kills': 3, 'kills_log': None, 'lane_pos': None, 'last_hits': 93, 'leaver_status': 0, 'level': 25, 'lh_t': None, 'life_state': None, 'max_hero_hit': None, 'multi_kills': None, 'obs': None, 'obs_left_log': None, 'obs_log': None, 'obs_placed': None, 'party_id': 7, 'party_size': 2, 'performance_others': None, 'permanent_buffs': [{'permanent_buff': 6, 'stack_count': 1}], 'pings': None, 'pred_vict': None, 'purchase': None, 'purchase_log': None, 'randomed': None, 'repicked': None, 'roshans_killed': None, 'rune_pickups': None, 'runes': None, 'runes_log': None, 'sen': None, 'sen_left_log': None, 'sen_log': None, 'sen_placed': None, 'stuns': None, 'teamfight_participation': None, 'times': None, 'tower_damage': 7530, 'towers_killed': None, 'xp_per_min': 1204, 'xp_reasons': None, 'xp_t': None, 'personaname': 'Ainz Ooal Gown', 'name': None, 'last_login': None, 'radiant_win': False, 'start_time': 1574060399, 'duration': 1486, 'cluster': 123, 'lobby_type': 0, 'game_mode': 23, 'is_contributor': False, 'patch': 41, 'region': 2, 'isRadiant': False, 'win': 1, 'lose': 0, 'total_gold': 24122, 'total_xp': 29819, 'kills_per_min': 0.12113055181695828, 'kda': 1, 'abandons': 0, 'rank_tier': 51, 'cosmetics': [], 'benchmarks': {'gold_per_min': {'raw': 974, 'pct': 1}, 'xp_per_min': {'raw': 1204, 'pct': 1}, 'kills_per_min': {'raw': 0.12113055181695828, 'pct': 0.3094897472579876}, 'last_hits_per_min': {'raw': 3.7550471063257063, 'pct': 0.06103958035288507}, 'hero_damage_per_min': {'raw': 716.2449528936743, 'pct': 0.8135431568907964}, 'hero_healing_per_min': {'raw': 0, 'pct': 0.9723414401525989}, 'tower_damage': {'raw': 7530, 'pct': 0.7029089175011922}, 'stuns_per_min': {'raw': 0, 'pct': 0.9785407725321889}, 'lhten': {}}}, {'match_id': 5117768313, 'player_slot': 132, 'ability_targets': None, 'ability_upgrades_arr': [5245, 5246, 5245, 5246, 5245, 5248, 5245, 5246, 5246, 5939, 5247, 5248, 5247, 5247, 6004, 5247, 5248, 6210, 6539], 'ability_uses': None, 'account_id': 316988622, 'actions': None, 'additional_units': None, 'assists': 13, 'backpack_0': 63, 'backpack_1': 0, 'backpack_2': 0, 'buyback_log': None, 'camps_stacked': None, 'connection_log': None, 'creeps_stacked': None, 'damage': None, 'damage_inflictor': None, 'damage_inflictor_received': None, 'damage_taken': None, 'damage_targets': None, 'deaths': 7, 'denies': 2, 'dn_t': None, 'firstblood_claimed': None, 'gold': 4467, 'gold_per_min': 1407, 'gold_reasons': None, 'gold_spent': 31050, 'gold_t': None, 'hero_damage': 47059, 'hero_healing': 0, 'hero_hits': None, 'hero_id': 53, 'item_0': 116, 'item_1': 156, 'item_2': 250, 'item_3': 225, 'item_4': 168, 'item_5': 247, 'item_uses': None, 'kill_streaks': None, 'killed': None, 'killed_by': None, 'kills': 16, 'kills_log': None, 'lane_pos': None, 'last_hits': 129, 'leaver_status': 0, 'level': 25, 'lh_t': None, 'life_state': None, 'max_hero_hit': None, 'multi_kills': None, 'obs': None, 'obs_left_log': None, 'obs_log': None, 'obs_placed': None, 'party_id': 7, 'party_size': 2, 'performance_others': None, 'permanent_buffs': None, 'pings': None, 'pred_vict': None, 'purchase': None, 'purchase_log': None, 'randomed': None, 'repicked': None, 'roshans_killed': None, 'rune_pickups': None, 'runes': None, 'runes_log': None, 'sen': None, 'sen_left_log': None, 'sen_log': None, 'sen_placed': None, 'stuns': None, 'teamfight_participation': None, 'times': None, 'tower_damage': 3893, 'towers_killed': None, 'xp_per_min': 1578, 'xp_reasons': None, 'xp_t': None, 'personaname': 'WORLBO$$', 'name': None, 'last_login': None, 'radiant_win': False, 'start_time': 1574060399, 'duration': 1486, 'cluster': 123, 'lobby_type': 0, 'game_mode': 23, 'is_contributor': False, 'patch': 41, 'region': 2, 'isRadiant': False, 'win': 1, 'lose': 0, 'total_gold': 34846, 'total_xp': 39081, 'kills_per_min': 0.6460296096904442, 'kda': 3, 'abandons': 0, 'rank_tier': 44, 'cosmetics': [], 'benchmarks': {'gold_per_min': {'raw': 1407, 'pct': 1}, 'xp_per_min': {'raw': 1578, 'pct': 1}, 'kills_per_min': {'raw': 0.6460296096904441, 'pct': 0.9981481481481481}, 'last_hits_per_min': {'raw': 5.2086137281292055, 'pct': 0.26666666666666666}, 'hero_damage_per_min': {'raw': 1900.0942126514133, 'pct': 1}, 'hero_healing_per_min': {'raw': 0, 'pct': 0.8555555555555555}, 'tower_damage': {'raw': 3893, 'pct': 0.42592592592592593}, 'stuns_per_min': {'raw': 0, 'pct': 0.7870370370370371}, 'lhten': {}}}], 'patch': 41, 'region': 2, 'replay_url': 'http://replay123.valve.net/570/5117768313_57364465.dem.bz2'}\n"
     ]
    }
   ],
   "source": [
    "print(response.json())"
   ]
  },
  {
   "cell_type": "markdown",
   "metadata": {},
   "source": [
    "Back to heroes"
   ]
  },
  {
   "cell_type": "code",
   "execution_count": 20,
   "metadata": {},
   "outputs": [
    {
     "data": {
      "text/plain": [
       "25"
      ]
     },
     "execution_count": 20,
     "metadata": {},
     "output_type": "execute_result"
    }
   ],
   "source": [
    "len(most_popular_heroes)"
   ]
  },
  {
   "cell_type": "markdown",
   "metadata": {},
   "source": [
    "See if I got the right heroes"
   ]
  },
  {
   "cell_type": "code",
   "execution_count": 21,
   "metadata": {},
   "outputs": [],
   "source": [
    "heroes_got = rqt.get(\"https://api.opendota.com/api/heroes\")"
   ]
  },
  {
   "cell_type": "code",
   "execution_count": 22,
   "metadata": {},
   "outputs": [
    {
     "name": "stdout",
     "output_type": "stream",
     "text": [
      "Axe\n",
      "Crystal Maiden\n",
      "Drow Ranger\n",
      "Earthshaker\n",
      "Juggernaut\n",
      "Mirana\n",
      "Pudge\n",
      "Windranger\n",
      "Zeus\n",
      "Kunkka\n",
      "Lina\n",
      "Lion\n",
      "Shadow Shaman\n",
      "Witch Doctor\n",
      "Sniper\n",
      "Faceless Void\n",
      "Phantom Assassin\n",
      "Invoker\n",
      "Ogre Magi\n",
      "Rubick\n",
      "Slark\n",
      "Bristleback\n",
      "Skywrath Mage\n",
      "Legion Commander\n",
      "Monkey King\n"
     ]
    }
   ],
   "source": [
    "for e in heroes_got.json():\n",
    "    if e['id'] in most_popular_heroes:\n",
    "        print(e['localized_name'])"
   ]
  },
  {
   "cell_type": "markdown",
   "metadata": {},
   "source": [
    "Let's see win rates"
   ]
  },
  {
   "cell_type": "code",
   "execution_count": 23,
   "metadata": {},
   "outputs": [],
   "source": [
    "pudge_winrates = rqt.get(\"https://api.opendota.com/api/heroes/14/matchups\")"
   ]
  },
  {
   "cell_type": "code",
   "execution_count": 36,
   "metadata": {},
   "outputs": [
    {
     "name": "stdout",
     "output_type": "stream",
     "text": [
      "Hero 86 : win_rate 0.5086206896551724\n",
      "Hero 84 : win_rate 0.4367816091954023\n",
      "Hero 7 : win_rate 0.5357142857142857\n",
      "Hero 26 : win_rate 0.589041095890411\n",
      "Hero 8 : win_rate 0.5416666666666666\n",
      "Hero 74 : win_rate 0.5428571428571428\n",
      "Hero 27 : win_rate 0.4461538461538462\n",
      "Hero 23 : win_rate 0.5384615384615384\n",
      "Hero 25 : win_rate 0.46774193548387094\n",
      "Hero 41 : win_rate 0.5087719298245614\n",
      "Hero 114 : win_rate 0.4583333333333333\n",
      "Hero 93 : win_rate 0.425531914893617\n",
      "Hero 9 : win_rate 0.41304347826086957\n",
      "Hero 21 : win_rate 0.47368421052631576\n",
      "Hero 2 : win_rate 0.5526315789473685\n",
      "Hero 5 : win_rate 0.5277777777777778\n",
      "Hero 99 : win_rate 0.6764705882352942\n",
      "Hero 6 : win_rate 0.59375\n",
      "Hero 44 : win_rate 0.5\n",
      "Hero 22 : win_rate 0.6666666666666666\n",
      "Hero 30 : win_rate 0.5652173913043478\n",
      "Hero 104 : win_rate 0.5217391304347826\n",
      "Hero 101 : win_rate 0.782608695652174\n",
      "Hero 35 : win_rate 0.5\n"
     ]
    }
   ],
   "source": [
    "for e in pudge_winrates.json():\n",
    "    if e['hero_id'] iicn most_popular_heroes:\n",
    "        win_rate = e['wins'] / e['games_played']\n",
    "        print('Hero {0} : win_rate {1}'.format(e['hero_id'], win_rate))"
   ]
  },
  {
   "cell_type": "markdown",
   "metadata": {},
   "source": [
    "Not many games"
   ]
  },
  {
   "cell_type": "code",
   "execution_count": null,
   "metadata": {},
   "outputs": [],
   "source": []
  }
 ],
 "metadata": {
  "kernelspec": {
   "display_name": "Python 3",
   "language": "python",
   "name": "python3"
  },
  "language_info": {
   "codemirror_mode": {
    "name": "ipython",
    "version": 3
   },
   "file_extension": ".py",
   "mimetype": "text/x-python",
   "name": "python",
   "nbconvert_exporter": "python",
   "pygments_lexer": "ipython3",
   "version": "3.6.9"
  }
 },
 "nbformat": 4,
 "nbformat_minor": 2
}
