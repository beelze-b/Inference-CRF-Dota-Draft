{
 "cells": [
  {
   "cell_type": "code",
   "execution_count": 2,
   "metadata": {},
   "outputs": [],
   "source": [
    "import numpy as np\n",
    "import pandas as pd\n",
    "\n",
    "\n",
    "import requests as rqt\n",
    "import time\n",
    "\n",
    "from os import listdir"
   ]
  },
  {
   "cell_type": "markdown",
   "metadata": {},
   "source": [
    "List of the IDs of the most popular heroes.\n",
    "\n",
    "Got this manually"
   ]
  },
  {
   "cell_type": "code",
   "execution_count": 18,
   "metadata": {},
   "outputs": [],
   "source": [
    "# this seems right\n",
    "# https://github.com/kronusme/dota2-api/blob/master/data/heroes.json\n",
    "# this agrees https://liquipedia.net/dota2/MediaWiki:Dota2webapi-heroes.json\n",
    "most_popular_heroes = [\n",
    "    14, # pudge\n",
    "    26, # lion\n",
    "    74, # invoker,\n",
    "    84, # ogre_magi\n",
    "    41, # faceless_void\n",
    "    21, # windrunner / windranger\n",
    "    7, # earthshaker\n",
    "    104, # legion_commander\n",
    "    9, # mirana\n",
    "    44, # phantom_assassin\n",
    "    22, # zeus\n",
    "    93, # slark\n",
    "    5, # crystal_maiden\n",
    "    8, # juggernaut\n",
    "    86, # rubick\n",
    "    35, # sniper\n",
    "    6, # drow_ranger\n",
    "    101, # skywrath_mage\n",
    "    25, # lina\n",
    "    2, # axe\n",
    "    114, # monkey king\n",
    "    27, # shadow shaman\n",
    "    23, # kunkka\n",
    "    99, # bristleback\n",
    "    30 # witch_doctor\n",
    "]"
   ]
  },
  {
   "cell_type": "code",
   "execution_count": 19,
   "metadata": {},
   "outputs": [],
   "source": [
    "BASE_PATH = \"https://api.opendota.com/api\"\n",
    "QUERY_PATH = \"/matches/\""
   ]
  },
  {
   "cell_type": "code",
   "execution_count": 20,
   "metadata": {},
   "outputs": [
    {
     "data": {
      "text/plain": [
       "25"
      ]
     },
     "execution_count": 20,
     "metadata": {},
     "output_type": "execute_result"
    }
   ],
   "source": [
    "len(most_popular_heroes)"
   ]
  },
  {
   "cell_type": "markdown",
   "metadata": {},
   "source": [
    "See if I got the right heroes"
   ]
  },
  {
   "cell_type": "code",
   "execution_count": 21,
   "metadata": {},
   "outputs": [],
   "source": [
    "heroes_got = rqt.get(\"https://api.opendota.com/api/heroes\")"
   ]
  },
  {
   "cell_type": "code",
   "execution_count": 22,
   "metadata": {},
   "outputs": [
    {
     "name": "stdout",
     "output_type": "stream",
     "text": [
      "Axe\n",
      "Crystal Maiden\n",
      "Drow Ranger\n",
      "Earthshaker\n",
      "Juggernaut\n",
      "Mirana\n",
      "Pudge\n",
      "Windranger\n",
      "Zeus\n",
      "Kunkka\n",
      "Lina\n",
      "Lion\n",
      "Shadow Shaman\n",
      "Witch Doctor\n",
      "Sniper\n",
      "Faceless Void\n",
      "Phantom Assassin\n",
      "Invoker\n",
      "Ogre Magi\n",
      "Rubick\n",
      "Slark\n",
      "Bristleback\n",
      "Skywrath Mage\n",
      "Legion Commander\n",
      "Monkey King\n"
     ]
    }
   ],
   "source": [
    "for e in heroes_got.json():\n",
    "    if e['id'] in most_popular_heroes:\n",
    "        print(e['localized_name'])"
   ]
  },
  {
   "cell_type": "markdown",
   "metadata": {},
   "source": [
    "Let's see win rates"
   ]
  },
  {
   "cell_type": "code",
   "execution_count": 23,
   "metadata": {},
   "outputs": [],
   "source": [
    "pudge_winrates = rqt.get(\"https://api.opendota.com/api/heroes/14/matchups\")"
   ]
  },
  {
   "cell_type": "code",
   "execution_count": 27,
   "metadata": {},
   "outputs": [
    {
     "data": {
      "text/plain": [
       "[{'hero_id': 86, 'games_played': 116, 'wins': 59},\n",
       " {'hero_id': 84, 'games_played': 87, 'wins': 38},\n",
       " {'hero_id': 7, 'games_played': 84, 'wins': 45},\n",
       " {'hero_id': 19, 'games_played': 81, 'wins': 38},\n",
       " {'hero_id': 16, 'games_played': 73, 'wins': 40},\n",
       " {'hero_id': 26, 'games_played': 73, 'wins': 43},\n",
       " {'hero_id': 8, 'games_played': 72, 'wins': 39},\n",
       " {'hero_id': 106, 'games_played': 72, 'wins': 36},\n",
       " {'hero_id': 121, 'games_played': 70, 'wins': 25},\n",
       " {'hero_id': 74, 'games_played': 70, 'wins': 38},\n",
       " {'hero_id': 27, 'games_played': 65, 'wins': 29},\n",
       " {'hero_id': 23, 'games_played': 65, 'wins': 35},\n",
       " {'hero_id': 25, 'games_played': 62, 'wins': 29},\n",
       " {'hero_id': 31, 'games_played': 57, 'wins': 33},\n",
       " {'hero_id': 41, 'games_played': 57, 'wins': 29},\n",
       " {'hero_id': 54, 'games_played': 52, 'wins': 24},\n",
       " {'hero_id': 96, 'games_played': 49, 'wins': 23},\n",
       " {'hero_id': 114, 'games_played': 48, 'wins': 22},\n",
       " {'hero_id': 93, 'games_played': 47, 'wins': 20},\n",
       " {'hero_id': 9, 'games_played': 46, 'wins': 19},\n",
       " {'hero_id': 64, 'games_played': 46, 'wins': 22},\n",
       " {'hero_id': 37, 'games_played': 44, 'wins': 24},\n",
       " {'hero_id': 110, 'games_played': 44, 'wins': 29},\n",
       " {'hero_id': 100, 'games_played': 43, 'wins': 21},\n",
       " {'hero_id': 76, 'games_played': 41, 'wins': 21},\n",
       " {'hero_id': 50, 'games_played': 41, 'wins': 20},\n",
       " {'hero_id': 102, 'games_played': 39, 'wins': 19},\n",
       " {'hero_id': 21, 'games_played': 38, 'wins': 18},\n",
       " {'hero_id': 2, 'games_played': 38, 'wins': 21},\n",
       " {'hero_id': 120, 'games_played': 38, 'wins': 19},\n",
       " {'hero_id': 52, 'games_played': 37, 'wins': 18},\n",
       " {'hero_id': 68, 'games_played': 37, 'wins': 24},\n",
       " {'hero_id': 5, 'games_played': 36, 'wins': 19},\n",
       " {'hero_id': 85, 'games_played': 35, 'wins': 16},\n",
       " {'hero_id': 18, 'games_played': 34, 'wins': 13},\n",
       " {'hero_id': 10, 'games_played': 34, 'wins': 16},\n",
       " {'hero_id': 79, 'games_played': 34, 'wins': 17},\n",
       " {'hero_id': 99, 'games_played': 34, 'wins': 23},\n",
       " {'hero_id': 70, 'games_played': 34, 'wins': 17},\n",
       " {'hero_id': 71, 'games_played': 33, 'wins': 19},\n",
       " {'hero_id': 6, 'games_played': 32, 'wins': 19},\n",
       " {'hero_id': 107, 'games_played': 32, 'wins': 17},\n",
       " {'hero_id': 97, 'games_played': 30, 'wins': 9},\n",
       " {'hero_id': 98, 'games_played': 30, 'wins': 18},\n",
       " {'hero_id': 72, 'games_played': 30, 'wins': 15},\n",
       " {'hero_id': 75, 'games_played': 30, 'wins': 16},\n",
       " {'hero_id': 83, 'games_played': 29, 'wins': 14},\n",
       " {'hero_id': 34, 'games_played': 29, 'wins': 16},\n",
       " {'hero_id': 90, 'games_played': 29, 'wins': 15},\n",
       " {'hero_id': 15, 'games_played': 29, 'wins': 12},\n",
       " {'hero_id': 82, 'games_played': 29, 'wins': 11},\n",
       " {'hero_id': 28, 'games_played': 29, 'wins': 10},\n",
       " {'hero_id': 111, 'games_played': 28, 'wins': 11},\n",
       " {'hero_id': 44, 'games_played': 28, 'wins': 14},\n",
       " {'hero_id': 42, 'games_played': 28, 'wins': 11},\n",
       " {'hero_id': 89, 'games_played': 28, 'wins': 15},\n",
       " {'hero_id': 3, 'games_played': 27, 'wins': 9},\n",
       " {'hero_id': 29, 'games_played': 26, 'wins': 13},\n",
       " {'hero_id': 20, 'games_played': 26, 'wins': 10},\n",
       " {'hero_id': 69, 'games_played': 25, 'wins': 14},\n",
       " {'hero_id': 60, 'games_played': 25, 'wins': 9},\n",
       " {'hero_id': 39, 'games_played': 25, 'wins': 14},\n",
       " {'hero_id': 1, 'games_played': 25, 'wins': 14},\n",
       " {'hero_id': 36, 'games_played': 25, 'wins': 15},\n",
       " {'hero_id': 62, 'games_played': 24, 'wins': 8},\n",
       " {'hero_id': 22, 'games_played': 24, 'wins': 16},\n",
       " {'hero_id': 45, 'games_played': 24, 'wins': 12},\n",
       " {'hero_id': 38, 'games_played': 24, 'wins': 10},\n",
       " {'hero_id': 87, 'games_played': 23, 'wins': 9},\n",
       " {'hero_id': 30, 'games_played': 23, 'wins': 13},\n",
       " {'hero_id': 104, 'games_played': 23, 'wins': 12},\n",
       " {'hero_id': 17, 'games_played': 23, 'wins': 10},\n",
       " {'hero_id': 101, 'games_played': 23, 'wins': 18},\n",
       " {'hero_id': 12, 'games_played': 22, 'wins': 13},\n",
       " {'hero_id': 78, 'games_played': 22, 'wins': 12},\n",
       " {'hero_id': 53, 'games_played': 22, 'wins': 10},\n",
       " {'hero_id': 47, 'games_played': 21, 'wins': 8},\n",
       " {'hero_id': 109, 'games_played': 21, 'wins': 9},\n",
       " {'hero_id': 95, 'games_played': 21, 'wins': 15},\n",
       " {'hero_id': 58, 'games_played': 20, 'wins': 12},\n",
       " {'hero_id': 59, 'games_played': 20, 'wins': 11},\n",
       " {'hero_id': 65, 'games_played': 20, 'wins': 11},\n",
       " {'hero_id': 88, 'games_played': 20, 'wins': 10},\n",
       " {'hero_id': 33, 'games_played': 19, 'wins': 4},\n",
       " {'hero_id': 55, 'games_played': 19, 'wins': 11},\n",
       " {'hero_id': 63, 'games_played': 19, 'wins': 7},\n",
       " {'hero_id': 13, 'games_played': 19, 'wins': 7},\n",
       " {'hero_id': 57, 'games_played': 18, 'wins': 7},\n",
       " {'hero_id': 129, 'games_played': 18, 'wins': 9},\n",
       " {'hero_id': 11, 'games_played': 18, 'wins': 9},\n",
       " {'hero_id': 35, 'games_played': 18, 'wins': 9},\n",
       " {'hero_id': 112, 'games_played': 18, 'wins': 9},\n",
       " {'hero_id': 67, 'games_played': 17, 'wins': 11},\n",
       " {'hero_id': 4, 'games_played': 17, 'wins': 6},\n",
       " {'hero_id': 73, 'games_played': 17, 'wins': 6},\n",
       " {'hero_id': 81, 'games_played': 17, 'wins': 11},\n",
       " {'hero_id': 108, 'games_played': 16, 'wins': 8},\n",
       " {'hero_id': 43, 'games_played': 15, 'wins': 6},\n",
       " {'hero_id': 46, 'games_played': 15, 'wins': 12},\n",
       " {'hero_id': 32, 'games_played': 14, 'wins': 6},\n",
       " {'hero_id': 91, 'games_played': 14, 'wins': 8},\n",
       " {'hero_id': 105, 'games_played': 14, 'wins': 9},\n",
       " {'hero_id': 119, 'games_played': 14, 'wins': 8},\n",
       " {'hero_id': 40, 'games_played': 13, 'wins': 6},\n",
       " {'hero_id': 77, 'games_played': 12, 'wins': 2},\n",
       " {'hero_id': 51, 'games_played': 12, 'wins': 6},\n",
       " {'hero_id': 66, 'games_played': 12, 'wins': 7},\n",
       " {'hero_id': 113, 'games_played': 11, 'wins': 5},\n",
       " {'hero_id': 103, 'games_played': 11, 'wins': 8},\n",
       " {'hero_id': 48, 'games_played': 10, 'wins': 5},\n",
       " {'hero_id': 56, 'games_played': 9, 'wins': 5},\n",
       " {'hero_id': 49, 'games_played': 9, 'wins': 5},\n",
       " {'hero_id': 61, 'games_played': 9, 'wins': 3},\n",
       " {'hero_id': 92, 'games_played': 7, 'wins': 3},\n",
       " {'hero_id': 80, 'games_played': 7, 'wins': 3},\n",
       " {'hero_id': 94, 'games_played': 7, 'wins': 4}]"
      ]
     },
     "execution_count": 27,
     "metadata": {},
     "output_type": "execute_result"
    }
   ],
   "source": [
    "for e in pudge_winrates"
   ]
  },
  {
   "cell_type": "code",
   "execution_count": null,
   "metadata": {},
   "outputs": [],
   "source": []
  }
 ],
 "metadata": {
  "kernelspec": {
   "display_name": "Python 3",
   "language": "python",
   "name": "python3"
  },
  "language_info": {
   "codemirror_mode": {
    "name": "ipython",
    "version": 3
   },
   "file_extension": ".py",
   "mimetype": "text/x-python",
   "name": "python",
   "nbconvert_exporter": "python",
   "pygments_lexer": "ipython3",
   "version": "3.6.9"
  }
 },
 "nbformat": 4,
 "nbformat_minor": 2
}
