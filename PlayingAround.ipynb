{
 "cells": [
  {
   "cell_type": "markdown",
   "metadata": {},
   "source": [
    "Example taken from https://pystruct.github.io/auto_examples/plot_snakes.html#sphx-glr-auto-examples-plot-snakes-py"
   ]
  },
  {
   "cell_type": "code",
   "execution_count": 2,
   "metadata": {
    "ExecuteTime": {
     "end_time": "2019-11-25T00:24:06.606978Z",
     "start_time": "2019-11-25T00:24:02.570808Z"
    }
   },
   "outputs": [
    {
     "name": "stdout",
     "output_type": "stream",
     "text": [
      "Please be patient. Learning will take 5-20 minutes.\n"
     ]
    }
   ],
   "source": [
    "import numpy as np\n",
    "import matplotlib.pyplot as plt\n",
    "\n",
    "from sklearn.preprocessing import label_binarize\n",
    "from sklearn.metrics import confusion_matrix, accuracy_score\n",
    "\n",
    "from pystruct.learners import OneSlackSSVM\n",
    "from pystruct.datasets import load_snakes\n",
    "from pystruct.utils import make_grid_edges, edge_list_to_features\n",
    "from pystruct.models import EdgeFeatureGraphCRF\n",
    "\n",
    "def one_hot_colors(x):\n",
    "    x = x / 255\n",
    "    flat = np.dot(x.reshape(-1, 3), 2 ** np.arange(3))\n",
    "    one_hot = label_binarize(flat, classes=[1, 2, 3, 4, 6])\n",
    "    return one_hot.reshape(x.shape[0], x.shape[1], 5)\n",
    "\n",
    "\n",
    "def neighborhood_feature(x):\n",
    "    \"\"\"Add a 3x3 neighborhood around each pixel as a feature.\"\"\"\n",
    "    # we could also use a four neighborhood, that would work even better\n",
    "    # but one might argue then we are using domain knowledge ;)\n",
    "    features = np.zeros((x.shape[0], x.shape[1], 5, 9))\n",
    "    # position 3 is background.\n",
    "    features[:, :, 3, :] = 1\n",
    "    features[1:, 1:, :, 0] = x[:-1, :-1, :]\n",
    "    features[:, 1:, :, 1] = x[:, :-1, :]\n",
    "    features[:-1, 1:, :, 2] = x[1:, :-1, :]\n",
    "    features[1:, :, :, 3] = x[:-1, :, :]\n",
    "    features[:-1, :-1, :, 4] = x[1:, 1:, :]\n",
    "    features[:-1, :, :, 5] = x[1:, :, :]\n",
    "    features[1:, :-1, :, 6] = x[:-1, 1:, :]\n",
    "    features[:, :-1, :, 7] = x[:, 1:, :]\n",
    "    features[:, :, :, 8] = x[:, :, :]\n",
    "    return features.reshape(x.shape[0] * x.shape[1], -1)\n",
    "\n",
    "\n",
    "def prepare_data(X):\n",
    "    X_directions = []\n",
    "    X_edge_features = []\n",
    "    for x in X:\n",
    "        # get edges in grid\n",
    "        right, down = make_grid_edges(x, return_lists=True)\n",
    "        edges = np.vstack([right, down])\n",
    "        # use 3x3 patch around each point\n",
    "        features = neighborhood_feature(x)\n",
    "        # simple edge feature that encodes just if an edge is horizontal or\n",
    "        # vertical\n",
    "        edge_features_directions = edge_list_to_features([right, down])\n",
    "        # edge feature that contains features from the nodes that the edge connects\n",
    "        edge_features = np.zeros((edges.shape[0], features.shape[1], 2))\n",
    "        edge_features[:len(right), :, 0] = features[right[:, 0]]\n",
    "        edge_features[:len(right), :, 1] = features[right[:, 1]]\n",
    "        edge_features[len(right):, :, 0] = features[down[:, 0]]\n",
    "        edge_features[len(right):, :, 1] = features[down[:, 1]]\n",
    "        edge_features = edge_features.reshape(edges.shape[0], -1)\n",
    "        X_directions.append((features, edges, edge_features_directions))\n",
    "        X_edge_features.append((features, edges, edge_features))\n",
    "    return X_directions, X_edge_features\n",
    "\n",
    "\n",
    "print(\"Please be patient. Learning will take 5-20 minutes.\")\n",
    "snakes = load_snakes()\n",
    "X_train, Y_train = snakes['X_train'], snakes['Y_train']\n",
    "\n",
    "X_train = [one_hot_colors(x) for x in X_train]\n",
    "Y_train_flat = [y_.ravel() for y_ in Y_train]\n",
    "\n",
    "X_train_directions, X_train_edge_features = prepare_data(X_train)\n",
    "\n",
    "inference = 'qpbo'\n",
    "\n",
    "X_test, Y_test = snakes['X_test'], snakes['Y_test']\n",
    "X_test = [one_hot_colors(x) for x in X_test]\n",
    "Y_test_flat = [y_.ravel() for y_ in Y_test]\n",
    "X_test_directions, X_test_edge_features = prepare_data(X_test)"
   ]
  },
  {
   "cell_type": "markdown",
   "metadata": {},
   "source": [
    "The training data contains 200 examples of different snake grids. The dimension of each example is (7, 6, 5), which corresponds to a 7x6 board such that each square has five states (up, down, left, right, blank). Blank indicates that the snake was not present on the square."
   ]
  },
  {
   "cell_type": "code",
   "execution_count": 11,
   "metadata": {
    "ExecuteTime": {
     "end_time": "2019-11-25T00:32:50.543675Z",
     "start_time": "2019-11-25T00:32:50.537096Z"
    }
   },
   "outputs": [
    {
     "name": "stdout",
     "output_type": "stream",
     "text": [
      "Number of training examples:  200\n",
      "Dimensions of training example:  (7, 6, 5)\n"
     ]
    }
   ],
   "source": [
    "print(\"Number of training examples: \", len(X_train))\n",
    "print(\"Dimensions of training example: \", X_train[0].shape)"
   ]
  },
  {
   "cell_type": "code",
   "execution_count": 17,
   "metadata": {
    "ExecuteTime": {
     "end_time": "2019-11-25T01:11:53.506775Z",
     "start_time": "2019-11-25T01:11:53.199745Z"
    }
   },
   "outputs": [
    {
     "data": {
      "text/plain": [
       "<matplotlib.image.AxesImage at 0x7f63511c8e80>"
      ]
     },
     "execution_count": 17,
     "metadata": {},
     "output_type": "execute_result"
    },
    {
     "data": {
      "image/png": "[encoded data removed]",
      "text/plain": [
       "<Figure size 432x288 with 1 Axes>"
      ]
     },
     "metadata": {
      "needs_background": "light"
     },
     "output_type": "display_data"
    }
   ],
   "source": [
    "plt.imshow(snakes['X_test'][0], interpolation='nearest')"
   ]
  },
  {
   "cell_type": "markdown",
   "metadata": {},
   "source": [
    "The image above repesents one of the grids in the test set. The color key is We code the five different input colors (for up, down, left, right, background) using a one-hot encoding."
   ]
  },
  {
   "cell_type": "code",
   "execution_count": 9,
   "metadata": {
    "ExecuteTime": {
     "end_time": "2019-11-25T00:29:19.190921Z",
     "start_time": "2019-11-25T00:29:19.183504Z"
    }
   },
   "outputs": [
    {
     "data": {
      "text/plain": [
       "array([[0, 0, 0, 1, 0],\n",
       "       [0, 0, 0, 1, 0],\n",
       "       [0, 0, 0, 1, 0],\n",
       "       [0, 0, 0, 1, 0],\n",
       "       [0, 0, 0, 1, 0],\n",
       "       [0, 0, 0, 1, 0]])"
      ]
     },
     "execution_count": 9,
     "metadata": {},
     "output_type": "execute_result"
    }
   ],
   "source": [
    "X_train[0][0]"
   ]
  },
  {
   "cell_type": "code",
   "execution_count": 7,
   "metadata": {
    "ExecuteTime": {
     "end_time": "2019-11-25T00:25:12.635380Z",
     "start_time": "2019-11-25T00:25:12.629025Z"
    }
   },
   "outputs": [
    {
     "data": {
      "text/plain": [
       "(200, 3)"
      ]
     },
     "execution_count": 7,
     "metadata": {},
     "output_type": "execute_result"
    }
   ],
   "source": [
    "np.array(X_train_edge_features).shape"
   ]
  },
  {
   "cell_type": "code",
   "execution_count": 4,
   "metadata": {},
   "outputs": [
    {
     "data": {
      "text/plain": [
       "200"
      ]
     },
     "execution_count": 4,
     "metadata": {},
     "output_type": "execute_result"
    }
   ],
   "source": [
    "len(Y_train_flat)"
   ]
  },
  {
   "cell_type": "code",
   "execution_count": 5,
   "metadata": {},
   "outputs": [
    {
     "data": {
      "text/plain": [
       "array([0., 0., 0., 0., 0., 0., 0., 0., 0., 0., 0., 0., 0., 0., 0., 0., 0.,\n",
       "       0., 0., 0., 0., 0., 1., 0., 0., 0., 0., 1., 1., 1., 1., 0., 1., 1.,\n",
       "       1., 1., 0., 0., 0., 0., 0., 0., 0., 0., 0.])"
      ]
     },
     "execution_count": 5,
     "metadata": {},
     "output_type": "execute_result"
    }
   ],
   "source": [
    "X_train_directions[0][0][0, :]"
   ]
  },
  {
   "cell_type": "code",
   "execution_count": 6,
   "metadata": {},
   "outputs": [
    {
     "data": {
      "text/plain": [
       "array([[ 0,  1],\n",
       "       [ 1,  2],\n",
       "       [ 2,  3],\n",
       "       [ 3,  4],\n",
       "       [ 4,  5],\n",
       "       [ 6,  7],\n",
       "       [ 7,  8],\n",
       "       [ 8,  9],\n",
       "       [ 9, 10],\n",
       "       [10, 11],\n",
       "       [12, 13],\n",
       "       [13, 14],\n",
       "       [14, 15],\n",
       "       [15, 16],\n",
       "       [16, 17],\n",
       "       [18, 19],\n",
       "       [19, 20],\n",
       "       [20, 21],\n",
       "       [21, 22],\n",
       "       [22, 23],\n",
       "       [24, 25],\n",
       "       [25, 26],\n",
       "       [26, 27],\n",
       "       [27, 28],\n",
       "       [28, 29],\n",
       "       [30, 31],\n",
       "       [31, 32],\n",
       "       [32, 33],\n",
       "       [33, 34],\n",
       "       [34, 35],\n",
       "       [36, 37],\n",
       "       [37, 38],\n",
       "       [38, 39],\n",
       "       [39, 40],\n",
       "       [40, 41],\n",
       "       [ 0,  6],\n",
       "       [ 1,  7],\n",
       "       [ 2,  8],\n",
       "       [ 3,  9],\n",
       "       [ 4, 10],\n",
       "       [ 5, 11],\n",
       "       [ 6, 12],\n",
       "       [ 7, 13],\n",
       "       [ 8, 14],\n",
       "       [ 9, 15],\n",
       "       [10, 16],\n",
       "       [11, 17],\n",
       "       [12, 18],\n",
       "       [13, 19],\n",
       "       [14, 20],\n",
       "       [15, 21],\n",
       "       [16, 22],\n",
       "       [17, 23],\n",
       "       [18, 24],\n",
       "       [19, 25],\n",
       "       [20, 26],\n",
       "       [21, 27],\n",
       "       [22, 28],\n",
       "       [23, 29],\n",
       "       [24, 30],\n",
       "       [25, 31],\n",
       "       [26, 32],\n",
       "       [27, 33],\n",
       "       [28, 34],\n",
       "       [29, 35],\n",
       "       [30, 36],\n",
       "       [31, 37],\n",
       "       [32, 38],\n",
       "       [33, 39],\n",
       "       [34, 40],\n",
       "       [35, 41]])"
      ]
     },
     "execution_count": 6,
     "metadata": {},
     "output_type": "execute_result"
    }
   ],
   "source": [
    "X_train_directions[0][1]"
   ]
  },
  {
   "cell_type": "code",
   "execution_count": 7,
   "metadata": {},
   "outputs": [
    {
     "data": {
      "text/plain": [
       "(7, 6)"
      ]
     },
     "execution_count": 7,
     "metadata": {},
     "output_type": "execute_result"
    }
   ],
   "source": [
    "Y_train[0].shape"
   ]
  },
  {
   "cell_type": "code",
   "execution_count": 8,
   "metadata": {},
   "outputs": [
    {
     "data": {
      "text/plain": [
       "array([ 0,  0,  0,  0,  0,  0,  0,  2,  3,  0,  0,  0,  0,  1,  4,  5,  0,\n",
       "        0,  0,  0,  0,  6,  7,  0,  0,  0,  0,  9,  8,  0,  0,  0,  0, 10,\n",
       "        0,  0,  0,  0,  0,  0,  0,  0], dtype=uint8)"
      ]
     },
     "execution_count": 8,
     "metadata": {},
     "output_type": "execute_result"
    }
   ],
   "source": [
    "Y_train_flat[0]"
   ]
  },
  {
   "cell_type": "code",
   "execution_count": 9,
   "metadata": {},
   "outputs": [
    {
     "data": {
      "text/plain": [
       "array([[ 0,  0,  0,  0,  0,  0],\n",
       "       [ 0,  2,  3,  0,  0,  0],\n",
       "       [ 0,  1,  4,  5,  0,  0],\n",
       "       [ 0,  0,  0,  6,  7,  0],\n",
       "       [ 0,  0,  0,  9,  8,  0],\n",
       "       [ 0,  0,  0, 10,  0,  0],\n",
       "       [ 0,  0,  0,  0,  0,  0]], dtype=uint8)"
      ]
     },
     "execution_count": 9,
     "metadata": {},
     "output_type": "execute_result"
    }
   ],
   "source": [
    "Y_train[0]"
   ]
  },
  {
   "cell_type": "code",
   "execution_count": 10,
   "metadata": {},
   "outputs": [
    {
     "data": {
      "text/plain": [
       "(7, 6, 5)"
      ]
     },
     "execution_count": 10,
     "metadata": {},
     "output_type": "execute_result"
    }
   ],
   "source": [
    "X_train[0].shape"
   ]
  },
  {
   "cell_type": "code",
   "execution_count": 11,
   "metadata": {},
   "outputs": [
    {
     "data": {
      "text/plain": [
       "array([[[0, 0, 0, 1, 0],\n",
       "        [0, 0, 0, 1, 0],\n",
       "        [0, 0, 0, 1, 0],\n",
       "        [0, 0, 0, 1, 0],\n",
       "        [0, 0, 0, 1, 0],\n",
       "        [0, 0, 0, 1, 0]],\n",
       "\n",
       "       [[0, 0, 0, 1, 0],\n",
       "        [0, 0, 1, 0, 0],\n",
       "        [0, 1, 0, 0, 0],\n",
       "        [0, 0, 0, 1, 0],\n",
       "        [0, 0, 0, 1, 0],\n",
       "        [0, 0, 0, 1, 0]],\n",
       "\n",
       "       [[0, 0, 0, 1, 0],\n",
       "        [1, 0, 0, 0, 0],\n",
       "        [0, 0, 1, 0, 0],\n",
       "        [0, 1, 0, 0, 0],\n",
       "        [0, 0, 0, 1, 0],\n",
       "        [0, 0, 0, 1, 0]],\n",
       "\n",
       "       [[0, 0, 0, 1, 0],\n",
       "        [0, 0, 0, 1, 0],\n",
       "        [0, 0, 0, 1, 0],\n",
       "        [0, 0, 1, 0, 0],\n",
       "        [0, 1, 0, 0, 0],\n",
       "        [0, 0, 0, 1, 0]],\n",
       "\n",
       "       [[0, 0, 0, 1, 0],\n",
       "        [0, 0, 0, 1, 0],\n",
       "        [0, 0, 0, 1, 0],\n",
       "        [0, 1, 0, 0, 0],\n",
       "        [0, 0, 0, 0, 1],\n",
       "        [0, 0, 0, 1, 0]],\n",
       "\n",
       "       [[0, 0, 0, 1, 0],\n",
       "        [0, 0, 0, 1, 0],\n",
       "        [0, 0, 0, 1, 0],\n",
       "        [0, 1, 0, 0, 0],\n",
       "        [0, 0, 0, 1, 0],\n",
       "        [0, 0, 0, 1, 0]],\n",
       "\n",
       "       [[0, 0, 0, 1, 0],\n",
       "        [0, 0, 0, 1, 0],\n",
       "        [0, 0, 0, 1, 0],\n",
       "        [0, 0, 0, 1, 0],\n",
       "        [0, 0, 0, 1, 0],\n",
       "        [0, 0, 0, 1, 0]]])"
      ]
     },
     "execution_count": 11,
     "metadata": {},
     "output_type": "execute_result"
    }
   ],
   "source": [
    "X_train[0]"
   ]
  },
  {
   "cell_type": "code",
   "execution_count": 12,
   "metadata": {},
   "outputs": [
    {
     "data": {
      "text/plain": [
       "(7, 6, 5)"
      ]
     },
     "execution_count": 12,
     "metadata": {},
     "output_type": "execute_result"
    }
   ],
   "source": [
    "X_train[0].shape"
   ]
  },
  {
   "cell_type": "code",
   "execution_count": 13,
   "metadata": {},
   "outputs": [
    {
     "data": {
      "text/plain": [
       "(7, 6)"
      ]
     },
     "execution_count": 13,
     "metadata": {},
     "output_type": "execute_result"
    }
   ],
   "source": [
    "Y_train[0].shape"
   ]
  },
  {
   "cell_type": "code",
   "execution_count": 14,
   "metadata": {},
   "outputs": [
    {
     "data": {
      "text/plain": [
       "array([0, 0, 0, 1, 0])"
      ]
     },
     "execution_count": 14,
     "metadata": {},
     "output_type": "execute_result"
    }
   ],
   "source": [
    "X_train[0][0, 0]"
   ]
  },
  {
   "cell_type": "code",
   "execution_count": 15,
   "metadata": {},
   "outputs": [
    {
     "data": {
      "text/plain": [
       "(42, 45)"
      ]
     },
     "execution_count": 15,
     "metadata": {},
     "output_type": "execute_result"
    }
   ],
   "source": [
    "X_train_directions[0][0].shape"
   ]
  },
  {
   "cell_type": "code",
   "execution_count": 16,
   "metadata": {},
   "outputs": [
    {
     "data": {
      "text/plain": [
       "(42, 45)"
      ]
     },
     "execution_count": 16,
     "metadata": {},
     "output_type": "execute_result"
    }
   ],
   "source": [
    "X_train_edge_features[0][0].shape"
   ]
  },
  {
   "cell_type": "code",
   "execution_count": 17,
   "metadata": {},
   "outputs": [
    {
     "data": {
      "text/plain": [
       "(71, 2)"
      ]
     },
     "execution_count": 17,
     "metadata": {},
     "output_type": "execute_result"
    }
   ],
   "source": [
    "X_train_edge_features[0][1].shape"
   ]
  },
  {
   "cell_type": "code",
   "execution_count": 18,
   "metadata": {},
   "outputs": [
    {
     "data": {
      "text/plain": [
       "array([[1., 0.],\n",
       "       [1., 0.],\n",
       "       [1., 0.],\n",
       "       [1., 0.],\n",
       "       [1., 0.],\n",
       "       [1., 0.],\n",
       "       [1., 0.],\n",
       "       [1., 0.],\n",
       "       [1., 0.],\n",
       "       [1., 0.],\n",
       "       [1., 0.],\n",
       "       [1., 0.],\n",
       "       [1., 0.],\n",
       "       [1., 0.],\n",
       "       [1., 0.],\n",
       "       [1., 0.],\n",
       "       [1., 0.],\n",
       "       [1., 0.],\n",
       "       [1., 0.],\n",
       "       [1., 0.],\n",
       "       [1., 0.],\n",
       "       [1., 0.],\n",
       "       [1., 0.],\n",
       "       [1., 0.],\n",
       "       [1., 0.],\n",
       "       [1., 0.],\n",
       "       [1., 0.],\n",
       "       [1., 0.],\n",
       "       [1., 0.],\n",
       "       [1., 0.],\n",
       "       [1., 0.],\n",
       "       [1., 0.],\n",
       "       [1., 0.],\n",
       "       [1., 0.],\n",
       "       [1., 0.],\n",
       "       [0., 1.],\n",
       "       [0., 1.],\n",
       "       [0., 1.],\n",
       "       [0., 1.],\n",
       "       [0., 1.],\n",
       "       [0., 1.],\n",
       "       [0., 1.],\n",
       "       [0., 1.],\n",
       "       [0., 1.],\n",
       "       [0., 1.],\n",
       "       [0., 1.],\n",
       "       [0., 1.],\n",
       "       [0., 1.],\n",
       "       [0., 1.],\n",
       "       [0., 1.],\n",
       "       [0., 1.],\n",
       "       [0., 1.],\n",
       "       [0., 1.],\n",
       "       [0., 1.],\n",
       "       [0., 1.],\n",
       "       [0., 1.],\n",
       "       [0., 1.],\n",
       "       [0., 1.],\n",
       "       [0., 1.],\n",
       "       [0., 1.],\n",
       "       [0., 1.],\n",
       "       [0., 1.],\n",
       "       [0., 1.],\n",
       "       [0., 1.],\n",
       "       [0., 1.],\n",
       "       [0., 1.],\n",
       "       [0., 1.],\n",
       "       [0., 1.],\n",
       "       [0., 1.],\n",
       "       [0., 1.],\n",
       "       [0., 1.]])"
      ]
     },
     "execution_count": 18,
     "metadata": {},
     "output_type": "execute_result"
    }
   ],
   "source": [
    "X_train_directions[0][2]"
   ]
  },
  {
   "cell_type": "code",
   "execution_count": 19,
   "metadata": {},
   "outputs": [
    {
     "data": {
      "text/plain": [
       "(71, 90)"
      ]
     },
     "execution_count": 19,
     "metadata": {},
     "output_type": "execute_result"
    }
   ],
   "source": [
    "X_train_edge_features[0][2].shape"
   ]
  },
  {
   "cell_type": "code",
   "execution_count": 20,
   "metadata": {},
   "outputs": [
    {
     "data": {
      "text/plain": [
       "2"
      ]
     },
     "execution_count": 20,
     "metadata": {},
     "output_type": "execute_result"
    }
   ],
   "source": [
    "Y_train[0][1, 1]"
   ]
  },
  {
   "cell_type": "code",
   "execution_count": 21,
   "metadata": {},
   "outputs": [
    {
     "data": {
      "text/plain": [
       "array([[ 0,  0,  0,  0,  0,  0],\n",
       "       [ 0,  2,  3,  0,  0,  0],\n",
       "       [ 0,  1,  4,  5,  0,  0],\n",
       "       [ 0,  0,  0,  6,  7,  0],\n",
       "       [ 0,  0,  0,  9,  8,  0],\n",
       "       [ 0,  0,  0, 10,  0,  0],\n",
       "       [ 0,  0,  0,  0,  0,  0]], dtype=uint8)"
      ]
     },
     "execution_count": 21,
     "metadata": {},
     "output_type": "execute_result"
    }
   ],
   "source": [
    "Y_train[0]"
   ]
  },
  {
   "cell_type": "code",
   "execution_count": 22,
   "metadata": {},
   "outputs": [
    {
     "data": {
      "text/plain": [
       "4.0"
      ]
     },
     "execution_count": 22,
     "metadata": {},
     "output_type": "execute_result"
    }
   ],
   "source": [
    "180/45"
   ]
  },
  {
   "cell_type": "code",
   "execution_count": 23,
   "metadata": {},
   "outputs": [],
   "source": [
    "right, down = make_grid_edges(X_train[0], return_lists=True)"
   ]
  },
  {
   "cell_type": "code",
   "execution_count": 24,
   "metadata": {},
   "outputs": [
    {
     "data": {
      "text/plain": [
       "(42, 45)"
      ]
     },
     "execution_count": 24,
     "metadata": {},
     "output_type": "execute_result"
    }
   ],
   "source": [
    "neighborhood_feature(X_train[0]).shape"
   ]
  },
  {
   "cell_type": "code",
   "execution_count": 25,
   "metadata": {},
   "outputs": [
    {
     "data": {
      "text/plain": [
       "array([[[0, 0, 0, 1, 0],\n",
       "        [0, 0, 0, 1, 0],\n",
       "        [0, 0, 0, 1, 0],\n",
       "        [0, 0, 0, 1, 0],\n",
       "        [0, 0, 0, 1, 0],\n",
       "        [0, 0, 0, 1, 0]],\n",
       "\n",
       "       [[0, 0, 0, 1, 0],\n",
       "        [0, 0, 1, 0, 0],\n",
       "        [0, 1, 0, 0, 0],\n",
       "        [0, 0, 0, 1, 0],\n",
       "        [0, 0, 0, 1, 0],\n",
       "        [0, 0, 0, 1, 0]],\n",
       "\n",
       "       [[0, 0, 0, 1, 0],\n",
       "        [1, 0, 0, 0, 0],\n",
       "        [0, 0, 1, 0, 0],\n",
       "        [0, 1, 0, 0, 0],\n",
       "        [0, 0, 0, 1, 0],\n",
       "        [0, 0, 0, 1, 0]],\n",
       "\n",
       "       [[0, 0, 0, 1, 0],\n",
       "        [0, 0, 0, 1, 0],\n",
       "        [0, 0, 0, 1, 0],\n",
       "        [0, 0, 1, 0, 0],\n",
       "        [0, 1, 0, 0, 0],\n",
       "        [0, 0, 0, 1, 0]],\n",
       "\n",
       "       [[0, 0, 0, 1, 0],\n",
       "        [0, 0, 0, 1, 0],\n",
       "        [0, 0, 0, 1, 0],\n",
       "        [0, 1, 0, 0, 0],\n",
       "        [0, 0, 0, 0, 1],\n",
       "        [0, 0, 0, 1, 0]],\n",
       "\n",
       "       [[0, 0, 0, 1, 0],\n",
       "        [0, 0, 0, 1, 0],\n",
       "        [0, 0, 0, 1, 0],\n",
       "        [0, 1, 0, 0, 0],\n",
       "        [0, 0, 0, 1, 0],\n",
       "        [0, 0, 0, 1, 0]],\n",
       "\n",
       "       [[0, 0, 0, 1, 0],\n",
       "        [0, 0, 0, 1, 0],\n",
       "        [0, 0, 0, 1, 0],\n",
       "        [0, 0, 0, 1, 0],\n",
       "        [0, 0, 0, 1, 0],\n",
       "        [0, 0, 0, 1, 0]]])"
      ]
     },
     "execution_count": 25,
     "metadata": {},
     "output_type": "execute_result"
    }
   ],
   "source": [
    "X_train[0]"
   ]
  },
  {
   "cell_type": "code",
   "execution_count": 26,
   "metadata": {},
   "outputs": [
    {
     "data": {
      "text/plain": [
       "array([[ 0,  1],\n",
       "       [ 1,  2],\n",
       "       [ 2,  3],\n",
       "       [ 3,  4],\n",
       "       [ 4,  5],\n",
       "       [ 6,  7],\n",
       "       [ 7,  8],\n",
       "       [ 8,  9],\n",
       "       [ 9, 10],\n",
       "       [10, 11],\n",
       "       [12, 13],\n",
       "       [13, 14],\n",
       "       [14, 15],\n",
       "       [15, 16],\n",
       "       [16, 17],\n",
       "       [18, 19],\n",
       "       [19, 20],\n",
       "       [20, 21],\n",
       "       [21, 22],\n",
       "       [22, 23],\n",
       "       [24, 25],\n",
       "       [25, 26],\n",
       "       [26, 27],\n",
       "       [27, 28],\n",
       "       [28, 29],\n",
       "       [30, 31],\n",
       "       [31, 32],\n",
       "       [32, 33],\n",
       "       [33, 34],\n",
       "       [34, 35],\n",
       "       [36, 37],\n",
       "       [37, 38],\n",
       "       [38, 39],\n",
       "       [39, 40],\n",
       "       [40, 41]])"
      ]
     },
     "execution_count": 26,
     "metadata": {},
     "output_type": "execute_result"
    }
   ],
   "source": [
    "right"
   ]
  },
  {
   "cell_type": "code",
   "execution_count": 27,
   "metadata": {},
   "outputs": [],
   "source": [
    "edges = np.vstack([right, down])"
   ]
  },
  {
   "cell_type": "code",
   "execution_count": 28,
   "metadata": {},
   "outputs": [
    {
     "data": {
      "text/plain": [
       "(71, 2)"
      ]
     },
     "execution_count": 28,
     "metadata": {},
     "output_type": "execute_result"
    }
   ],
   "source": [
    "edges.shape"
   ]
  },
  {
   "cell_type": "code",
   "execution_count": 29,
   "metadata": {},
   "outputs": [
    {
     "data": {
      "text/plain": [
       "(71, 90)"
      ]
     },
     "execution_count": 29,
     "metadata": {},
     "output_type": "execute_result"
    }
   ],
   "source": [
    "X_train_edge_features[0][2].shape"
   ]
  },
  {
   "cell_type": "code",
   "execution_count": 30,
   "metadata": {},
   "outputs": [
    {
     "data": {
      "text/plain": [
       "array([0., 0., 0., 0., 0., 0., 0., 0., 0., 0., 0., 0., 0., 0., 0., 0., 0.,\n",
       "       0., 0., 0., 0., 0., 0., 0., 0., 0., 0., 1., 0., 0., 0., 0., 0., 0.,\n",
       "       0., 0., 0., 0., 0., 0., 0., 0., 0., 0., 1., 0., 0., 1., 0., 0., 0.,\n",
       "       0., 0., 0., 1., 1., 1., 1., 1., 1., 1., 1., 0., 0., 1., 0., 1., 1.,\n",
       "       1., 1., 1., 1., 0., 0., 0., 0., 0., 0., 0., 0., 0., 0., 0., 0., 0.,\n",
       "       0., 0., 0., 0., 0.])"
      ]
     },
     "execution_count": 30,
     "metadata": {},
     "output_type": "execute_result"
    }
   ],
   "source": [
    "X_train_edge_features[0][2][0,:]"
   ]
  },
  {
   "cell_type": "code",
   "execution_count": 34,
   "metadata": {},
   "outputs": [
    {
     "data": {
      "text/plain": [
       "(42,)"
      ]
     },
     "execution_count": 34,
     "metadata": {},
     "output_type": "execute_result"
    }
   ],
   "source": [
    "Y_train[0].ravel().shape"
   ]
  },
  {
   "cell_type": "code",
   "execution_count": 36,
   "metadata": {},
   "outputs": [
    {
     "data": {
      "text/plain": [
       "array([0, 0, 0, ..., 0, 0, 0], dtype=uint8)"
      ]
     },
     "execution_count": 36,
     "metadata": {},
     "output_type": "execute_result"
    }
   ],
   "source": [
    "np.hstack([y.ravel() for y in Y_train])"
   ]
  },
  {
   "cell_type": "code",
   "execution_count": null,
   "metadata": {},
   "outputs": [],
   "source": [
    "len(np.unique(np.hstack([y.ravel() for y in Y])))"
   ]
  },
  {
   "cell_type": "code",
   "execution_count": 14,
   "metadata": {
    "ExecuteTime": {
     "end_time": "2019-11-25T00:49:48.796472Z",
     "start_time": "2019-11-25T00:38:46.504519Z"
    }
   },
   "outputs": [
    {
     "name": "stdout",
     "output_type": "stream",
     "text": [
      "Results using only directional features for edges\n",
      "Test accuracy: 0.829\n",
      "[[2750    0    0    0    0    0    0    0    0    0    0]\n",
      " [   0   98    0    0    1    0    0    0    1    0    0]\n",
      " [   0    6   38    3   34    8    1    2    5    1    2]\n",
      " [   0    9    8   10    8   41    1   12    3    7    1]\n",
      " [   0    1   14    2   37    8    1    9   21    5    2]\n",
      " [   0    4    2    9   16   29    2   19   11    7    1]\n",
      " [   0    2   13    3   30   16    2    7   20    5    2]\n",
      " [   0    7    5    8   15   29    3   14    8   11    0]\n",
      " [   0    3   10    3   29   10    1    6   20    3   15]\n",
      " [   0    9    3    2   10    8    0   15    4   46    3]\n",
      " [   0    2    7    3    9    1    1    3    7    3   64]]\n",
      "Results using also input features for edges\n",
      "Test accuracy: 0.998\n",
      "[[2749    0    0    0    0    0    0    0    1    0    0]\n",
      " [   0  100    0    0    0    0    0    0    0    0    0]\n",
      " [   0    0  100    0    0    0    0    0    0    0    0]\n",
      " [   0    0    0  100    0    0    0    0    0    0    0]\n",
      " [   0    0    0    0   98    0    2    0    0    0    0]\n",
      " [   0    0    0    0    0   99    0    1    0    0    0]\n",
      " [   0    0    0    0    0    0  100    0    0    0    0]\n",
      " [   0    0    0    0    0    1    0   99    0    0    0]\n",
      " [   0    0    0    0    0    0    0    0  100    0    0]\n",
      " [   0    0    0    0    0    0    0    1    0   99    0]\n",
      " [   0    0    0    0    0    0    0    0    0    0  100]]\n"
     ]
    },
    {
     "data": {
      "image/png": "[encoded data removed]",
      "text/plain": [
       "<Figure size 432x288 with 4 Axes>"
      ]
     },
     "metadata": {},
     "output_type": "display_data"
    }
   ],
   "source": [
    "inference = 'qpbo'\n",
    "# first, train on X with directions only:\n",
    "crf = EdgeFeatureGraphCRF(inference_method=inference)\n",
    "ssvm = OneSlackSSVM(crf, inference_cache=50, C=.1, tol=.1, max_iter=100,\n",
    "                    n_jobs=1)\n",
    "ssvm.fit(X_train_directions, Y_train_flat)\n",
    "\n",
    "# Evaluate using confusion matrix.\n",
    "# Clearly the middel of the snake is the hardest part.\n",
    "X_test, Y_test = snakes['X_test'], snakes['Y_test']\n",
    "X_test = [one_hot_colors(x) for x in X_test]\n",
    "Y_test_flat = [y_.ravel() for y_ in Y_test]\n",
    "X_test_directions, X_test_edge_features = prepare_data(X_test)\n",
    "Y_pred = ssvm.predict(X_test_directions)\n",
    "print(\"Results using only directional features for edges\")\n",
    "print(\"Test accuracy: %.3f\"\n",
    "      % accuracy_score(np.hstack(Y_test_flat), np.hstack(Y_pred)))\n",
    "print(confusion_matrix(np.hstack(Y_test_flat), np.hstack(Y_pred)))\n",
    "\n",
    "# now, use more informative edge features:\n",
    "crf = EdgeFeatureGraphCRF(inference_method=inference)\n",
    "ssvm = OneSlackSSVM(crf, inference_cache=50, C=.1, tol=.1, switch_to='ad3',\n",
    "                    n_jobs=-1)\n",
    "ssvm.fit(X_train_edge_features, Y_train_flat)\n",
    "Y_pred2 = ssvm.predict(X_test_edge_features)\n",
    "print(\"Results using also input features for edges\")\n",
    "print(\"Test accuracy: %.3f\"\n",
    "      % accuracy_score(np.hstack(Y_test_flat), np.hstack(Y_pred2)))\n",
    "print(confusion_matrix(np.hstack(Y_test_flat), np.hstack(Y_pred2)))\n",
    "\n",
    "# plot stuff\n",
    "fig, axes = plt.subplots(2, 2)\n",
    "axes[0, 0].imshow(snakes['X_test'][0], interpolation='nearest')\n",
    "axes[0, 0].set_title('Input')\n",
    "y = Y_test[0].astype(np.int)\n",
    "bg = 2 * (y != 0)  # enhance contrast\n",
    "axes[0, 1].matshow(y + bg, cmap=plt.cm.Greys)\n",
    "axes[0, 1].set_title(\"Ground Truth\")\n",
    "axes[1, 0].matshow(Y_pred[0].reshape(y.shape) + bg, cmap=plt.cm.Greys)\n",
    "axes[1, 0].set_title(\"Prediction w/o edge features\")\n",
    "axes[1, 1].matshow(Y_pred2[0].reshape(y.shape) + bg, cmap=plt.cm.Greys)\n",
    "axes[1, 1].set_title(\"Prediction with edge features\")\n",
    "for a in axes.ravel():\n",
    "    a.set_xticks(())\n",
    "    a.set_yticks(())\n",
    "plt.show()"
   ]
  },
  {
   "cell_type": "code",
   "execution_count": 16,
   "metadata": {
    "ExecuteTime": {
     "end_time": "2019-11-25T01:11:32.087017Z",
     "start_time": "2019-11-25T01:11:31.805420Z"
    }
   },
   "outputs": [
    {
     "data": {
      "text/plain": [
       "<matplotlib.image.AxesImage at 0x7f633621d320>"
      ]
     },
     "execution_count": 16,
     "metadata": {},
     "output_type": "execute_result"
    },
    {
     "data": {
      "image/png": "[encoded data removed]",
      "text/plain": [
       "<Figure size 432x288 with 1 Axes>"
      ]
     },
     "metadata": {
      "needs_background": "light"
     },
     "output_type": "display_data"
    }
   ],
   "source": [
    "plt.imshow(snakes['X_test'][0], interpolation='nearest')"
   ]
  },
  {
   "cell_type": "code",
   "execution_count": null,
   "metadata": {},
   "outputs": [],
   "source": []
  }
 ],
 "metadata": {
  "kernelspec": {
   "display_name": "Python 3",
   "language": "python",
   "name": "python3"
  },
  "language_info": {
   "codemirror_mode": {
    "name": "ipython",
    "version": 3
   },
   "file_extension": ".py",
   "mimetype": "text/x-python",
   "name": "python",
   "nbconvert_exporter": "python",
   "pygments_lexer": "ipython3",
   "version": "3.6.9"
  },
  "toc": {
   "base_numbering": 1,
   "nav_menu": {},
   "number_sections": true,
   "sideBar": true,
   "skip_h1_title": false,
   "title_cell": "Table of Contents",
   "title_sidebar": "Contents",
   "toc_cell": false,
   "toc_position": {},
   "toc_section_display": true,
   "toc_window_display": false
  },
  "varInspector": {
   "cols": {
    "lenName": 16,
    "lenType": 16,
    "lenVar": 40
   },
   "kernels_config": {
    "python": {
     "delete_cmd_postfix": "",
     "delete_cmd_prefix": "del ",
     "library": "var_list.py",
     "varRefreshCmd": "print(var_dic_list())"
    },
    "r": {
     "delete_cmd_postfix": ") ",
     "delete_cmd_prefix": "rm(",
     "library": "var_list.r",
     "varRefreshCmd": "cat(var_dic_list()) "
    }
   },
   "types_to_exclude": [
    "module",
    "function",
    "builtin_function_or_method",
    "instance",
    "_Feature"
   ],
   "window_display": false
  }
 },
 "nbformat": 4,
 "nbformat_minor": 2
}
