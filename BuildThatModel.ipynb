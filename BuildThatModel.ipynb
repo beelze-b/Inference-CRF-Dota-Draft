{
 "cells": [
  {
   "cell_type": "code",
   "execution_count": 1,
   "metadata": {},
   "outputs": [],
   "source": [
    "# this seems right\n",
    "# https://github.com/kronusme/dota2-api/blob/master/data/heroes.json\n",
    "# this agrees https://liquipedia.net/dota2/MediaWiki:Dota2webapi-heroes.json\n",
    "most_popular_heroes = [\n",
    "    14, # pudge\n",
    "    26, # lion\n",
    "    74, # invoker,\n",
    "    84, # ogre_magi\n",
    "    41, # faceless_void\n",
    "    21, # windrunner / windranger\n",
    "    7, # earthshaker\n",
    "    104, # legion_commander\n",
    "    9, # mirana\n",
    "    44, # phantom_assassin\n",
    "    22, # zeus\n",
    "    93, # slark\n",
    "    5, # crystal_maiden\n",
    "    8, # juggernaut\n",
    "    86, # rubick\n",
    "    35, # sniper\n",
    "    6, # drow_ranger\n",
    "    101, # skywrath_mage\n",
    "    25, # lina\n",
    "    2, # axe\n",
    "    114, # monkey king\n",
    "    27, # shadow shaman\n",
    "    23, # kunkka\n",
    "    99, # bristleback\n",
    "    30, # witch_doctor\n",
    "    32, # riki\n",
    "    34, # tinker\n",
    "    75, # silencer\n",
    "    1, # anti mage\n",
    "    42, # skeletonking/wraithking\n",
    "    50, # dazzle\n",
    "    90, # keeper of the light\n",
    "    106, # ember spirit\n",
    "    62, # bounty hunter\n",
    "    60, # night stalker\n",
    "    54, # life stealer\n",
    "    17, # storm spirit\n",
    "    3, # bane\n",
    "    37, # warlock\n",
    "    47, # viper\n",
    "    113, # arc warden\n",
    "    64, # jakiro\n",
    "    72, # gyro\n",
    "    81 # chaos knight\n",
    "]"
   ]
  },
  {
   "cell_type": "code",
   "execution_count": 2,
   "metadata": {},
   "outputs": [],
   "source": [
    "import pickle\n",
    "\n",
    "with open('data/popularityDict.pkl', 'rb') as f:\n",
    "    popularityDict = pickle.load(f)\n",
    "    \n",
    "with open('data/hero_win_percentage.pkl', 'rb') as f:\n",
    "    hero_win_percentage = pickle.load(f)\n",
    "    \n",
    "with open('data/X_no_features_df.pkl', 'rb') as f:\n",
    "    X_no_features_df = pickle.load(f)\n",
    "\n",
    "with open('data/Y_df.pkl', 'rb') as f:\n",
    "    Y_df = pickle.load(f)"
   ]
  },
  {
   "cell_type": "code",
   "execution_count": 32,
   "metadata": {},
   "outputs": [],
   "source": [
    "import numpy as np\n",
    "\n",
    "X_features = []\n",
    "for x in X_no_features_df:\n",
    "    X_feature = []\n",
    "    for hero in x:\n",
    "        win_rate = []\n",
    "        for hero_id in most_popular_heroes:\n",
    "            if hero_id not in x:\n",
    "                try:\n",
    "                    win_rate.append(hero_win_percentage[hero][hero_id])\n",
    "                except:\n",
    "                    win_rate.append(-1)\n",
    "            else:\n",
    "                win_rate.append(-1)\n",
    "        X_feature.append(win_rate)\n",
    "        \n",
    "        popularity = [popularityDict[hero] for hero in x]\n",
    "        X_feature = np.concatenate((X_feature, popularity))\n",
    "    X_features.append(X_feature)"
   ]
  },
  {
   "cell_type": "code",
   "execution_count": 33,
   "metadata": {},
   "outputs": [],
   "source": [
    "X_edge_features = []\n",
    "#we are buiilding the edge features in the following order\n",
    "edges = [[0, 1], [0, 2], [0, 3], [0, 4],\n",
    "         [1, 2], [1, 3], [1, 4],\n",
    "         [2, 3], [2, 4],\n",
    "         [3, 4]]\n",
    "for X_feature in X_features:\n",
    "    edge_features = []\n",
    "    for index, edge in enumerate(edges):\n",
    "        node1 = edge[0]\n",
    "        node2 = edge[1]\n",
    "        edge_feature = np.concatenate((X_feature[node1], X_feature[node2]))\n",
    "        edge_features.append(edge_feature)\n",
    "    X_edge_features.append(edge_features)"
   ]
  },
  {
   "cell_type": "code",
   "execution_count": 34,
   "metadata": {},
   "outputs": [],
   "source": [
    "X_train_edge_features = np.array( [(np.array(X_features[i]), np.array(edges), np.array(X_edge_features[i]) ) \\\n",
    "                                   for i in range(len(X_no_features_df))] )"
   ]
  },
  {
   "cell_type": "code",
   "execution_count": 35,
   "metadata": {},
   "outputs": [],
   "source": [
    "Y = [[most_popular_heroes.index(i) for i in y] for y in Y_df]"
   ]
  },
  {
   "cell_type": "code",
   "execution_count": 36,
   "metadata": {},
   "outputs": [
    {
     "data": {
      "text/plain": [
       "OneSlackSSVM(C=0.1, break_on_bad=False, cache_tol='auto',\n",
       "             check_constraints=False, inactive_threshold=1e-05,\n",
       "             inactive_window=50, inference_cache=50, logger=None, max_iter=100,\n",
       "             model=EdgeFeatureGraphCRF(n_states: 44, inference_method: qpbo, n_features: 44, n_edge_features: 88),\n",
       "             n_jobs=1, negativity_constraint=None, show_loss_every=0,\n",
       "             switch_to=None, tol=0.1, verbose=0)"
      ]
     },
     "execution_count": 36,
     "metadata": {},
     "output_type": "execute_result"
    }
   ],
   "source": [
    "from pystruct.learners import OneSlackSSVM\n",
    "from pystruct.datasets import load_snakes\n",
    "from pystruct.utils import make_grid_edges, edge_list_to_features\n",
    "from pystruct.models import EdgeFeatureGraphCRF\n",
    "\n",
    "inference = 'qpbo'\n",
    "# first, train on X with directions only:\n",
    "crf = EdgeFeatureGraphCRF(inference_method=inference)\n",
    "ssvm = OneSlackSSVM(crf, inference_cache=50, C=.1, tol=.1, max_iter=100,\n",
    "                    n_jobs=1)\n",
    "ssvm.fit(X_train_edge_features[:500], np.array( Y[:500]) )"
   ]
  },
  {
   "cell_type": "code",
   "execution_count": 30,
   "metadata": {},
   "outputs": [
    {
     "name": "stdout",
     "output_type": "stream",
     "text": [
      "0.21714285714285714\n"
     ]
    }
   ],
   "source": [
    "Y_pred = ssvm.predict(X_train_edge_features[:500])\n",
    "\n",
    "accuracy = lambda Y_pred: np.average([sum(Y_pred[i] == Y[i])/5 for i in range(len(Y_pred))])\n",
    "print(\"Train accuracy: \", accuracy(Y_pred))"
   ]
  },
  {
   "cell_type": "code",
   "execution_count": 31,
   "metadata": {},
   "outputs": [
    {
     "name": "stdout",
     "output_type": "stream",
     "text": [
      "0.04857142857142858\n"
     ]
    }
   ],
   "source": [
    "Y_pred = ssvm.predict(X_train_edge_features[70:140])\n",
    "print(\"Test accuracy: \", accuracy(Y_pred))"
   ]
  },
  {
   "cell_type": "code",
   "execution_count": 15,
   "metadata": {},
   "outputs": [
    {
     "data": {
      "text/plain": [
       "array([ 4,  4,  2,  3, 23], dtype=int32)"
      ]
     },
     "execution_count": 15,
     "metadata": {},
     "output_type": "execute_result"
    }
   ],
   "source": [
    "Y_pred[0]"
   ]
  },
  {
   "cell_type": "code",
   "execution_count": null,
   "metadata": {},
   "outputs": [],
   "source": []
  }
 ],
 "metadata": {
  "kernelspec": {
   "display_name": "Python 3",
   "language": "python",
   "name": "python3"
  },
  "language_info": {
   "codemirror_mode": {
    "name": "ipython",
    "version": 3
   },
   "file_extension": ".py",
   "mimetype": "text/x-python",
   "name": "python",
   "nbconvert_exporter": "python",
   "pygments_lexer": "ipython3",
   "version": "3.6.9"
  }
 },
 "nbformat": 4,
 "nbformat_minor": 2
}
